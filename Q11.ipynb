{
  "nbformat": 4,
  "nbformat_minor": 0,
  "metadata": {
    "colab": {
      "provenance": [],
      "authorship_tag": "ABX9TyN3K/BQ3+jGED0dfiyqURnN",
      "include_colab_link": true
    },
    "kernelspec": {
      "name": "python3",
      "display_name": "Python 3"
    },
    "language_info": {
      "name": "python"
    }
  },
  "cells": [
    {
      "cell_type": "markdown",
      "metadata": {
        "id": "view-in-github",
        "colab_type": "text"
      },
      "source": [
        "<a href=\"https://colab.research.google.com/github/piyushrockzz/ExcelR-Projects-/blob/main/Q11.ipynb\" target=\"_parent\"><img src=\"https://colab.research.google.com/assets/colab-badge.svg\" alt=\"Open In Colab\"/></a>"
      ]
    },
    {
      "cell_type": "code",
      "execution_count": 2,
      "metadata": {
        "id": "lWY6JunBCKD3"
      },
      "outputs": [],
      "source": [
        "import scipy.stats as stats"
      ]
    },
    {
      "cell_type": "code",
      "source": [
        "import math"
      ],
      "metadata": {
        "id": "qfO_HmwACbr4"
      },
      "execution_count": 3,
      "outputs": []
    },
    {
      "cell_type": "code",
      "source": [
        "#to get the values of confidence interval we need sample mean, critical value and squard error value  "
      ],
      "metadata": {
        "id": "kDIyGmQYC1As"
      },
      "execution_count": 4,
      "outputs": []
    },
    {
      "cell_type": "code",
      "source": [
        "sample_mean=200\n",
        "sample_std=30\n",
        "sample_size=2000"
      ],
      "metadata": {
        "id": "IyUlK-1uMfOQ"
      },
      "execution_count": 35,
      "outputs": []
    },
    {
      "cell_type": "code",
      "source": [
        "#calculate error\n",
        "standard_error = 30/math.sqrt(2000)"
      ],
      "metadata": {
        "id": "xN7Yh8t9CY-E"
      },
      "execution_count": 34,
      "outputs": []
    },
    {
      "cell_type": "code",
      "source": [
        "#confidence interval\n",
        "confidence_interval_94 = 0.94\n",
        "confidence_interval_98 = 0.98\n",
        "confidence_interval_96 = 0.96"
      ],
      "metadata": {
        "id": "LI1PEXWyz8ur"
      },
      "execution_count": 33,
      "outputs": []
    },
    {
      "cell_type": "code",
      "source": [
        "critical_value_94=stats.norm.ppf(1+confidence_interval_94/2)\n",
        "critical_value_98=stats.norm.ppf(1+confidence_interval_98/2)\n",
        "critical_value_96=stats.norm.ppf(1+confidence_interval_96/2)"
      ],
      "metadata": {
        "id": "NGF_Y4Dx0Wf7"
      },
      "execution_count": 36,
      "outputs": []
    },
    {
      "cell_type": "code",
      "source": [
        "#calculate  confidence interval\n",
        "confidence_interval_94=sample_mean+critical_value_94*standard_error, 200-critical_value_94*standard_error"
      ],
      "metadata": {
        "id": "bQmx65Jf3UsZ"
      },
      "execution_count": 27,
      "outputs": []
    },
    {
      "cell_type": "code",
      "source": [
        "confidence_interval_98=200+(critical_value_98*standard_error),200-(critical_value_98*standard_error)"
      ],
      "metadata": {
        "id": "f4GtCRIL6mI7"
      },
      "execution_count": 20,
      "outputs": []
    },
    {
      "cell_type": "code",
      "source": [
        "confidence_interval_96=200+(critical_value_96*standard_error),200-(critical_value_96*standard_error)"
      ],
      "metadata": {
        "id": "GGWyZJyS657q"
      },
      "execution_count": 21,
      "outputs": []
    },
    {
      "cell_type": "code",
      "source": [
        "print(\"confidence_interval_94\",confidence_interval_94)\n",
        "print(\"confidence_interval_96\",confidence_interval_96)\n",
        "print(\"confidence_interval_98\",confidence_interval_98)"
      ],
      "metadata": {
        "colab": {
          "base_uri": "https://localhost:8080/"
        },
        "id": "sq1k01Wv6_l_",
        "outputId": "fe9f536a-e386-4edf-f9a7-ceba179af2f0"
      },
      "execution_count": 38,
      "outputs": [
        {
          "output_type": "stream",
          "name": "stdout",
          "text": [
            "confidence_interval_94 0.94\n",
            "confidence_interval_96 0.96\n",
            "confidence_interval_98 0.98\n"
          ]
        }
      ]
    },
    {
      "cell_type": "code",
      "source": [],
      "metadata": {
        "id": "7zlQiwlr9XMb"
      },
      "execution_count": null,
      "outputs": []
    },
    {
      "cell_type": "code",
      "source": [],
      "metadata": {
        "id": "pW907nuB7ytP"
      },
      "execution_count": null,
      "outputs": []
    },
    {
      "cell_type": "code",
      "source": [],
      "metadata": {
        "id": "mUHPlsrL7k8B"
      },
      "execution_count": null,
      "outputs": []
    },
    {
      "cell_type": "code",
      "source": [],
      "metadata": {
        "id": "VWnMPaes7fgP"
      },
      "execution_count": null,
      "outputs": []
    },
    {
      "cell_type": "code",
      "source": [],
      "metadata": {
        "id": "oLzsiD7S64A5"
      },
      "execution_count": null,
      "outputs": []
    },
    {
      "cell_type": "code",
      "source": [],
      "metadata": {
        "id": "O_swaWM23J1m"
      },
      "execution_count": null,
      "outputs": []
    },
    {
      "cell_type": "code",
      "source": [],
      "metadata": {
        "id": "D-stA3JR23gn"
      },
      "execution_count": null,
      "outputs": []
    },
    {
      "cell_type": "code",
      "source": [],
      "metadata": {
        "id": "u0im36Ncroue"
      },
      "execution_count": null,
      "outputs": []
    },
    {
      "cell_type": "code",
      "source": [],
      "metadata": {
        "id": "02XIQcHtrf2s"
      },
      "execution_count": null,
      "outputs": []
    },
    {
      "cell_type": "code",
      "source": [],
      "metadata": {
        "id": "0-JUZPlurVU1"
      },
      "execution_count": null,
      "outputs": []
    },
    {
      "cell_type": "code",
      "source": [],
      "metadata": {
        "id": "GPXxRFFerKHS"
      },
      "execution_count": null,
      "outputs": []
    },
    {
      "cell_type": "code",
      "source": [],
      "metadata": {
        "id": "6UfDFQR6q5Xd"
      },
      "execution_count": null,
      "outputs": []
    },
    {
      "cell_type": "code",
      "source": [],
      "metadata": {
        "id": "bUgKx6DuCUeE"
      },
      "execution_count": null,
      "outputs": []
    },
    {
      "cell_type": "code",
      "source": [],
      "metadata": {
        "id": "ty-VyNFeCSdp"
      },
      "execution_count": null,
      "outputs": []
    }
  ]
}