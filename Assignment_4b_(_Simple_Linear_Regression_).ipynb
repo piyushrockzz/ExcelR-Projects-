{
  "cells": [
    {
      "cell_type": "markdown",
      "metadata": {
        "id": "view-in-github",
        "colab_type": "text"
      },
      "source": [
        "<a href=\"https://colab.research.google.com/github/piyushrockzz/ExcelR-Projects-/blob/main/Assignment_4b_(_Simple_Linear_Regression_).ipynb\" target=\"_parent\"><img src=\"https://colab.research.google.com/assets/colab-badge.svg\" alt=\"Open In Colab\"/></a>"
      ]
    },
    {
      "cell_type": "code",
      "execution_count": null,
      "id": "a1d7345c",
      "metadata": {
        "id": "a1d7345c"
      },
      "outputs": [],
      "source": [
        "# Linear Regression"
      ]
    },
    {
      "cell_type": "code",
      "execution_count": null,
      "id": "23ece961",
      "metadata": {
        "id": "23ece961"
      },
      "outputs": [],
      "source": [
        "import pandas as pd\n",
        "import numpy as np\n",
        "import seaborn as sns\n",
        "import matplotlib.pyplot as plt\n",
        "\n",
        "\n",
        "import statsmodels.formula.api as smf"
      ]
    },
    {
      "cell_type": "markdown",
      "id": "d8800091",
      "metadata": {
        "id": "d8800091"
      },
      "source": [
        "# Question:2 with delivery_time data"
      ]
    },
    {
      "cell_type": "code",
      "execution_count": null,
      "id": "def71305",
      "metadata": {
        "id": "def71305"
      },
      "outputs": [],
      "source": [
        "delivery = pd.read_csv(\"D:\\Excel R Course\\Assignments\\Assignment 4 ( Simple Linear Regression)\\delivery_time.csv\")"
      ]
    },
    {
      "cell_type": "code",
      "execution_count": null,
      "id": "a212087e",
      "metadata": {
        "id": "a212087e",
        "outputId": "9c1238b0-8be9-4137-ee80-96e525fe80aa"
      },
      "outputs": [
        {
          "data": {
            "text/html": [
              "<div>\n",
              "<style scoped>\n",
              "    .dataframe tbody tr th:only-of-type {\n",
              "        vertical-align: middle;\n",
              "    }\n",
              "\n",
              "    .dataframe tbody tr th {\n",
              "        vertical-align: top;\n",
              "    }\n",
              "\n",
              "    .dataframe thead th {\n",
              "        text-align: right;\n",
              "    }\n",
              "</style>\n",
              "<table border=\"1\" class=\"dataframe\">\n",
              "  <thead>\n",
              "    <tr style=\"text-align: right;\">\n",
              "      <th></th>\n",
              "      <th>Delivery Time</th>\n",
              "      <th>Sorting Time</th>\n",
              "    </tr>\n",
              "  </thead>\n",
              "  <tbody>\n",
              "    <tr>\n",
              "      <th>0</th>\n",
              "      <td>21.00</td>\n",
              "      <td>10</td>\n",
              "    </tr>\n",
              "    <tr>\n",
              "      <th>1</th>\n",
              "      <td>13.50</td>\n",
              "      <td>4</td>\n",
              "    </tr>\n",
              "    <tr>\n",
              "      <th>2</th>\n",
              "      <td>19.75</td>\n",
              "      <td>6</td>\n",
              "    </tr>\n",
              "    <tr>\n",
              "      <th>3</th>\n",
              "      <td>24.00</td>\n",
              "      <td>9</td>\n",
              "    </tr>\n",
              "    <tr>\n",
              "      <th>4</th>\n",
              "      <td>29.00</td>\n",
              "      <td>10</td>\n",
              "    </tr>\n",
              "  </tbody>\n",
              "</table>\n",
              "</div>"
            ],
            "text/plain": [
              "   Delivery Time  Sorting Time\n",
              "0          21.00            10\n",
              "1          13.50             4\n",
              "2          19.75             6\n",
              "3          24.00             9\n",
              "4          29.00            10"
            ]
          },
          "execution_count": 3,
          "metadata": {},
          "output_type": "execute_result"
        }
      ],
      "source": [
        "delivery.head()"
      ]
    },
    {
      "cell_type": "markdown",
      "id": "2416a6be",
      "metadata": {
        "id": "2416a6be"
      },
      "source": [
        "# EDA and Data Visualization"
      ]
    },
    {
      "cell_type": "code",
      "execution_count": null,
      "id": "4e57b86a",
      "metadata": {
        "id": "4e57b86a",
        "outputId": "4106ebda-d7f9-42f9-f7cc-6fcba9b62f3d"
      },
      "outputs": [
        {
          "name": "stdout",
          "output_type": "stream",
          "text": [
            "<class 'pandas.core.frame.DataFrame'>\n",
            "RangeIndex: 21 entries, 0 to 20\n",
            "Data columns (total 2 columns):\n",
            " #   Column         Non-Null Count  Dtype  \n",
            "---  ------         --------------  -----  \n",
            " 0   Delivery Time  21 non-null     float64\n",
            " 1   Sorting Time   21 non-null     int64  \n",
            "dtypes: float64(1), int64(1)\n",
            "memory usage: 464.0 bytes\n"
          ]
        }
      ],
      "source": [
        "delivery.info()"
      ]
    },
    {
      "cell_type": "code",
      "execution_count": null,
      "id": "6e24edfc",
      "metadata": {
        "id": "6e24edfc"
      },
      "outputs": [],
      "source": [
        "delivery = delivery.rename({'Delivery Time' : 'delivery_time', 'Sorting Time': 'sorting_time'},axis = True)"
      ]
    },
    {
      "cell_type": "code",
      "execution_count": null,
      "id": "4fe94792",
      "metadata": {
        "id": "4fe94792",
        "outputId": "db60d4c2-6a4c-4c02-fcd8-c48223a5489e"
      },
      "outputs": [
        {
          "data": {
            "text/html": [
              "<div>\n",
              "<style scoped>\n",
              "    .dataframe tbody tr th:only-of-type {\n",
              "        vertical-align: middle;\n",
              "    }\n",
              "\n",
              "    .dataframe tbody tr th {\n",
              "        vertical-align: top;\n",
              "    }\n",
              "\n",
              "    .dataframe thead th {\n",
              "        text-align: right;\n",
              "    }\n",
              "</style>\n",
              "<table border=\"1\" class=\"dataframe\">\n",
              "  <thead>\n",
              "    <tr style=\"text-align: right;\">\n",
              "      <th></th>\n",
              "      <th>delivery_time</th>\n",
              "      <th>sorting_time</th>\n",
              "    </tr>\n",
              "  </thead>\n",
              "  <tbody>\n",
              "    <tr>\n",
              "      <th>0</th>\n",
              "      <td>21.00</td>\n",
              "      <td>10</td>\n",
              "    </tr>\n",
              "    <tr>\n",
              "      <th>1</th>\n",
              "      <td>13.50</td>\n",
              "      <td>4</td>\n",
              "    </tr>\n",
              "    <tr>\n",
              "      <th>2</th>\n",
              "      <td>19.75</td>\n",
              "      <td>6</td>\n",
              "    </tr>\n",
              "    <tr>\n",
              "      <th>3</th>\n",
              "      <td>24.00</td>\n",
              "      <td>9</td>\n",
              "    </tr>\n",
              "    <tr>\n",
              "      <th>4</th>\n",
              "      <td>29.00</td>\n",
              "      <td>10</td>\n",
              "    </tr>\n",
              "  </tbody>\n",
              "</table>\n",
              "</div>"
            ],
            "text/plain": [
              "   delivery_time  sorting_time\n",
              "0          21.00            10\n",
              "1          13.50             4\n",
              "2          19.75             6\n",
              "3          24.00             9\n",
              "4          29.00            10"
            ]
          },
          "execution_count": 9,
          "metadata": {},
          "output_type": "execute_result"
        }
      ],
      "source": [
        "delivery.head()"
      ]
    },
    {
      "cell_type": "code",
      "execution_count": null,
      "id": "58785220",
      "metadata": {
        "id": "58785220",
        "outputId": "c48b907c-07ef-49af-c007-5f5995815e17"
      },
      "outputs": [
        {
          "name": "stderr",
          "output_type": "stream",
          "text": [
            "C:\\ProgramData\\Anaconda3\\lib\\site-packages\\seaborn\\distributions.py:2619: FutureWarning: `distplot` is a deprecated function and will be removed in a future version. Please adapt your code to use either `displot` (a figure-level function with similar flexibility) or `histplot` (an axes-level function for histograms).\n",
            "  warnings.warn(msg, FutureWarning)\n"
          ]
        },
        {
          "data": {
            "image/png": "[encoded data removed]",
            "text/plain": [
              "<Figure size 640x480 with 1 Axes>"
            ]
          },
          "metadata": {},
          "output_type": "display_data"
        }
      ],
      "source": [
        "sns.distplot(delivery.delivery_time)\n",
        "plt.show()"
      ]
    },
    {
      "cell_type": "code",
      "execution_count": null,
      "id": "d8db38bf",
      "metadata": {
        "id": "d8db38bf",
        "outputId": "42a9b3ec-30b3-4b26-fa61-ba2e446be727"
      },
      "outputs": [
        {
          "name": "stderr",
          "output_type": "stream",
          "text": [
            "C:\\ProgramData\\Anaconda3\\lib\\site-packages\\seaborn\\distributions.py:2619: FutureWarning: `distplot` is a deprecated function and will be removed in a future version. Please adapt your code to use either `displot` (a figure-level function with similar flexibility) or `histplot` (an axes-level function for histograms).\n",
            "  warnings.warn(msg, FutureWarning)\n"
          ]
        },
        {
          "data": {
            "image/png": "[encoded data removed]",
            "text/plain": [
              "<Figure size 640x480 with 1 Axes>"
            ]
          },
          "metadata": {},
          "output_type": "display_data"
        }
      ],
      "source": [
        "sns.distplot(delivery.sorting_time)\n",
        "plt.show()"
      ]
    },
    {
      "cell_type": "code",
      "execution_count": null,
      "id": "d94564df",
      "metadata": {
        "id": "d94564df",
        "outputId": "a5210d0a-f6ff-48d0-9869-143f5bb3f436"
      },
      "outputs": [
        {
          "data": {
            "image/png": "[encoded data removed]",
            "text/plain": [
              "<Figure size 640x480 with 1 Axes>"
            ]
          },
          "metadata": {},
          "output_type": "display_data"
        }
      ],
      "source": [
        "plt.boxplot(delivery.delivery_time)\n",
        "plt.show()"
      ]
    },
    {
      "cell_type": "code",
      "execution_count": null,
      "id": "03d6c915",
      "metadata": {
        "id": "03d6c915",
        "outputId": "b50eeb14-be58-4f35-f855-5c38c8c50821"
      },
      "outputs": [
        {
          "data": {
            "text/plain": [
              "<seaborn.axisgrid.PairGrid at 0x20ff3224c10>"
            ]
          },
          "execution_count": 8,
          "metadata": {},
          "output_type": "execute_result"
        },
        {
          "data": {
            "image/png": "[encoded data removed]",
            "text/plain": [
              "<Figure size 500x500 with 6 Axes>"
            ]
          },
          "metadata": {},
          "output_type": "display_data"
        }
      ],
      "source": [
        "sns.pairplot(delivery)"
      ]
    },
    {
      "cell_type": "code",
      "execution_count": null,
      "id": "fc20b68f",
      "metadata": {
        "id": "fc20b68f",
        "outputId": "4396ebf9-c06a-44af-b2cf-e2925c31a9a6"
      },
      "outputs": [
        {
          "data": {
            "text/plain": [
              "<AxesSubplot:xlabel='delivery_time', ylabel='sorting_time'>"
            ]
          },
          "execution_count": 19,
          "metadata": {},
          "output_type": "execute_result"
        },
        {
          "data": {
            "image/png": "[encoded data removed]",
            "text/plain": [
              "<Figure size 640x480 with 1 Axes>"
            ]
          },
          "metadata": {},
          "output_type": "display_data"
        }
      ],
      "source": [
        "sns.regplot(x = delivery.delivery_time, y = delivery.sorting_time)"
      ]
    },
    {
      "cell_type": "code",
      "execution_count": null,
      "id": "d8111386",
      "metadata": {
        "id": "d8111386",
        "outputId": "8144b0de-6703-4b95-d9c1-3998f462dde7"
      },
      "outputs": [
        {
          "data": {
            "text/plain": [
              "0.7939062801002797"
            ]
          },
          "execution_count": 42,
          "metadata": {},
          "output_type": "execute_result"
        }
      ],
      "source": [
        "delivery.sorting_time.corr(delivery.delivery_time)   # correlation value between X and Ys"
      ]
    },
    {
      "cell_type": "code",
      "execution_count": null,
      "id": "7f6458a5",
      "metadata": {
        "id": "7f6458a5",
        "outputId": "cb58579d-490c-4cfe-c23f-aa2b0c143a01"
      },
      "outputs": [
        {
          "data": {
            "text/html": [
              "<div>\n",
              "<style scoped>\n",
              "    .dataframe tbody tr th:only-of-type {\n",
              "        vertical-align: middle;\n",
              "    }\n",
              "\n",
              "    .dataframe tbody tr th {\n",
              "        vertical-align: top;\n",
              "    }\n",
              "\n",
              "    .dataframe thead th {\n",
              "        text-align: right;\n",
              "    }\n",
              "</style>\n",
              "<table border=\"1\" class=\"dataframe\">\n",
              "  <thead>\n",
              "    <tr style=\"text-align: right;\">\n",
              "      <th></th>\n",
              "      <th>delivery_time</th>\n",
              "      <th>sorting_time</th>\n",
              "    </tr>\n",
              "  </thead>\n",
              "  <tbody>\n",
              "    <tr>\n",
              "      <th>delivery_time</th>\n",
              "      <td>1.000000</td>\n",
              "      <td>0.825997</td>\n",
              "    </tr>\n",
              "    <tr>\n",
              "      <th>sorting_time</th>\n",
              "      <td>0.825997</td>\n",
              "      <td>1.000000</td>\n",
              "    </tr>\n",
              "  </tbody>\n",
              "</table>\n",
              "</div>"
            ],
            "text/plain": [
              "               delivery_time  sorting_time\n",
              "delivery_time       1.000000      0.825997\n",
              "sorting_time        0.825997      1.000000"
            ]
          },
          "execution_count": 26,
          "metadata": {},
          "output_type": "execute_result"
        }
      ],
      "source": [
        "delivery.corr()"
      ]
    },
    {
      "cell_type": "code",
      "execution_count": null,
      "id": "dad327a8",
      "metadata": {
        "id": "dad327a8"
      },
      "outputs": [],
      "source": []
    },
    {
      "cell_type": "markdown",
      "id": "dbef123d",
      "metadata": {
        "id": "dbef123d"
      },
      "source": [
        "# Model Building"
      ]
    },
    {
      "cell_type": "code",
      "execution_count": null,
      "id": "4e7c05b6",
      "metadata": {
        "id": "4e7c05b6"
      },
      "outputs": [],
      "source": [
        "# Linear Model\n",
        "\n",
        "import statsmodels.formula.api as smf\n",
        "\n",
        "model = smf.ols('delivery_time~sorting_time', data = delivery).fit()"
      ]
    },
    {
      "cell_type": "markdown",
      "id": "d53fde1d",
      "metadata": {
        "id": "d53fde1d"
      },
      "source": [
        "# Model Testing"
      ]
    },
    {
      "cell_type": "code",
      "execution_count": null,
      "id": "d980452c",
      "metadata": {
        "id": "d980452c",
        "outputId": "79a0f1a4-3055-48b5-a4a1-17d720b6a315"
      },
      "outputs": [
        {
          "data": {
            "text/plain": [
              "Intercept       6.582734\n",
              "sorting_time    1.649020\n",
              "dtype: float64"
            ]
          },
          "execution_count": 28,
          "metadata": {},
          "output_type": "execute_result"
        }
      ],
      "source": [
        "model.params"
      ]
    },
    {
      "cell_type": "code",
      "execution_count": null,
      "id": "62dba6ff",
      "metadata": {
        "id": "62dba6ff",
        "outputId": "03b8bec8-6d52-4442-ae48-c69ad49782d3"
      },
      "outputs": [
        {
          "data": {
            "text/plain": [
              "(0.6822714748417231, 0.6655489208860244)"
            ]
          },
          "execution_count": 29,
          "metadata": {},
          "output_type": "execute_result"
        }
      ],
      "source": [
        "model.rsquared, model.rsquared_adj   # efficency/accuaracy of good fit\n"
      ]
    },
    {
      "cell_type": "code",
      "execution_count": null,
      "id": "778d053f",
      "metadata": {
        "id": "778d053f",
        "outputId": "97dcb709-0824-4f56-b4f9-40e23f5374bb"
      },
      "outputs": [
        {
          "data": {
            "text/plain": [
              "(Intercept       3.823349\n",
              " sorting_time    6.387447\n",
              " dtype: float64,\n",
              " Intercept       0.001147\n",
              " sorting_time    0.000004\n",
              " dtype: float64)"
            ]
          },
          "execution_count": 30,
          "metadata": {},
          "output_type": "execute_result"
        }
      ],
      "source": [
        "model.tvalues, model.pvalues"
      ]
    },
    {
      "cell_type": "code",
      "execution_count": null,
      "id": "59d38501",
      "metadata": {
        "id": "59d38501",
        "outputId": "80ad3a68-367b-4223-c0e9-0aa7666903cd"
      },
      "outputs": [
        {
          "data": {
            "text/html": [
              "<table class=\"simpletable\">\n",
              "<caption>OLS Regression Results</caption>\n",
              "<tr>\n",
              "  <th>Dep. Variable:</th>      <td>delivery_time</td>  <th>  R-squared:         </th> <td>   0.682</td>\n",
              "</tr>\n",
              "<tr>\n",
              "  <th>Model:</th>                   <td>OLS</td>       <th>  Adj. R-squared:    </th> <td>   0.666</td>\n",
              "</tr>\n",
              "<tr>\n",
              "  <th>Method:</th>             <td>Least Squares</td>  <th>  F-statistic:       </th> <td>   40.80</td>\n",
              "</tr>\n",
              "<tr>\n",
              "  <th>Date:</th>             <td>Wed, 14 Jun 2023</td> <th>  Prob (F-statistic):</th> <td>3.98e-06</td>\n",
              "</tr>\n",
              "<tr>\n",
              "  <th>Time:</th>                 <td>16:30:58</td>     <th>  Log-Likelihood:    </th> <td> -51.357</td>\n",
              "</tr>\n",
              "<tr>\n",
              "  <th>No. Observations:</th>      <td>    21</td>      <th>  AIC:               </th> <td>   106.7</td>\n",
              "</tr>\n",
              "<tr>\n",
              "  <th>Df Residuals:</th>          <td>    19</td>      <th>  BIC:               </th> <td>   108.8</td>\n",
              "</tr>\n",
              "<tr>\n",
              "  <th>Df Model:</th>              <td>     1</td>      <th>                     </th>     <td> </td>   \n",
              "</tr>\n",
              "<tr>\n",
              "  <th>Covariance Type:</th>      <td>nonrobust</td>    <th>                     </th>     <td> </td>   \n",
              "</tr>\n",
              "</table>\n",
              "<table class=\"simpletable\">\n",
              "<tr>\n",
              "        <td></td>          <th>coef</th>     <th>std err</th>      <th>t</th>      <th>P>|t|</th>  <th>[0.025</th>    <th>0.975]</th>  \n",
              "</tr>\n",
              "<tr>\n",
              "  <th>Intercept</th>    <td>    6.5827</td> <td>    1.722</td> <td>    3.823</td> <td> 0.001</td> <td>    2.979</td> <td>   10.186</td>\n",
              "</tr>\n",
              "<tr>\n",
              "  <th>sorting_time</th> <td>    1.6490</td> <td>    0.258</td> <td>    6.387</td> <td> 0.000</td> <td>    1.109</td> <td>    2.189</td>\n",
              "</tr>\n",
              "</table>\n",
              "<table class=\"simpletable\">\n",
              "<tr>\n",
              "  <th>Omnibus:</th>       <td> 3.649</td> <th>  Durbin-Watson:     </th> <td>   1.248</td>\n",
              "</tr>\n",
              "<tr>\n",
              "  <th>Prob(Omnibus):</th> <td> 0.161</td> <th>  Jarque-Bera (JB):  </th> <td>   2.086</td>\n",
              "</tr>\n",
              "<tr>\n",
              "  <th>Skew:</th>          <td> 0.750</td> <th>  Prob(JB):          </th> <td>   0.352</td>\n",
              "</tr>\n",
              "<tr>\n",
              "  <th>Kurtosis:</th>      <td> 3.367</td> <th>  Cond. No.          </th> <td>    18.3</td>\n",
              "</tr>\n",
              "</table><br/><br/>Notes:<br/>[1] Standard Errors assume that the covariance matrix of the errors is correctly specified."
            ],
            "text/plain": [
              "<class 'statsmodels.iolib.summary.Summary'>\n",
              "\"\"\"\n",
              "                            OLS Regression Results                            \n",
              "==============================================================================\n",
              "Dep. Variable:          delivery_time   R-squared:                       0.682\n",
              "Model:                            OLS   Adj. R-squared:                  0.666\n",
              "Method:                 Least Squares   F-statistic:                     40.80\n",
              "Date:                Wed, 14 Jun 2023   Prob (F-statistic):           3.98e-06\n",
              "Time:                        16:30:58   Log-Likelihood:                -51.357\n",
              "No. Observations:                  21   AIC:                             106.7\n",
              "Df Residuals:                      19   BIC:                             108.8\n",
              "Df Model:                           1                                         \n",
              "Covariance Type:            nonrobust                                         \n",
              "================================================================================\n",
              "                   coef    std err          t      P>|t|      [0.025      0.975]\n",
              "--------------------------------------------------------------------------------\n",
              "Intercept        6.5827      1.722      3.823      0.001       2.979      10.186\n",
              "sorting_time     1.6490      0.258      6.387      0.000       1.109       2.189\n",
              "==============================================================================\n",
              "Omnibus:                        3.649   Durbin-Watson:                   1.248\n",
              "Prob(Omnibus):                  0.161   Jarque-Bera (JB):                2.086\n",
              "Skew:                           0.750   Prob(JB):                        0.352\n",
              "Kurtosis:                       3.367   Cond. No.                         18.3\n",
              "==============================================================================\n",
              "\n",
              "Notes:\n",
              "[1] Standard Errors assume that the covariance matrix of the errors is correctly specified.\n",
              "\"\"\""
            ]
          },
          "execution_count": 10,
          "metadata": {},
          "output_type": "execute_result"
        }
      ],
      "source": [
        "model.summary()"
      ]
    },
    {
      "cell_type": "markdown",
      "id": "aa52e7ab",
      "metadata": {
        "id": "aa52e7ab"
      },
      "source": [
        "# Model prediction"
      ]
    },
    {
      "cell_type": "code",
      "execution_count": null,
      "id": "46fec386",
      "metadata": {
        "id": "46fec386",
        "outputId": "acfab7f8-0e4c-4aec-85e2-ed08959a30dc"
      },
      "outputs": [
        {
          "data": {
            "text/plain": [
              "41.158770000000004"
            ]
          },
          "execution_count": 43,
          "metadata": {},
          "output_type": "execute_result"
        }
      ],
      "source": [
        "pred = ( 6.582734 + 1.649020)*5\n",
        "pred"
      ]
    },
    {
      "cell_type": "code",
      "execution_count": null,
      "id": "6cdde175",
      "metadata": {
        "id": "6cdde175",
        "outputId": "3c560665-3321-41d2-c1ac-6a54d1209387"
      },
      "outputs": [
        {
          "data": {
            "text/plain": [
              "array([23.07293294, 13.17881356, 16.47685335, 21.42391304, 23.07293294,\n",
              "       16.47685335, 18.12587325, 11.52979366, 23.07293294, 21.42391304,\n",
              "       19.77489315, 13.17881356, 18.12587325, 11.52979366, 11.52979366,\n",
              "       13.17881356, 16.47685335, 18.12587325,  9.88077377, 18.12587325,\n",
              "       14.82783346])"
            ]
          },
          "execution_count": 46,
          "metadata": {},
          "output_type": "execute_result"
        }
      ],
      "source": [
        "pred1 = model.predict()\n",
        "pred1"
      ]
    },
    {
      "cell_type": "markdown",
      "id": "5f2bb578",
      "metadata": {
        "id": "5f2bb578"
      },
      "source": [
        "# Transforming variables for accuracy"
      ]
    },
    {
      "cell_type": "markdown",
      "id": "c2ddda5b",
      "metadata": {
        "id": "c2ddda5b"
      },
      "source": [
        "# 1. Log Transformation"
      ]
    },
    {
      "cell_type": "code",
      "execution_count": null,
      "id": "5ef5c1c5",
      "metadata": {
        "id": "5ef5c1c5"
      },
      "outputs": [],
      "source": [
        "model2 = smf.ols(\"delivery_time~np.log(sorting_time)\", data = delivery).fit()"
      ]
    },
    {
      "cell_type": "code",
      "execution_count": null,
      "id": "3bff61aa",
      "metadata": {
        "id": "3bff61aa",
        "outputId": "454d7115-31f1-4213-b9b4-d058364031e3"
      },
      "outputs": [
        {
          "data": {
            "text/plain": [
              "Intercept               1.159684\n",
              "np.log(sorting_time)    9.043413\n",
              "dtype: float64"
            ]
          },
          "execution_count": 12,
          "metadata": {},
          "output_type": "execute_result"
        }
      ],
      "source": [
        "model2.params"
      ]
    },
    {
      "cell_type": "code",
      "execution_count": null,
      "id": "c5b7dfda",
      "metadata": {
        "id": "c5b7dfda",
        "outputId": "ef433a4b-2e61-40b6-8c3b-5c94e058b404"
      },
      "outputs": [
        {
          "data": {
            "text/html": [
              "<table class=\"simpletable\">\n",
              "<caption>OLS Regression Results</caption>\n",
              "<tr>\n",
              "  <th>Dep. Variable:</th>      <td>delivery_time</td>  <th>  R-squared:         </th> <td>   0.695</td>\n",
              "</tr>\n",
              "<tr>\n",
              "  <th>Model:</th>                   <td>OLS</td>       <th>  Adj. R-squared:    </th> <td>   0.679</td>\n",
              "</tr>\n",
              "<tr>\n",
              "  <th>Method:</th>             <td>Least Squares</td>  <th>  F-statistic:       </th> <td>   43.39</td>\n",
              "</tr>\n",
              "<tr>\n",
              "  <th>Date:</th>             <td>Wed, 14 Jun 2023</td> <th>  Prob (F-statistic):</th> <td>2.64e-06</td>\n",
              "</tr>\n",
              "<tr>\n",
              "  <th>Time:</th>                 <td>16:36:13</td>     <th>  Log-Likelihood:    </th> <td> -50.912</td>\n",
              "</tr>\n",
              "<tr>\n",
              "  <th>No. Observations:</th>      <td>    21</td>      <th>  AIC:               </th> <td>   105.8</td>\n",
              "</tr>\n",
              "<tr>\n",
              "  <th>Df Residuals:</th>          <td>    19</td>      <th>  BIC:               </th> <td>   107.9</td>\n",
              "</tr>\n",
              "<tr>\n",
              "  <th>Df Model:</th>              <td>     1</td>      <th>                     </th>     <td> </td>   \n",
              "</tr>\n",
              "<tr>\n",
              "  <th>Covariance Type:</th>      <td>nonrobust</td>    <th>                     </th>     <td> </td>   \n",
              "</tr>\n",
              "</table>\n",
              "<table class=\"simpletable\">\n",
              "<tr>\n",
              "            <td></td>              <th>coef</th>     <th>std err</th>      <th>t</th>      <th>P>|t|</th>  <th>[0.025</th>    <th>0.975]</th>  \n",
              "</tr>\n",
              "<tr>\n",
              "  <th>Intercept</th>            <td>    1.1597</td> <td>    2.455</td> <td>    0.472</td> <td> 0.642</td> <td>   -3.978</td> <td>    6.297</td>\n",
              "</tr>\n",
              "<tr>\n",
              "  <th>np.log(sorting_time)</th> <td>    9.0434</td> <td>    1.373</td> <td>    6.587</td> <td> 0.000</td> <td>    6.170</td> <td>   11.917</td>\n",
              "</tr>\n",
              "</table>\n",
              "<table class=\"simpletable\">\n",
              "<tr>\n",
              "  <th>Omnibus:</th>       <td> 5.552</td> <th>  Durbin-Watson:     </th> <td>   1.427</td>\n",
              "</tr>\n",
              "<tr>\n",
              "  <th>Prob(Omnibus):</th> <td> 0.062</td> <th>  Jarque-Bera (JB):  </th> <td>   3.481</td>\n",
              "</tr>\n",
              "<tr>\n",
              "  <th>Skew:</th>          <td> 0.946</td> <th>  Prob(JB):          </th> <td>   0.175</td>\n",
              "</tr>\n",
              "<tr>\n",
              "  <th>Kurtosis:</th>      <td> 3.628</td> <th>  Cond. No.          </th> <td>    9.08</td>\n",
              "</tr>\n",
              "</table><br/><br/>Notes:<br/>[1] Standard Errors assume that the covariance matrix of the errors is correctly specified."
            ],
            "text/plain": [
              "<class 'statsmodels.iolib.summary.Summary'>\n",
              "\"\"\"\n",
              "                            OLS Regression Results                            \n",
              "==============================================================================\n",
              "Dep. Variable:          delivery_time   R-squared:                       0.695\n",
              "Model:                            OLS   Adj. R-squared:                  0.679\n",
              "Method:                 Least Squares   F-statistic:                     43.39\n",
              "Date:                Wed, 14 Jun 2023   Prob (F-statistic):           2.64e-06\n",
              "Time:                        16:36:13   Log-Likelihood:                -50.912\n",
              "No. Observations:                  21   AIC:                             105.8\n",
              "Df Residuals:                      19   BIC:                             107.9\n",
              "Df Model:                           1                                         \n",
              "Covariance Type:            nonrobust                                         \n",
              "========================================================================================\n",
              "                           coef    std err          t      P>|t|      [0.025      0.975]\n",
              "----------------------------------------------------------------------------------------\n",
              "Intercept                1.1597      2.455      0.472      0.642      -3.978       6.297\n",
              "np.log(sorting_time)     9.0434      1.373      6.587      0.000       6.170      11.917\n",
              "==============================================================================\n",
              "Omnibus:                        5.552   Durbin-Watson:                   1.427\n",
              "Prob(Omnibus):                  0.062   Jarque-Bera (JB):                3.481\n",
              "Skew:                           0.946   Prob(JB):                        0.175\n",
              "Kurtosis:                       3.628   Cond. No.                         9.08\n",
              "==============================================================================\n",
              "\n",
              "Notes:\n",
              "[1] Standard Errors assume that the covariance matrix of the errors is correctly specified.\n",
              "\"\"\""
            ]
          },
          "execution_count": 13,
          "metadata": {},
          "output_type": "execute_result"
        }
      ],
      "source": [
        "model2.summary()"
      ]
    },
    {
      "cell_type": "code",
      "execution_count": null,
      "id": "38b26c7f",
      "metadata": {
        "id": "38b26c7f",
        "outputId": "71b15a6f-73a5-4750-df02-d7f11b5b0dc0"
      },
      "outputs": [
        {
          "data": {
            "text/html": [
              "<div>\n",
              "<style scoped>\n",
              "    .dataframe tbody tr th:only-of-type {\n",
              "        vertical-align: middle;\n",
              "    }\n",
              "\n",
              "    .dataframe tbody tr th {\n",
              "        vertical-align: top;\n",
              "    }\n",
              "\n",
              "    .dataframe thead th {\n",
              "        text-align: right;\n",
              "    }\n",
              "</style>\n",
              "<table border=\"1\" class=\"dataframe\">\n",
              "  <thead>\n",
              "    <tr style=\"text-align: right;\">\n",
              "      <th></th>\n",
              "      <th>0</th>\n",
              "      <th>1</th>\n",
              "    </tr>\n",
              "  </thead>\n",
              "  <tbody>\n",
              "    <tr>\n",
              "      <th>Intercept</th>\n",
              "      <td>-3.97778</td>\n",
              "      <td>6.297147</td>\n",
              "    </tr>\n",
              "    <tr>\n",
              "      <th>np.log(sorting_time)</th>\n",
              "      <td>6.16977</td>\n",
              "      <td>11.917057</td>\n",
              "    </tr>\n",
              "  </tbody>\n",
              "</table>\n",
              "</div>"
            ],
            "text/plain": [
              "                            0          1\n",
              "Intercept            -3.97778   6.297147\n",
              "np.log(sorting_time)  6.16977  11.917057"
            ]
          },
          "execution_count": 47,
          "metadata": {},
          "output_type": "execute_result"
        }
      ],
      "source": [
        "model2.conf_int(0.05)"
      ]
    },
    {
      "cell_type": "code",
      "execution_count": null,
      "id": "fb100cfb",
      "metadata": {
        "id": "fb100cfb",
        "outputId": "f4e10b13-465e-4685-9e35-d19319c4eafe"
      },
      "outputs": [
        {
          "data": {
            "text/plain": [
              "0     21.982913\n",
              "1     13.696517\n",
              "2     17.363305\n",
              "3     21.030094\n",
              "4     21.982913\n",
              "5     17.363305\n",
              "6     18.757354\n",
              "7     11.094889\n",
              "8     21.982913\n",
              "9     21.030094\n",
              "10    19.964933\n",
              "11    13.696517\n",
              "12    18.757354\n",
              "13    11.094889\n",
              "14    11.094889\n",
              "15    13.696517\n",
              "16    17.363305\n",
              "17    18.757354\n",
              "18     7.428100\n",
              "19    18.757354\n",
              "20    15.714496\n",
              "dtype: float64"
            ]
          },
          "execution_count": 18,
          "metadata": {},
          "output_type": "execute_result"
        }
      ],
      "source": [
        "pred2 = model2.predict(pd.DataFrame(delivery.sorting_time))\n",
        "\n",
        "pred2"
      ]
    },
    {
      "cell_type": "code",
      "execution_count": null,
      "id": "6001d3ad",
      "metadata": {
        "id": "6001d3ad",
        "outputId": "9560b211-d832-478f-8269-98d7e6b0d9a4"
      },
      "outputs": [
        {
          "data": {
            "text/plain": [
              "Text(0, 0.5, 'Sorting Time')"
            ]
          },
          "execution_count": 49,
          "metadata": {},
          "output_type": "execute_result"
        },
        {
          "data": {
            "image/png": "[encoded data removed]",
            "text/plain": [
              "<Figure size 640x480 with 1 Axes>"
            ]
          },
          "metadata": {},
          "output_type": "display_data"
        }
      ],
      "source": [
        "plt.scatter(x = delivery['delivery_time'], y = delivery['sorting_time'],color='green');\n",
        "plt.plot(delivery['delivery_time'],pred2,color='pink');\n",
        "plt.xlabel('Delivery_Time');\n",
        "plt.ylabel('Sorting Time')"
      ]
    },
    {
      "cell_type": "markdown",
      "id": "eaf7f208",
      "metadata": {
        "id": "eaf7f208"
      },
      "source": [
        "# 2. Exponential transformation"
      ]
    },
    {
      "cell_type": "code",
      "execution_count": null,
      "id": "caf35528",
      "metadata": {
        "id": "caf35528"
      },
      "outputs": [],
      "source": [
        "model3 = smf.ols('np.log(delivery_time)~sorting_time', data = delivery).fit()"
      ]
    },
    {
      "cell_type": "code",
      "execution_count": null,
      "id": "45cc0787",
      "metadata": {
        "id": "45cc0787",
        "outputId": "66e56ef7-14c4-4386-aef5-ce0747071e35"
      },
      "outputs": [
        {
          "data": {
            "text/plain": [
              "Intercept       2.121372\n",
              "sorting_time    0.105552\n",
              "dtype: float64"
            ]
          },
          "execution_count": 23,
          "metadata": {},
          "output_type": "execute_result"
        }
      ],
      "source": [
        "model3.params"
      ]
    },
    {
      "cell_type": "code",
      "execution_count": null,
      "id": "9f4f5ed6",
      "metadata": {
        "id": "9f4f5ed6",
        "outputId": "6f617d8b-ec6d-4ffc-9a04-3bbadbe38c25"
      },
      "outputs": [
        {
          "data": {
            "text/html": [
              "<table class=\"simpletable\">\n",
              "<caption>OLS Regression Results</caption>\n",
              "<tr>\n",
              "  <th>Dep. Variable:</th>    <td>np.log(delivery_time)</td> <th>  R-squared:         </th> <td>   0.711</td>\n",
              "</tr>\n",
              "<tr>\n",
              "  <th>Model:</th>                     <td>OLS</td>          <th>  Adj. R-squared:    </th> <td>   0.696</td>\n",
              "</tr>\n",
              "<tr>\n",
              "  <th>Method:</th>               <td>Least Squares</td>     <th>  F-statistic:       </th> <td>   46.73</td>\n",
              "</tr>\n",
              "<tr>\n",
              "  <th>Date:</th>               <td>Wed, 14 Jun 2023</td>    <th>  Prob (F-statistic):</th> <td>1.59e-06</td>\n",
              "</tr>\n",
              "<tr>\n",
              "  <th>Time:</th>                   <td>16:47:01</td>        <th>  Log-Likelihood:    </th> <td>  7.7920</td>\n",
              "</tr>\n",
              "<tr>\n",
              "  <th>No. Observations:</th>        <td>    21</td>         <th>  AIC:               </th> <td>  -11.58</td>\n",
              "</tr>\n",
              "<tr>\n",
              "  <th>Df Residuals:</th>            <td>    19</td>         <th>  BIC:               </th> <td>  -9.495</td>\n",
              "</tr>\n",
              "<tr>\n",
              "  <th>Df Model:</th>                <td>     1</td>         <th>                     </th>     <td> </td>   \n",
              "</tr>\n",
              "<tr>\n",
              "  <th>Covariance Type:</th>        <td>nonrobust</td>       <th>                     </th>     <td> </td>   \n",
              "</tr>\n",
              "</table>\n",
              "<table class=\"simpletable\">\n",
              "<tr>\n",
              "        <td></td>          <th>coef</th>     <th>std err</th>      <th>t</th>      <th>P>|t|</th>  <th>[0.025</th>    <th>0.975]</th>  \n",
              "</tr>\n",
              "<tr>\n",
              "  <th>Intercept</th>    <td>    2.1214</td> <td>    0.103</td> <td>   20.601</td> <td> 0.000</td> <td>    1.906</td> <td>    2.337</td>\n",
              "</tr>\n",
              "<tr>\n",
              "  <th>sorting_time</th> <td>    0.1056</td> <td>    0.015</td> <td>    6.836</td> <td> 0.000</td> <td>    0.073</td> <td>    0.138</td>\n",
              "</tr>\n",
              "</table>\n",
              "<table class=\"simpletable\">\n",
              "<tr>\n",
              "  <th>Omnibus:</th>       <td> 1.238</td> <th>  Durbin-Watson:     </th> <td>   1.325</td>\n",
              "</tr>\n",
              "<tr>\n",
              "  <th>Prob(Omnibus):</th> <td> 0.538</td> <th>  Jarque-Bera (JB):  </th> <td>   0.544</td>\n",
              "</tr>\n",
              "<tr>\n",
              "  <th>Skew:</th>          <td> 0.393</td> <th>  Prob(JB):          </th> <td>   0.762</td>\n",
              "</tr>\n",
              "<tr>\n",
              "  <th>Kurtosis:</th>      <td> 3.067</td> <th>  Cond. No.          </th> <td>    18.3</td>\n",
              "</tr>\n",
              "</table><br/><br/>Notes:<br/>[1] Standard Errors assume that the covariance matrix of the errors is correctly specified."
            ],
            "text/plain": [
              "<class 'statsmodels.iolib.summary.Summary'>\n",
              "\"\"\"\n",
              "                              OLS Regression Results                             \n",
              "=================================================================================\n",
              "Dep. Variable:     np.log(delivery_time)   R-squared:                       0.711\n",
              "Model:                               OLS   Adj. R-squared:                  0.696\n",
              "Method:                    Least Squares   F-statistic:                     46.73\n",
              "Date:                   Wed, 14 Jun 2023   Prob (F-statistic):           1.59e-06\n",
              "Time:                           16:47:01   Log-Likelihood:                 7.7920\n",
              "No. Observations:                     21   AIC:                            -11.58\n",
              "Df Residuals:                         19   BIC:                            -9.495\n",
              "Df Model:                              1                                         \n",
              "Covariance Type:               nonrobust                                         \n",
              "================================================================================\n",
              "                   coef    std err          t      P>|t|      [0.025      0.975]\n",
              "--------------------------------------------------------------------------------\n",
              "Intercept        2.1214      0.103     20.601      0.000       1.906       2.337\n",
              "sorting_time     0.1056      0.015      6.836      0.000       0.073       0.138\n",
              "==============================================================================\n",
              "Omnibus:                        1.238   Durbin-Watson:                   1.325\n",
              "Prob(Omnibus):                  0.538   Jarque-Bera (JB):                0.544\n",
              "Skew:                           0.393   Prob(JB):                        0.762\n",
              "Kurtosis:                       3.067   Cond. No.                         18.3\n",
              "==============================================================================\n",
              "\n",
              "Notes:\n",
              "[1] Standard Errors assume that the covariance matrix of the errors is correctly specified.\n",
              "\"\"\""
            ]
          },
          "execution_count": 24,
          "metadata": {},
          "output_type": "execute_result"
        }
      ],
      "source": [
        "model3.summary()"
      ]
    },
    {
      "cell_type": "code",
      "execution_count": null,
      "id": "4e9c74a5",
      "metadata": {
        "id": "4e9c74a5",
        "outputId": "893a0ee1-61aa-4e1c-901a-0dbe8b9eb468"
      },
      "outputs": [
        {
          "data": {
            "text/plain": [
              "0     3.176888\n",
              "1     2.543578\n",
              "2     2.754681\n",
              "3     3.071336\n",
              "4     3.176888\n",
              "5     2.754681\n",
              "6     2.860233\n",
              "7     2.438027\n",
              "8     3.176888\n",
              "9     3.071336\n",
              "10    2.965785\n",
              "11    2.543578\n",
              "12    2.860233\n",
              "13    2.438027\n",
              "14    2.438027\n",
              "15    2.543578\n",
              "16    2.754681\n",
              "17    2.860233\n",
              "18    2.332475\n",
              "19    2.860233\n",
              "20    2.649130\n",
              "dtype: float64"
            ]
          },
          "execution_count": 26,
          "metadata": {},
          "output_type": "execute_result"
        }
      ],
      "source": [
        "pred3 = model3.predict(pd.DataFrame(delivery['sorting_time']))\n",
        "\n",
        "pred3"
      ]
    },
    {
      "cell_type": "code",
      "execution_count": null,
      "id": "ddf2102d",
      "metadata": {
        "id": "ddf2102d",
        "outputId": "036d98c2-4bcf-4976-f80f-f5d43bbc2428"
      },
      "outputs": [
        {
          "data": {
            "text/plain": [
              "0     23.972032\n",
              "1     12.725123\n",
              "2     15.716034\n",
              "3     21.570707\n",
              "4     23.972032\n",
              "5     15.716034\n",
              "6     17.465597\n",
              "7     11.450423\n",
              "8     23.972032\n",
              "9     21.570707\n",
              "10    19.409927\n",
              "11    12.725123\n",
              "12    17.465597\n",
              "13    11.450423\n",
              "14    11.450423\n",
              "15    12.725123\n",
              "16    15.716034\n",
              "17    17.465597\n",
              "18    10.303411\n",
              "19    17.465597\n",
              "20    14.141728\n",
              "dtype: float64"
            ]
          },
          "execution_count": 53,
          "metadata": {},
          "output_type": "execute_result"
        }
      ],
      "source": [
        "pred_log = np.exp(pred3)    # as we have used log(salary) in preparing model so we need to convert it back\n",
        "\n",
        "pred3"
      ]
    },
    {
      "cell_type": "code",
      "execution_count": null,
      "id": "cba24695",
      "metadata": {
        "id": "cba24695",
        "outputId": "880c10a6-f769-4758-83e0-97d594733b5f"
      },
      "outputs": [
        {
          "data": {
            "text/plain": [
              "Text(0, 0.5, 'Sorting Time')"
            ]
          },
          "execution_count": 54,
          "metadata": {},
          "output_type": "execute_result"
        },
        {
          "data": {
            "image/png": "[encoded data removed]",
            "text/plain": [
              "<Figure size 640x480 with 1 Axes>"
            ]
          },
          "metadata": {},
          "output_type": "display_data"
        }
      ],
      "source": [
        "plt.scatter(x = delivery['delivery_time'], y = delivery['sorting_time'],color='green');\n",
        "plt.plot(delivery['delivery_time'],np.exp(pred_log),color='blue');\n",
        "plt.xlabel('Delivery_Time');\n",
        "plt.ylabel('Sorting Time')"
      ]
    },
    {
      "cell_type": "code",
      "execution_count": null,
      "id": "adf6e393",
      "metadata": {
        "id": "adf6e393",
        "outputId": "1ea44e5b-ba5c-44fb-9c78-1ae80316bfd3"
      },
      "outputs": [
        {
          "data": {
            "text/plain": [
              "0     2.972032\n",
              "1    -0.774877\n",
              "2    -4.033966\n",
              "3    -2.429293\n",
              "4    -5.027968\n",
              "5     0.366034\n",
              "6    -1.534403\n",
              "7     1.950423\n",
              "8     6.072032\n",
              "9     2.820707\n",
              "10   -0.420073\n",
              "11    1.975123\n",
              "12    0.785597\n",
              "13   -0.049577\n",
              "14   -0.579577\n",
              "15   -2.154877\n",
              "16    1.966034\n",
              "17   -0.644403\n",
              "18    2.303411\n",
              "19   -0.364403\n",
              "20   -7.358272\n",
              "dtype: float64"
            ]
          },
          "execution_count": 28,
          "metadata": {},
          "output_type": "execute_result"
        }
      ],
      "source": [
        "resid3 = pred3-delivery.delivery_time\n",
        "\n",
        "resid3"
      ]
    },
    {
      "cell_type": "markdown",
      "id": "814bba77",
      "metadata": {
        "id": "814bba77"
      },
      "source": [
        "# Quadratic Model"
      ]
    },
    {
      "cell_type": "code",
      "execution_count": null,
      "id": "a3d53f6d",
      "metadata": {
        "id": "a3d53f6d"
      },
      "outputs": [],
      "source": [
        "delivery['sorting_time_sq'] = delivery.sorting_time*delivery.sorting_time"
      ]
    },
    {
      "cell_type": "code",
      "execution_count": null,
      "id": "bc346a31",
      "metadata": {
        "id": "bc346a31"
      },
      "outputs": [],
      "source": [
        "model4 = smf.ols('delivery_time~sorting_time+sorting_time_sq', data = delivery).fit()"
      ]
    },
    {
      "cell_type": "code",
      "execution_count": null,
      "id": "398be562",
      "metadata": {
        "id": "398be562",
        "outputId": "791b6583-7c76-46af-ea53-87218ce5ca3f"
      },
      "outputs": [
        {
          "data": {
            "text/plain": [
              "Intercept          9.191804\n",
              "sorting_time       0.250585\n",
              "sorting_time_sq   -0.001194\n",
              "dtype: float64"
            ]
          },
          "execution_count": 36,
          "metadata": {},
          "output_type": "execute_result"
        }
      ],
      "source": [
        "model4.params"
      ]
    },
    {
      "cell_type": "code",
      "execution_count": null,
      "id": "42940efc",
      "metadata": {
        "id": "42940efc",
        "outputId": "bcb593f0-9b66-4eb9-ada8-9c4554939e3d"
      },
      "outputs": [
        {
          "data": {
            "text/html": [
              "<table class=\"simpletable\">\n",
              "<caption>OLS Regression Results</caption>\n",
              "<tr>\n",
              "  <th>Dep. Variable:</th>      <td>delivery_time</td>  <th>  R-squared:         </th> <td>   0.673</td>\n",
              "</tr>\n",
              "<tr>\n",
              "  <th>Model:</th>                   <td>OLS</td>       <th>  Adj. R-squared:    </th> <td>   0.637</td>\n",
              "</tr>\n",
              "<tr>\n",
              "  <th>Method:</th>             <td>Least Squares</td>  <th>  F-statistic:       </th> <td>   18.56</td>\n",
              "</tr>\n",
              "<tr>\n",
              "  <th>Date:</th>             <td>Wed, 14 Jun 2023</td> <th>  Prob (F-statistic):</th> <td>4.22e-05</td>\n",
              "</tr>\n",
              "<tr>\n",
              "  <th>Time:</th>                 <td>16:53:15</td>     <th>  Log-Likelihood:    </th> <td> -51.645</td>\n",
              "</tr>\n",
              "<tr>\n",
              "  <th>No. Observations:</th>      <td>    21</td>      <th>  AIC:               </th> <td>   109.3</td>\n",
              "</tr>\n",
              "<tr>\n",
              "  <th>Df Residuals:</th>          <td>    18</td>      <th>  BIC:               </th> <td>   112.4</td>\n",
              "</tr>\n",
              "<tr>\n",
              "  <th>Df Model:</th>              <td>     2</td>      <th>                     </th>     <td> </td>   \n",
              "</tr>\n",
              "<tr>\n",
              "  <th>Covariance Type:</th>      <td>nonrobust</td>    <th>                     </th>     <td> </td>   \n",
              "</tr>\n",
              "</table>\n",
              "<table class=\"simpletable\">\n",
              "<tr>\n",
              "         <td></td>            <th>coef</th>     <th>std err</th>      <th>t</th>      <th>P>|t|</th>  <th>[0.025</th>    <th>0.975]</th>  \n",
              "</tr>\n",
              "<tr>\n",
              "  <th>Intercept</th>       <td>    9.1918</td> <td>    1.758</td> <td>    5.228</td> <td> 0.000</td> <td>    5.498</td> <td>   12.886</td>\n",
              "</tr>\n",
              "<tr>\n",
              "  <th>sorting_time</th>    <td>    0.2506</td> <td>    0.084</td> <td>    2.975</td> <td> 0.008</td> <td>    0.074</td> <td>    0.428</td>\n",
              "</tr>\n",
              "<tr>\n",
              "  <th>sorting_time_sq</th> <td>   -0.0012</td> <td>    0.001</td> <td>   -1.542</td> <td> 0.140</td> <td>   -0.003</td> <td>    0.000</td>\n",
              "</tr>\n",
              "</table>\n",
              "<table class=\"simpletable\">\n",
              "<tr>\n",
              "  <th>Omnibus:</th>       <td> 6.116</td> <th>  Durbin-Watson:     </th> <td>   1.289</td>\n",
              "</tr>\n",
              "<tr>\n",
              "  <th>Prob(Omnibus):</th> <td> 0.047</td> <th>  Jarque-Bera (JB):  </th> <td>   4.021</td>\n",
              "</tr>\n",
              "<tr>\n",
              "  <th>Skew:</th>          <td> 1.028</td> <th>  Prob(JB):          </th> <td>   0.134</td>\n",
              "</tr>\n",
              "<tr>\n",
              "  <th>Kurtosis:</th>      <td> 3.609</td> <th>  Cond. No.          </th> <td>1.20e+04</td>\n",
              "</tr>\n",
              "</table><br/><br/>Notes:<br/>[1] Standard Errors assume that the covariance matrix of the errors is correctly specified.<br/>[2] The condition number is large, 1.2e+04. This might indicate that there are<br/>strong multicollinearity or other numerical problems."
            ],
            "text/plain": [
              "<class 'statsmodels.iolib.summary.Summary'>\n",
              "\"\"\"\n",
              "                            OLS Regression Results                            \n",
              "==============================================================================\n",
              "Dep. Variable:          delivery_time   R-squared:                       0.673\n",
              "Model:                            OLS   Adj. R-squared:                  0.637\n",
              "Method:                 Least Squares   F-statistic:                     18.56\n",
              "Date:                Wed, 14 Jun 2023   Prob (F-statistic):           4.22e-05\n",
              "Time:                        16:53:15   Log-Likelihood:                -51.645\n",
              "No. Observations:                  21   AIC:                             109.3\n",
              "Df Residuals:                      18   BIC:                             112.4\n",
              "Df Model:                           2                                         \n",
              "Covariance Type:            nonrobust                                         \n",
              "===================================================================================\n",
              "                      coef    std err          t      P>|t|      [0.025      0.975]\n",
              "-----------------------------------------------------------------------------------\n",
              "Intercept           9.1918      1.758      5.228      0.000       5.498      12.886\n",
              "sorting_time        0.2506      0.084      2.975      0.008       0.074       0.428\n",
              "sorting_time_sq    -0.0012      0.001     -1.542      0.140      -0.003       0.000\n",
              "==============================================================================\n",
              "Omnibus:                        6.116   Durbin-Watson:                   1.289\n",
              "Prob(Omnibus):                  0.047   Jarque-Bera (JB):                4.021\n",
              "Skew:                           1.028   Prob(JB):                        0.134\n",
              "Kurtosis:                       3.609   Cond. No.                     1.20e+04\n",
              "==============================================================================\n",
              "\n",
              "Notes:\n",
              "[1] Standard Errors assume that the covariance matrix of the errors is correctly specified.\n",
              "[2] The condition number is large, 1.2e+04. This might indicate that there are\n",
              "strong multicollinearity or other numerical problems.\n",
              "\"\"\""
            ]
          },
          "execution_count": 37,
          "metadata": {},
          "output_type": "execute_result"
        }
      ],
      "source": [
        "model4.summary()"
      ]
    },
    {
      "cell_type": "code",
      "execution_count": null,
      "id": "105e314f",
      "metadata": {
        "id": "105e314f",
        "outputId": "c4cf77c3-4102-4313-8841-c3da52314e14"
      },
      "outputs": [
        {
          "data": {
            "text/plain": [
              "array([22.309679  , 12.89547757, 16.66534799, 21.65493759, 22.309679  ,\n",
              "       16.66534799, 18.603513  , 11.35034601, 22.309679  , 21.65493759,\n",
              "       20.338353  , 12.89547757, 18.603513  , 11.35034601, 11.35034601,\n",
              "       12.89547757, 16.66534799, 18.603513  , 10.17503715, 18.603513  ,\n",
              "       14.71013097])"
            ]
          },
          "execution_count": 38,
          "metadata": {},
          "output_type": "execute_result"
        }
      ],
      "source": [
        "pred4 = model4.predict()\n",
        "pred4"
      ]
    },
    {
      "cell_type": "code",
      "execution_count": null,
      "id": "3ae820d7",
      "metadata": {
        "id": "3ae820d7",
        "outputId": "ef945f5f-9416-42ff-c2c7-e57eadc2a453"
      },
      "outputs": [
        {
          "data": {
            "image/png": "[encoded data removed]",
            "text/plain": [
              "<Figure size 640x480 with 1 Axes>"
            ]
          },
          "metadata": {},
          "output_type": "display_data"
        }
      ],
      "source": [
        "# histogram for residual values\n",
        "\n",
        "plt.hist(model4.resid_pearson)\n",
        "plt.show()"
      ]
    },
    {
      "cell_type": "code",
      "execution_count": null,
      "id": "1a581b6d",
      "metadata": {
        "id": "1a581b6d"
      },
      "outputs": [],
      "source": []
    },
    {
      "cell_type": "code",
      "execution_count": null,
      "id": "936e3739",
      "metadata": {
        "id": "936e3739"
      },
      "outputs": [],
      "source": []
    },
    {
      "cell_type": "code",
      "execution_count": null,
      "id": "65fe1f3e",
      "metadata": {
        "id": "65fe1f3e"
      },
      "outputs": [],
      "source": []
    },
    {
      "cell_type": "code",
      "execution_count": null,
      "id": "287e3e56",
      "metadata": {
        "id": "287e3e56"
      },
      "outputs": [],
      "source": []
    },
    {
      "cell_type": "code",
      "execution_count": null,
      "id": "591f90b9",
      "metadata": {
        "id": "591f90b9"
      },
      "outputs": [],
      "source": []
    },
    {
      "cell_type": "code",
      "execution_count": null,
      "id": "65b96a6c",
      "metadata": {
        "id": "65b96a6c"
      },
      "outputs": [],
      "source": []
    },
    {
      "cell_type": "code",
      "execution_count": null,
      "id": "dc01b259",
      "metadata": {
        "id": "dc01b259"
      },
      "outputs": [],
      "source": []
    },
    {
      "cell_type": "code",
      "execution_count": null,
      "id": "52e5fa88",
      "metadata": {
        "id": "52e5fa88"
      },
      "outputs": [],
      "source": []
    },
    {
      "cell_type": "code",
      "execution_count": null,
      "id": "9cd1bf43",
      "metadata": {
        "id": "9cd1bf43"
      },
      "outputs": [],
      "source": []
    },
    {
      "cell_type": "code",
      "execution_count": null,
      "id": "bad1fb92",
      "metadata": {
        "id": "bad1fb92"
      },
      "outputs": [],
      "source": []
    },
    {
      "cell_type": "code",
      "execution_count": null,
      "id": "f6c14d8b",
      "metadata": {
        "id": "f6c14d8b"
      },
      "outputs": [],
      "source": []
    },
    {
      "cell_type": "code",
      "execution_count": null,
      "id": "ba7296e1",
      "metadata": {
        "id": "ba7296e1"
      },
      "outputs": [],
      "source": []
    },
    {
      "cell_type": "code",
      "execution_count": null,
      "id": "364ec79b",
      "metadata": {
        "id": "364ec79b"
      },
      "outputs": [],
      "source": []
    },
    {
      "cell_type": "code",
      "execution_count": null,
      "id": "8cfbb445",
      "metadata": {
        "id": "8cfbb445"
      },
      "outputs": [],
      "source": []
    },
    {
      "cell_type": "code",
      "execution_count": null,
      "id": "41445fae",
      "metadata": {
        "id": "41445fae"
      },
      "outputs": [],
      "source": []
    }
  ],
  "metadata": {
    "kernelspec": {
      "display_name": "Python 3 (ipykernel)",
      "language": "python",
      "name": "python3"
    },
    "language_info": {
      "codemirror_mode": {
        "name": "ipython",
        "version": 3
      },
      "file_extension": ".py",
      "mimetype": "text/x-python",
      "name": "python",
      "nbconvert_exporter": "python",
      "pygments_lexer": "ipython3",
      "version": "3.9.13"
    },
    "colab": {
      "provenance": [],
      "include_colab_link": true
    }
  },
  "nbformat": 4,
  "nbformat_minor": 5
}