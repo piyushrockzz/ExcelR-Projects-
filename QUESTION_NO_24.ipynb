{
  "nbformat": 4,
  "nbformat_minor": 0,
  "metadata": {
    "colab": {
      "provenance": [],
      "authorship_tag": "ABX9TyOP+ThxLkKWbKDy/Q72RBD7",
      "include_colab_link": true
    },
    "kernelspec": {
      "name": "python3",
      "display_name": "Python 3"
    },
    "language_info": {
      "name": "python"
    }
  },
  "cells": [
    {
      "cell_type": "markdown",
      "metadata": {
        "id": "view-in-github",
        "colab_type": "text"
      },
      "source": [
        "<a href=\"https://colab.research.google.com/github/piyushrockzz/ExcelR-Projects-/blob/main/QUESTION_NO_24.ipynb\" target=\"_parent\"><img src=\"https://colab.research.google.com/assets/colab-badge.svg\" alt=\"Open In Colab\"/></a>"
      ]
    },
    {
      "cell_type": "code",
      "execution_count": 1,
      "metadata": {
        "colab": {
          "base_uri": "https://localhost:8080/"
        },
        "id": "2iff8HDLMZfA",
        "outputId": "30f47377-3eae-498a-ba11-4cfc071db8bd"
      },
      "outputs": [
        {
          "output_type": "stream",
          "name": "stdout",
          "text": [
            "Probability: 0.32167253567098364\n"
          ]
        }
      ],
      "source": [
        "import scipy.stats as stats\n",
        "import math\n",
        "\n",
        "sample_mean = 260\n",
        "population_mean = 270\n",
        "sample_stddev = 90\n",
        "n = 18\n",
        "\n",
        "# Calculate the t-score\n",
        "t = (sample_mean - population_mean) / (sample_stddev / math.sqrt(n))\n",
        "\n",
        "# Degrees of freedom (n-1)\n",
        "df = n - 1\n",
        "\n",
        "# Calculate the probability using the t-distribution\n",
        "probability = stats.t.cdf(t, df)\n",
        "\n",
        "print(\"Probability:\", probability)"
      ]
    },
    {
      "cell_type": "code",
      "source": [],
      "metadata": {
        "id": "b1yh123JM7ST"
      },
      "execution_count": null,
      "outputs": []
    }
  ]
}