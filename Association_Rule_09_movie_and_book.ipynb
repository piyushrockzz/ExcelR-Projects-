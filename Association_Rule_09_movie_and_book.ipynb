{
  "cells": [
    {
      "cell_type": "markdown",
      "metadata": {
        "id": "view-in-github",
        "colab_type": "text"
      },
      "source": [
        "<a href=\"https://colab.research.google.com/github/piyushrockzz/ExcelR-Projects-/blob/main/Association_Rule_09_movie_and_book.ipynb\" target=\"_parent\"><img src=\"https://colab.research.google.com/assets/colab-badge.svg\" alt=\"Open In Colab\"/></a>"
      ]
    },
    {
      "metadata": {
        "trusted": false,
        "id": "f3931cfc"
      },
      "id": "f3931cfc",
      "cell_type": "code",
      "source": [
        "# Import Libraries\n",
        "import pandas as pd\n",
        "import numpy as np\n",
        "import matplotlib.pyplot as plt\n",
        "from mlxtend.frequent_patterns import apriori,association_rules\n",
        "from mlxtend.preprocessing import TransactionEncoder"
      ],
      "execution_count": null,
      "outputs": []
    },
    {
      "metadata": {
        "trusted": false,
        "id": "fbbcaba3",
        "outputId": "9da6f297-9652-4d71-e91a-7e0d4132fa36"
      },
      "id": "fbbcaba3",
      "cell_type": "code",
      "source": [
        "#load dataset\n",
        "\n",
        "book=pd.read_csv(\"C:/Users/Piyush/Downloads/book.csv\")\n",
        "book"
      ],
      "execution_count": null,
      "outputs": [
        {
          "data": {
            "text/html": "<div>\n<style scoped>\n    .dataframe tbody tr th:only-of-type {\n        vertical-align: middle;\n    }\n\n    .dataframe tbody tr th {\n        vertical-align: top;\n    }\n\n    .dataframe thead th {\n        text-align: right;\n    }\n</style>\n<table border=\"1\" class=\"dataframe\">\n  <thead>\n    <tr style=\"text-align: right;\">\n      <th></th>\n      <th>ChildBks</th>\n      <th>YouthBks</th>\n      <th>CookBks</th>\n      <th>DoItYBks</th>\n      <th>RefBks</th>\n      <th>ArtBks</th>\n      <th>GeogBks</th>\n      <th>ItalCook</th>\n      <th>ItalAtlas</th>\n      <th>ItalArt</th>\n      <th>Florence</th>\n    </tr>\n  </thead>\n  <tbody>\n    <tr>\n      <th>0</th>\n      <td>0</td>\n      <td>1</td>\n      <td>0</td>\n      <td>1</td>\n      <td>0</td>\n      <td>0</td>\n      <td>1</td>\n      <td>0</td>\n      <td>0</td>\n      <td>0</td>\n      <td>0</td>\n    </tr>\n    <tr>\n      <th>1</th>\n      <td>1</td>\n      <td>0</td>\n      <td>0</td>\n      <td>0</td>\n      <td>0</td>\n      <td>0</td>\n      <td>0</td>\n      <td>0</td>\n      <td>0</td>\n      <td>0</td>\n      <td>0</td>\n    </tr>\n    <tr>\n      <th>2</th>\n      <td>0</td>\n      <td>0</td>\n      <td>0</td>\n      <td>0</td>\n      <td>0</td>\n      <td>0</td>\n      <td>0</td>\n      <td>0</td>\n      <td>0</td>\n      <td>0</td>\n      <td>0</td>\n    </tr>\n    <tr>\n      <th>3</th>\n      <td>1</td>\n      <td>1</td>\n      <td>1</td>\n      <td>0</td>\n      <td>1</td>\n      <td>0</td>\n      <td>1</td>\n      <td>0</td>\n      <td>0</td>\n      <td>0</td>\n      <td>0</td>\n    </tr>\n    <tr>\n      <th>4</th>\n      <td>0</td>\n      <td>0</td>\n      <td>1</td>\n      <td>0</td>\n      <td>0</td>\n      <td>0</td>\n      <td>1</td>\n      <td>0</td>\n      <td>0</td>\n      <td>0</td>\n      <td>0</td>\n    </tr>\n    <tr>\n      <th>...</th>\n      <td>...</td>\n      <td>...</td>\n      <td>...</td>\n      <td>...</td>\n      <td>...</td>\n      <td>...</td>\n      <td>...</td>\n      <td>...</td>\n      <td>...</td>\n      <td>...</td>\n      <td>...</td>\n    </tr>\n    <tr>\n      <th>1995</th>\n      <td>0</td>\n      <td>0</td>\n      <td>1</td>\n      <td>0</td>\n      <td>0</td>\n      <td>1</td>\n      <td>1</td>\n      <td>1</td>\n      <td>0</td>\n      <td>1</td>\n      <td>1</td>\n    </tr>\n    <tr>\n      <th>1996</th>\n      <td>0</td>\n      <td>0</td>\n      <td>0</td>\n      <td>0</td>\n      <td>0</td>\n      <td>0</td>\n      <td>0</td>\n      <td>0</td>\n      <td>0</td>\n      <td>0</td>\n      <td>0</td>\n    </tr>\n    <tr>\n      <th>1997</th>\n      <td>0</td>\n      <td>0</td>\n      <td>0</td>\n      <td>0</td>\n      <td>0</td>\n      <td>0</td>\n      <td>0</td>\n      <td>0</td>\n      <td>0</td>\n      <td>0</td>\n      <td>0</td>\n    </tr>\n    <tr>\n      <th>1998</th>\n      <td>0</td>\n      <td>0</td>\n      <td>1</td>\n      <td>0</td>\n      <td>0</td>\n      <td>0</td>\n      <td>0</td>\n      <td>0</td>\n      <td>0</td>\n      <td>0</td>\n      <td>0</td>\n    </tr>\n    <tr>\n      <th>1999</th>\n      <td>0</td>\n      <td>0</td>\n      <td>0</td>\n      <td>0</td>\n      <td>0</td>\n      <td>0</td>\n      <td>0</td>\n      <td>0</td>\n      <td>0</td>\n      <td>0</td>\n      <td>0</td>\n    </tr>\n  </tbody>\n</table>\n<p>2000 rows × 11 columns</p>\n</div>",
            "text/plain": "      ChildBks  YouthBks  CookBks  DoItYBks  RefBks  ArtBks  GeogBks  \\\n0            0         1        0         1       0       0        1   \n1            1         0        0         0       0       0        0   \n2            0         0        0         0       0       0        0   \n3            1         1        1         0       1       0        1   \n4            0         0        1         0       0       0        1   \n...        ...       ...      ...       ...     ...     ...      ...   \n1995         0         0        1         0       0       1        1   \n1996         0         0        0         0       0       0        0   \n1997         0         0        0         0       0       0        0   \n1998         0         0        1         0       0       0        0   \n1999         0         0        0         0       0       0        0   \n\n      ItalCook  ItalAtlas  ItalArt  Florence  \n0            0          0        0         0  \n1            0          0        0         0  \n2            0          0        0         0  \n3            0          0        0         0  \n4            0          0        0         0  \n...        ...        ...      ...       ...  \n1995         1          0        1         1  \n1996         0          0        0         0  \n1997         0          0        0         0  \n1998         0          0        0         0  \n1999         0          0        0         0  \n\n[2000 rows x 11 columns]"
          },
          "execution_count": 2,
          "metadata": {},
          "output_type": "execute_result"
        }
      ]
    },
    {
      "metadata": {
        "id": "a65ac8f9"
      },
      "id": "a65ac8f9",
      "cell_type": "markdown",
      "source": [
        "#### Data preprocessing not required as it is already in transaction format"
      ]
    },
    {
      "metadata": {
        "id": "dfe0764a"
      },
      "id": "dfe0764a",
      "cell_type": "markdown",
      "source": [
        "### Apriori Algorithm\n",
        "### 1) Association rules with 10% Support and 70% confidence"
      ]
    },
    {
      "metadata": {
        "trusted": false,
        "id": "f8cc38d1",
        "outputId": "26ace1c8-0538-4bc0-9e8a-7a29d40476b6"
      },
      "id": "f8cc38d1",
      "cell_type": "code",
      "source": [
        "# With 10% Support\n",
        "frequent_itemsets=apriori(book,min_support=0.1,use_colnames=True)\n",
        "frequent_itemsets\n"
      ],
      "execution_count": null,
      "outputs": [
        {
          "data": {
            "text/html": "<div>\n<style scoped>\n    .dataframe tbody tr th:only-of-type {\n        vertical-align: middle;\n    }\n\n    .dataframe tbody tr th {\n        vertical-align: top;\n    }\n\n    .dataframe thead th {\n        text-align: right;\n    }\n</style>\n<table border=\"1\" class=\"dataframe\">\n  <thead>\n    <tr style=\"text-align: right;\">\n      <th></th>\n      <th>support</th>\n      <th>itemsets</th>\n    </tr>\n  </thead>\n  <tbody>\n    <tr>\n      <th>0</th>\n      <td>0.4230</td>\n      <td>(ChildBks)</td>\n    </tr>\n    <tr>\n      <th>1</th>\n      <td>0.2475</td>\n      <td>(YouthBks)</td>\n    </tr>\n    <tr>\n      <th>2</th>\n      <td>0.4310</td>\n      <td>(CookBks)</td>\n    </tr>\n    <tr>\n      <th>3</th>\n      <td>0.2820</td>\n      <td>(DoItYBks)</td>\n    </tr>\n    <tr>\n      <th>4</th>\n      <td>0.2145</td>\n      <td>(RefBks)</td>\n    </tr>\n    <tr>\n      <th>5</th>\n      <td>0.2410</td>\n      <td>(ArtBks)</td>\n    </tr>\n    <tr>\n      <th>6</th>\n      <td>0.2760</td>\n      <td>(GeogBks)</td>\n    </tr>\n    <tr>\n      <th>7</th>\n      <td>0.1135</td>\n      <td>(ItalCook)</td>\n    </tr>\n    <tr>\n      <th>8</th>\n      <td>0.1085</td>\n      <td>(Florence)</td>\n    </tr>\n    <tr>\n      <th>9</th>\n      <td>0.1650</td>\n      <td>(YouthBks, ChildBks)</td>\n    </tr>\n    <tr>\n      <th>10</th>\n      <td>0.2560</td>\n      <td>(CookBks, ChildBks)</td>\n    </tr>\n    <tr>\n      <th>11</th>\n      <td>0.1840</td>\n      <td>(DoItYBks, ChildBks)</td>\n    </tr>\n    <tr>\n      <th>12</th>\n      <td>0.1515</td>\n      <td>(RefBks, ChildBks)</td>\n    </tr>\n    <tr>\n      <th>13</th>\n      <td>0.1625</td>\n      <td>(ArtBks, ChildBks)</td>\n    </tr>\n    <tr>\n      <th>14</th>\n      <td>0.1950</td>\n      <td>(GeogBks, ChildBks)</td>\n    </tr>\n    <tr>\n      <th>15</th>\n      <td>0.1620</td>\n      <td>(CookBks, YouthBks)</td>\n    </tr>\n    <tr>\n      <th>16</th>\n      <td>0.1155</td>\n      <td>(DoItYBks, YouthBks)</td>\n    </tr>\n    <tr>\n      <th>17</th>\n      <td>0.1010</td>\n      <td>(ArtBks, YouthBks)</td>\n    </tr>\n    <tr>\n      <th>18</th>\n      <td>0.1205</td>\n      <td>(GeogBks, YouthBks)</td>\n    </tr>\n    <tr>\n      <th>19</th>\n      <td>0.1875</td>\n      <td>(CookBks, DoItYBks)</td>\n    </tr>\n    <tr>\n      <th>20</th>\n      <td>0.1525</td>\n      <td>(CookBks, RefBks)</td>\n    </tr>\n    <tr>\n      <th>21</th>\n      <td>0.1670</td>\n      <td>(CookBks, ArtBks)</td>\n    </tr>\n    <tr>\n      <th>22</th>\n      <td>0.1925</td>\n      <td>(CookBks, GeogBks)</td>\n    </tr>\n    <tr>\n      <th>23</th>\n      <td>0.1135</td>\n      <td>(CookBks, ItalCook)</td>\n    </tr>\n    <tr>\n      <th>24</th>\n      <td>0.1055</td>\n      <td>(DoItYBks, RefBks)</td>\n    </tr>\n    <tr>\n      <th>25</th>\n      <td>0.1235</td>\n      <td>(DoItYBks, ArtBks)</td>\n    </tr>\n    <tr>\n      <th>26</th>\n      <td>0.1325</td>\n      <td>(GeogBks, DoItYBks)</td>\n    </tr>\n    <tr>\n      <th>27</th>\n      <td>0.1105</td>\n      <td>(GeogBks, RefBks)</td>\n    </tr>\n    <tr>\n      <th>28</th>\n      <td>0.1275</td>\n      <td>(GeogBks, ArtBks)</td>\n    </tr>\n    <tr>\n      <th>29</th>\n      <td>0.1290</td>\n      <td>(CookBks, YouthBks, ChildBks)</td>\n    </tr>\n    <tr>\n      <th>30</th>\n      <td>0.1460</td>\n      <td>(CookBks, DoItYBks, ChildBks)</td>\n    </tr>\n    <tr>\n      <th>31</th>\n      <td>0.1225</td>\n      <td>(CookBks, RefBks, ChildBks)</td>\n    </tr>\n    <tr>\n      <th>32</th>\n      <td>0.1265</td>\n      <td>(CookBks, ArtBks, ChildBks)</td>\n    </tr>\n    <tr>\n      <th>33</th>\n      <td>0.1495</td>\n      <td>(CookBks, GeogBks, ChildBks)</td>\n    </tr>\n    <tr>\n      <th>34</th>\n      <td>0.1045</td>\n      <td>(GeogBks, DoItYBks, ChildBks)</td>\n    </tr>\n    <tr>\n      <th>35</th>\n      <td>0.1020</td>\n      <td>(GeogBks, ArtBks, ChildBks)</td>\n    </tr>\n    <tr>\n      <th>36</th>\n      <td>0.1015</td>\n      <td>(CookBks, DoItYBks, ArtBks)</td>\n    </tr>\n    <tr>\n      <th>37</th>\n      <td>0.1085</td>\n      <td>(CookBks, DoItYBks, GeogBks)</td>\n    </tr>\n    <tr>\n      <th>38</th>\n      <td>0.1035</td>\n      <td>(CookBks, ArtBks, GeogBks)</td>\n    </tr>\n  </tbody>\n</table>\n</div>",
            "text/plain": "    support                       itemsets\n0    0.4230                     (ChildBks)\n1    0.2475                     (YouthBks)\n2    0.4310                      (CookBks)\n3    0.2820                     (DoItYBks)\n4    0.2145                       (RefBks)\n5    0.2410                       (ArtBks)\n6    0.2760                      (GeogBks)\n7    0.1135                     (ItalCook)\n8    0.1085                     (Florence)\n9    0.1650           (YouthBks, ChildBks)\n10   0.2560            (CookBks, ChildBks)\n11   0.1840           (DoItYBks, ChildBks)\n12   0.1515             (RefBks, ChildBks)\n13   0.1625             (ArtBks, ChildBks)\n14   0.1950            (GeogBks, ChildBks)\n15   0.1620            (CookBks, YouthBks)\n16   0.1155           (DoItYBks, YouthBks)\n17   0.1010             (ArtBks, YouthBks)\n18   0.1205            (GeogBks, YouthBks)\n19   0.1875            (CookBks, DoItYBks)\n20   0.1525              (CookBks, RefBks)\n21   0.1670              (CookBks, ArtBks)\n22   0.1925             (CookBks, GeogBks)\n23   0.1135            (CookBks, ItalCook)\n24   0.1055             (DoItYBks, RefBks)\n25   0.1235             (DoItYBks, ArtBks)\n26   0.1325            (GeogBks, DoItYBks)\n27   0.1105              (GeogBks, RefBks)\n28   0.1275              (GeogBks, ArtBks)\n29   0.1290  (CookBks, YouthBks, ChildBks)\n30   0.1460  (CookBks, DoItYBks, ChildBks)\n31   0.1225    (CookBks, RefBks, ChildBks)\n32   0.1265    (CookBks, ArtBks, ChildBks)\n33   0.1495   (CookBks, GeogBks, ChildBks)\n34   0.1045  (GeogBks, DoItYBks, ChildBks)\n35   0.1020    (GeogBks, ArtBks, ChildBks)\n36   0.1015    (CookBks, DoItYBks, ArtBks)\n37   0.1085   (CookBks, DoItYBks, GeogBks)\n38   0.1035     (CookBks, ArtBks, GeogBks)"
          },
          "execution_count": 3,
          "metadata": {},
          "output_type": "execute_result"
        }
      ]
    },
    {
      "metadata": {
        "trusted": false,
        "id": "e0576ded",
        "outputId": "aa413682-cfd9-45f2-da44-3c120ba21d9e"
      },
      "id": "e0576ded",
      "cell_type": "code",
      "source": [
        "# with 70% confidence\n",
        "rules=association_rules(frequent_itemsets,metric='lift',min_threshold=0.7)\n",
        "rules"
      ],
      "execution_count": null,
      "outputs": [
        {
          "data": {
            "text/html": "<div>\n<style scoped>\n    .dataframe tbody tr th:only-of-type {\n        vertical-align: middle;\n    }\n\n    .dataframe tbody tr th {\n        vertical-align: top;\n    }\n\n    .dataframe thead th {\n        text-align: right;\n    }\n</style>\n<table border=\"1\" class=\"dataframe\">\n  <thead>\n    <tr style=\"text-align: right;\">\n      <th></th>\n      <th>antecedents</th>\n      <th>consequents</th>\n      <th>antecedent support</th>\n      <th>consequent support</th>\n      <th>support</th>\n      <th>confidence</th>\n      <th>lift</th>\n      <th>leverage</th>\n      <th>conviction</th>\n    </tr>\n  </thead>\n  <tbody>\n    <tr>\n      <th>0</th>\n      <td>(YouthBks)</td>\n      <td>(ChildBks)</td>\n      <td>0.2475</td>\n      <td>0.4230</td>\n      <td>0.1650</td>\n      <td>0.666667</td>\n      <td>1.576044</td>\n      <td>0.060308</td>\n      <td>1.731000</td>\n    </tr>\n    <tr>\n      <th>1</th>\n      <td>(ChildBks)</td>\n      <td>(YouthBks)</td>\n      <td>0.4230</td>\n      <td>0.2475</td>\n      <td>0.1650</td>\n      <td>0.390071</td>\n      <td>1.576044</td>\n      <td>0.060308</td>\n      <td>1.233750</td>\n    </tr>\n    <tr>\n      <th>2</th>\n      <td>(CookBks)</td>\n      <td>(ChildBks)</td>\n      <td>0.4310</td>\n      <td>0.4230</td>\n      <td>0.2560</td>\n      <td>0.593968</td>\n      <td>1.404179</td>\n      <td>0.073687</td>\n      <td>1.421069</td>\n    </tr>\n    <tr>\n      <th>3</th>\n      <td>(ChildBks)</td>\n      <td>(CookBks)</td>\n      <td>0.4230</td>\n      <td>0.4310</td>\n      <td>0.2560</td>\n      <td>0.605201</td>\n      <td>1.404179</td>\n      <td>0.073687</td>\n      <td>1.441240</td>\n    </tr>\n    <tr>\n      <th>4</th>\n      <td>(DoItYBks)</td>\n      <td>(ChildBks)</td>\n      <td>0.2820</td>\n      <td>0.4230</td>\n      <td>0.1840</td>\n      <td>0.652482</td>\n      <td>1.542511</td>\n      <td>0.064714</td>\n      <td>1.660347</td>\n    </tr>\n    <tr>\n      <th>...</th>\n      <td>...</td>\n      <td>...</td>\n      <td>...</td>\n      <td>...</td>\n      <td>...</td>\n      <td>...</td>\n      <td>...</td>\n      <td>...</td>\n      <td>...</td>\n    </tr>\n    <tr>\n      <th>95</th>\n      <td>(CookBks, GeogBks)</td>\n      <td>(ArtBks)</td>\n      <td>0.1925</td>\n      <td>0.2410</td>\n      <td>0.1035</td>\n      <td>0.537662</td>\n      <td>2.230964</td>\n      <td>0.057107</td>\n      <td>1.641657</td>\n    </tr>\n    <tr>\n      <th>96</th>\n      <td>(GeogBks, ArtBks)</td>\n      <td>(CookBks)</td>\n      <td>0.1275</td>\n      <td>0.4310</td>\n      <td>0.1035</td>\n      <td>0.811765</td>\n      <td>1.883445</td>\n      <td>0.048547</td>\n      <td>3.022812</td>\n    </tr>\n    <tr>\n      <th>97</th>\n      <td>(CookBks)</td>\n      <td>(GeogBks, ArtBks)</td>\n      <td>0.4310</td>\n      <td>0.1275</td>\n      <td>0.1035</td>\n      <td>0.240139</td>\n      <td>1.883445</td>\n      <td>0.048547</td>\n      <td>1.148237</td>\n    </tr>\n    <tr>\n      <th>98</th>\n      <td>(ArtBks)</td>\n      <td>(CookBks, GeogBks)</td>\n      <td>0.2410</td>\n      <td>0.1925</td>\n      <td>0.1035</td>\n      <td>0.429461</td>\n      <td>2.230964</td>\n      <td>0.057107</td>\n      <td>1.415327</td>\n    </tr>\n    <tr>\n      <th>99</th>\n      <td>(GeogBks)</td>\n      <td>(CookBks, ArtBks)</td>\n      <td>0.2760</td>\n      <td>0.1670</td>\n      <td>0.1035</td>\n      <td>0.375000</td>\n      <td>2.245509</td>\n      <td>0.057408</td>\n      <td>1.332800</td>\n    </tr>\n  </tbody>\n</table>\n<p>100 rows × 9 columns</p>\n</div>",
            "text/plain": "           antecedents         consequents  antecedent support  \\\n0           (YouthBks)          (ChildBks)              0.2475   \n1           (ChildBks)          (YouthBks)              0.4230   \n2            (CookBks)          (ChildBks)              0.4310   \n3           (ChildBks)           (CookBks)              0.4230   \n4           (DoItYBks)          (ChildBks)              0.2820   \n..                 ...                 ...                 ...   \n95  (CookBks, GeogBks)            (ArtBks)              0.1925   \n96   (GeogBks, ArtBks)           (CookBks)              0.1275   \n97           (CookBks)   (GeogBks, ArtBks)              0.4310   \n98            (ArtBks)  (CookBks, GeogBks)              0.2410   \n99           (GeogBks)   (CookBks, ArtBks)              0.2760   \n\n    consequent support  support  confidence      lift  leverage  conviction  \n0               0.4230   0.1650    0.666667  1.576044  0.060308    1.731000  \n1               0.2475   0.1650    0.390071  1.576044  0.060308    1.233750  \n2               0.4230   0.2560    0.593968  1.404179  0.073687    1.421069  \n3               0.4310   0.2560    0.605201  1.404179  0.073687    1.441240  \n4               0.4230   0.1840    0.652482  1.542511  0.064714    1.660347  \n..                 ...      ...         ...       ...       ...         ...  \n95              0.2410   0.1035    0.537662  2.230964  0.057107    1.641657  \n96              0.4310   0.1035    0.811765  1.883445  0.048547    3.022812  \n97              0.1275   0.1035    0.240139  1.883445  0.048547    1.148237  \n98              0.1925   0.1035    0.429461  2.230964  0.057107    1.415327  \n99              0.1670   0.1035    0.375000  2.245509  0.057408    1.332800  \n\n[100 rows x 9 columns]"
          },
          "execution_count": 4,
          "metadata": {},
          "output_type": "execute_result"
        }
      ]
    },
    {
      "metadata": {
        "id": "a3679d20"
      },
      "id": "a3679d20",
      "cell_type": "markdown",
      "source": [
        "* A leverage value of 0 indicates independence.\n",
        "* Range will be A high conviction value means that the consequent is highly depending on the antecedent and range [0 inf]\n"
      ]
    },
    {
      "metadata": {
        "trusted": false,
        "id": "8130c8c6",
        "outputId": "bdee1f02-0c8d-4d70-e1d2-46411761b022"
      },
      "id": "8130c8c6",
      "cell_type": "code",
      "source": [
        "rules.sort_values('lift',ascending=False)"
      ],
      "execution_count": null,
      "outputs": [
        {
          "data": {
            "text/html": "<div>\n<style scoped>\n    .dataframe tbody tr th:only-of-type {\n        vertical-align: middle;\n    }\n\n    .dataframe tbody tr th {\n        vertical-align: top;\n    }\n\n    .dataframe thead th {\n        text-align: right;\n    }\n</style>\n<table border=\"1\" class=\"dataframe\">\n  <thead>\n    <tr style=\"text-align: right;\">\n      <th></th>\n      <th>antecedents</th>\n      <th>consequents</th>\n      <th>antecedent support</th>\n      <th>consequent support</th>\n      <th>support</th>\n      <th>confidence</th>\n      <th>lift</th>\n      <th>leverage</th>\n      <th>conviction</th>\n    </tr>\n  </thead>\n  <tbody>\n    <tr>\n      <th>28</th>\n      <td>(CookBks)</td>\n      <td>(ItalCook)</td>\n      <td>0.4310</td>\n      <td>0.1135</td>\n      <td>0.1135</td>\n      <td>0.263341</td>\n      <td>2.320186</td>\n      <td>0.064582</td>\n      <td>1.203406</td>\n    </tr>\n    <tr>\n      <th>29</th>\n      <td>(ItalCook)</td>\n      <td>(CookBks)</td>\n      <td>0.1135</td>\n      <td>0.4310</td>\n      <td>0.1135</td>\n      <td>1.000000</td>\n      <td>2.320186</td>\n      <td>0.064582</td>\n      <td>inf</td>\n    </tr>\n    <tr>\n      <th>78</th>\n      <td>(ArtBks, ChildBks)</td>\n      <td>(GeogBks)</td>\n      <td>0.1625</td>\n      <td>0.2760</td>\n      <td>0.1020</td>\n      <td>0.627692</td>\n      <td>2.274247</td>\n      <td>0.057150</td>\n      <td>1.944628</td>\n    </tr>\n    <tr>\n      <th>79</th>\n      <td>(GeogBks)</td>\n      <td>(ArtBks, ChildBks)</td>\n      <td>0.2760</td>\n      <td>0.1625</td>\n      <td>0.1020</td>\n      <td>0.369565</td>\n      <td>2.274247</td>\n      <td>0.057150</td>\n      <td>1.328448</td>\n    </tr>\n    <tr>\n      <th>87</th>\n      <td>(ArtBks)</td>\n      <td>(CookBks, DoItYBks)</td>\n      <td>0.2410</td>\n      <td>0.1875</td>\n      <td>0.1015</td>\n      <td>0.421162</td>\n      <td>2.246196</td>\n      <td>0.056313</td>\n      <td>1.403674</td>\n    </tr>\n    <tr>\n      <th>...</th>\n      <td>...</td>\n      <td>...</td>\n      <td>...</td>\n      <td>...</td>\n      <td>...</td>\n      <td>...</td>\n      <td>...</td>\n      <td>...</td>\n      <td>...</td>\n    </tr>\n    <tr>\n      <th>4</th>\n      <td>(DoItYBks)</td>\n      <td>(ChildBks)</td>\n      <td>0.2820</td>\n      <td>0.4230</td>\n      <td>0.1840</td>\n      <td>0.652482</td>\n      <td>1.542511</td>\n      <td>0.064714</td>\n      <td>1.660347</td>\n    </tr>\n    <tr>\n      <th>12</th>\n      <td>(CookBks)</td>\n      <td>(YouthBks)</td>\n      <td>0.4310</td>\n      <td>0.2475</td>\n      <td>0.1620</td>\n      <td>0.375870</td>\n      <td>1.518667</td>\n      <td>0.055328</td>\n      <td>1.205678</td>\n    </tr>\n    <tr>\n      <th>13</th>\n      <td>(YouthBks)</td>\n      <td>(CookBks)</td>\n      <td>0.2475</td>\n      <td>0.4310</td>\n      <td>0.1620</td>\n      <td>0.654545</td>\n      <td>1.518667</td>\n      <td>0.055328</td>\n      <td>1.647105</td>\n    </tr>\n    <tr>\n      <th>3</th>\n      <td>(ChildBks)</td>\n      <td>(CookBks)</td>\n      <td>0.4230</td>\n      <td>0.4310</td>\n      <td>0.2560</td>\n      <td>0.605201</td>\n      <td>1.404179</td>\n      <td>0.073687</td>\n      <td>1.441240</td>\n    </tr>\n    <tr>\n      <th>2</th>\n      <td>(CookBks)</td>\n      <td>(ChildBks)</td>\n      <td>0.4310</td>\n      <td>0.4230</td>\n      <td>0.2560</td>\n      <td>0.593968</td>\n      <td>1.404179</td>\n      <td>0.073687</td>\n      <td>1.421069</td>\n    </tr>\n  </tbody>\n</table>\n<p>100 rows × 9 columns</p>\n</div>",
            "text/plain": "           antecedents          consequents  antecedent support  \\\n28           (CookBks)           (ItalCook)              0.4310   \n29          (ItalCook)            (CookBks)              0.1135   \n78  (ArtBks, ChildBks)            (GeogBks)              0.1625   \n79           (GeogBks)   (ArtBks, ChildBks)              0.2760   \n87            (ArtBks)  (CookBks, DoItYBks)              0.2410   \n..                 ...                  ...                 ...   \n4           (DoItYBks)           (ChildBks)              0.2820   \n12           (CookBks)           (YouthBks)              0.4310   \n13          (YouthBks)            (CookBks)              0.2475   \n3           (ChildBks)            (CookBks)              0.4230   \n2            (CookBks)           (ChildBks)              0.4310   \n\n    consequent support  support  confidence      lift  leverage  conviction  \n28              0.1135   0.1135    0.263341  2.320186  0.064582    1.203406  \n29              0.4310   0.1135    1.000000  2.320186  0.064582         inf  \n78              0.2760   0.1020    0.627692  2.274247  0.057150    1.944628  \n79              0.1625   0.1020    0.369565  2.274247  0.057150    1.328448  \n87              0.1875   0.1015    0.421162  2.246196  0.056313    1.403674  \n..                 ...      ...         ...       ...       ...         ...  \n4               0.4230   0.1840    0.652482  1.542511  0.064714    1.660347  \n12              0.2475   0.1620    0.375870  1.518667  0.055328    1.205678  \n13              0.4310   0.1620    0.654545  1.518667  0.055328    1.647105  \n3               0.4310   0.2560    0.605201  1.404179  0.073687    1.441240  \n2               0.4230   0.2560    0.593968  1.404179  0.073687    1.421069  \n\n[100 rows x 9 columns]"
          },
          "execution_count": 5,
          "metadata": {},
          "output_type": "execute_result"
        }
      ]
    },
    {
      "metadata": {
        "trusted": false,
        "id": "44de99e9",
        "outputId": "deba9189-43a1-42c4-e63b-67302bc2fad7"
      },
      "id": "44de99e9",
      "cell_type": "code",
      "source": [
        "# Lift Ratio > 1 is a good influential rule in selecting the associated transactions\n",
        "rules[rules.lift>1]"
      ],
      "execution_count": null,
      "outputs": [
        {
          "data": {
            "text/html": "<div>\n<style scoped>\n    .dataframe tbody tr th:only-of-type {\n        vertical-align: middle;\n    }\n\n    .dataframe tbody tr th {\n        vertical-align: top;\n    }\n\n    .dataframe thead th {\n        text-align: right;\n    }\n</style>\n<table border=\"1\" class=\"dataframe\">\n  <thead>\n    <tr style=\"text-align: right;\">\n      <th></th>\n      <th>antecedents</th>\n      <th>consequents</th>\n      <th>antecedent support</th>\n      <th>consequent support</th>\n      <th>support</th>\n      <th>confidence</th>\n      <th>lift</th>\n      <th>leverage</th>\n      <th>conviction</th>\n    </tr>\n  </thead>\n  <tbody>\n    <tr>\n      <th>0</th>\n      <td>(YouthBks)</td>\n      <td>(ChildBks)</td>\n      <td>0.2475</td>\n      <td>0.4230</td>\n      <td>0.1650</td>\n      <td>0.666667</td>\n      <td>1.576044</td>\n      <td>0.060308</td>\n      <td>1.731000</td>\n    </tr>\n    <tr>\n      <th>1</th>\n      <td>(ChildBks)</td>\n      <td>(YouthBks)</td>\n      <td>0.4230</td>\n      <td>0.2475</td>\n      <td>0.1650</td>\n      <td>0.390071</td>\n      <td>1.576044</td>\n      <td>0.060308</td>\n      <td>1.233750</td>\n    </tr>\n    <tr>\n      <th>2</th>\n      <td>(CookBks)</td>\n      <td>(ChildBks)</td>\n      <td>0.4310</td>\n      <td>0.4230</td>\n      <td>0.2560</td>\n      <td>0.593968</td>\n      <td>1.404179</td>\n      <td>0.073687</td>\n      <td>1.421069</td>\n    </tr>\n    <tr>\n      <th>3</th>\n      <td>(ChildBks)</td>\n      <td>(CookBks)</td>\n      <td>0.4230</td>\n      <td>0.4310</td>\n      <td>0.2560</td>\n      <td>0.605201</td>\n      <td>1.404179</td>\n      <td>0.073687</td>\n      <td>1.441240</td>\n    </tr>\n    <tr>\n      <th>4</th>\n      <td>(DoItYBks)</td>\n      <td>(ChildBks)</td>\n      <td>0.2820</td>\n      <td>0.4230</td>\n      <td>0.1840</td>\n      <td>0.652482</td>\n      <td>1.542511</td>\n      <td>0.064714</td>\n      <td>1.660347</td>\n    </tr>\n    <tr>\n      <th>...</th>\n      <td>...</td>\n      <td>...</td>\n      <td>...</td>\n      <td>...</td>\n      <td>...</td>\n      <td>...</td>\n      <td>...</td>\n      <td>...</td>\n      <td>...</td>\n    </tr>\n    <tr>\n      <th>95</th>\n      <td>(CookBks, GeogBks)</td>\n      <td>(ArtBks)</td>\n      <td>0.1925</td>\n      <td>0.2410</td>\n      <td>0.1035</td>\n      <td>0.537662</td>\n      <td>2.230964</td>\n      <td>0.057107</td>\n      <td>1.641657</td>\n    </tr>\n    <tr>\n      <th>96</th>\n      <td>(GeogBks, ArtBks)</td>\n      <td>(CookBks)</td>\n      <td>0.1275</td>\n      <td>0.4310</td>\n      <td>0.1035</td>\n      <td>0.811765</td>\n      <td>1.883445</td>\n      <td>0.048547</td>\n      <td>3.022812</td>\n    </tr>\n    <tr>\n      <th>97</th>\n      <td>(CookBks)</td>\n      <td>(GeogBks, ArtBks)</td>\n      <td>0.4310</td>\n      <td>0.1275</td>\n      <td>0.1035</td>\n      <td>0.240139</td>\n      <td>1.883445</td>\n      <td>0.048547</td>\n      <td>1.148237</td>\n    </tr>\n    <tr>\n      <th>98</th>\n      <td>(ArtBks)</td>\n      <td>(CookBks, GeogBks)</td>\n      <td>0.2410</td>\n      <td>0.1925</td>\n      <td>0.1035</td>\n      <td>0.429461</td>\n      <td>2.230964</td>\n      <td>0.057107</td>\n      <td>1.415327</td>\n    </tr>\n    <tr>\n      <th>99</th>\n      <td>(GeogBks)</td>\n      <td>(CookBks, ArtBks)</td>\n      <td>0.2760</td>\n      <td>0.1670</td>\n      <td>0.1035</td>\n      <td>0.375000</td>\n      <td>2.245509</td>\n      <td>0.057408</td>\n      <td>1.332800</td>\n    </tr>\n  </tbody>\n</table>\n<p>100 rows × 9 columns</p>\n</div>",
            "text/plain": "           antecedents         consequents  antecedent support  \\\n0           (YouthBks)          (ChildBks)              0.2475   \n1           (ChildBks)          (YouthBks)              0.4230   \n2            (CookBks)          (ChildBks)              0.4310   \n3           (ChildBks)           (CookBks)              0.4230   \n4           (DoItYBks)          (ChildBks)              0.2820   \n..                 ...                 ...                 ...   \n95  (CookBks, GeogBks)            (ArtBks)              0.1925   \n96   (GeogBks, ArtBks)           (CookBks)              0.1275   \n97           (CookBks)   (GeogBks, ArtBks)              0.4310   \n98            (ArtBks)  (CookBks, GeogBks)              0.2410   \n99           (GeogBks)   (CookBks, ArtBks)              0.2760   \n\n    consequent support  support  confidence      lift  leverage  conviction  \n0               0.4230   0.1650    0.666667  1.576044  0.060308    1.731000  \n1               0.2475   0.1650    0.390071  1.576044  0.060308    1.233750  \n2               0.4230   0.2560    0.593968  1.404179  0.073687    1.421069  \n3               0.4310   0.2560    0.605201  1.404179  0.073687    1.441240  \n4               0.4230   0.1840    0.652482  1.542511  0.064714    1.660347  \n..                 ...      ...         ...       ...       ...         ...  \n95              0.2410   0.1035    0.537662  2.230964  0.057107    1.641657  \n96              0.4310   0.1035    0.811765  1.883445  0.048547    3.022812  \n97              0.1275   0.1035    0.240139  1.883445  0.048547    1.148237  \n98              0.1925   0.1035    0.429461  2.230964  0.057107    1.415327  \n99              0.1670   0.1035    0.375000  2.245509  0.057408    1.332800  \n\n[100 rows x 9 columns]"
          },
          "execution_count": 6,
          "metadata": {},
          "output_type": "execute_result"
        }
      ]
    },
    {
      "metadata": {
        "trusted": false,
        "id": "e53a0480",
        "outputId": "d2bbe1a2-308b-4f1c-ced6-beb9a4298776"
      },
      "id": "e53a0480",
      "cell_type": "code",
      "source": [
        "# visualization of obtained rule\n",
        "plt.scatter(rules['support'],rules['confidence'])\n",
        "plt.xlabel('support')\n",
        "plt.ylabel('confidence')\n",
        "plt.show()\n"
      ],
      "execution_count": null,
      "outputs": [
        {
          "data": {
            "image/png": "[encoded data removed]",
            "text/plain": "<Figure size 432x288 with 1 Axes>"
          },
          "metadata": {
            "needs_background": "light"
          },
          "output_type": "display_data"
        }
      ]
    },
    {
      "metadata": {
        "id": "da8dddf9"
      },
      "id": "da8dddf9",
      "cell_type": "markdown",
      "source": [
        "### 2)Association rules with 20% Support and 60% confidence"
      ]
    },
    {
      "metadata": {
        "trusted": false,
        "id": "07086459",
        "outputId": "5e3de6a1-e7ac-4e93-cfeb-efe8be252e8c"
      },
      "id": "07086459",
      "cell_type": "code",
      "source": [
        "# With 20% Support\n",
        "frequent_itemsets2=apriori(book,min_support=0.20,use_colnames=True)\n",
        "frequent_itemsets2"
      ],
      "execution_count": null,
      "outputs": [
        {
          "data": {
            "text/html": "<div>\n<style scoped>\n    .dataframe tbody tr th:only-of-type {\n        vertical-align: middle;\n    }\n\n    .dataframe tbody tr th {\n        vertical-align: top;\n    }\n\n    .dataframe thead th {\n        text-align: right;\n    }\n</style>\n<table border=\"1\" class=\"dataframe\">\n  <thead>\n    <tr style=\"text-align: right;\">\n      <th></th>\n      <th>support</th>\n      <th>itemsets</th>\n    </tr>\n  </thead>\n  <tbody>\n    <tr>\n      <th>0</th>\n      <td>0.4230</td>\n      <td>(ChildBks)</td>\n    </tr>\n    <tr>\n      <th>1</th>\n      <td>0.2475</td>\n      <td>(YouthBks)</td>\n    </tr>\n    <tr>\n      <th>2</th>\n      <td>0.4310</td>\n      <td>(CookBks)</td>\n    </tr>\n    <tr>\n      <th>3</th>\n      <td>0.2820</td>\n      <td>(DoItYBks)</td>\n    </tr>\n    <tr>\n      <th>4</th>\n      <td>0.2145</td>\n      <td>(RefBks)</td>\n    </tr>\n    <tr>\n      <th>5</th>\n      <td>0.2410</td>\n      <td>(ArtBks)</td>\n    </tr>\n    <tr>\n      <th>6</th>\n      <td>0.2760</td>\n      <td>(GeogBks)</td>\n    </tr>\n    <tr>\n      <th>7</th>\n      <td>0.2560</td>\n      <td>(CookBks, ChildBks)</td>\n    </tr>\n  </tbody>\n</table>\n</div>",
            "text/plain": "   support             itemsets\n0   0.4230           (ChildBks)\n1   0.2475           (YouthBks)\n2   0.4310            (CookBks)\n3   0.2820           (DoItYBks)\n4   0.2145             (RefBks)\n5   0.2410             (ArtBks)\n6   0.2760            (GeogBks)\n7   0.2560  (CookBks, ChildBks)"
          },
          "execution_count": 8,
          "metadata": {},
          "output_type": "execute_result"
        }
      ]
    },
    {
      "metadata": {
        "trusted": false,
        "id": "0bce266f",
        "outputId": "337db436-b8b6-44f7-ac9f-e3cf2197895e"
      },
      "id": "0bce266f",
      "cell_type": "code",
      "source": [
        "# With 60% confidence\n",
        "rules2=association_rules(frequent_itemsets2,metric='lift',min_threshold=0.6)\n",
        "rules2"
      ],
      "execution_count": null,
      "outputs": [
        {
          "data": {
            "text/html": "<div>\n<style scoped>\n    .dataframe tbody tr th:only-of-type {\n        vertical-align: middle;\n    }\n\n    .dataframe tbody tr th {\n        vertical-align: top;\n    }\n\n    .dataframe thead th {\n        text-align: right;\n    }\n</style>\n<table border=\"1\" class=\"dataframe\">\n  <thead>\n    <tr style=\"text-align: right;\">\n      <th></th>\n      <th>antecedents</th>\n      <th>consequents</th>\n      <th>antecedent support</th>\n      <th>consequent support</th>\n      <th>support</th>\n      <th>confidence</th>\n      <th>lift</th>\n      <th>leverage</th>\n      <th>conviction</th>\n    </tr>\n  </thead>\n  <tbody>\n    <tr>\n      <th>0</th>\n      <td>(CookBks)</td>\n      <td>(ChildBks)</td>\n      <td>0.431</td>\n      <td>0.423</td>\n      <td>0.256</td>\n      <td>0.593968</td>\n      <td>1.404179</td>\n      <td>0.073687</td>\n      <td>1.421069</td>\n    </tr>\n    <tr>\n      <th>1</th>\n      <td>(ChildBks)</td>\n      <td>(CookBks)</td>\n      <td>0.423</td>\n      <td>0.431</td>\n      <td>0.256</td>\n      <td>0.605201</td>\n      <td>1.404179</td>\n      <td>0.073687</td>\n      <td>1.441240</td>\n    </tr>\n  </tbody>\n</table>\n</div>",
            "text/plain": "  antecedents consequents  antecedent support  consequent support  support  \\\n0   (CookBks)  (ChildBks)               0.431               0.423    0.256   \n1  (ChildBks)   (CookBks)               0.423               0.431    0.256   \n\n   confidence      lift  leverage  conviction  \n0    0.593968  1.404179  0.073687    1.421069  \n1    0.605201  1.404179  0.073687    1.441240  "
          },
          "execution_count": 9,
          "metadata": {},
          "output_type": "execute_result"
        }
      ]
    },
    {
      "metadata": {
        "trusted": false,
        "id": "cd5185ad",
        "outputId": "173e7833-b2f1-4fd3-8239-8cafb9f69e7a"
      },
      "id": "cd5185ad",
      "cell_type": "code",
      "source": [
        "# visualization of obtained rule\n",
        "plt.scatter(rules2['support'],rules2['confidence'])\n",
        "plt.xlabel('support')\n",
        "plt.ylabel('confidence')\n",
        "plt.show()"
      ],
      "execution_count": null,
      "outputs": [
        {
          "data": {
            "image/png": "[encoded data removed]",
            "text/plain": "<Figure size 432x288 with 1 Axes>"
          },
          "metadata": {
            "needs_background": "light"
          },
          "output_type": "display_data"
        }
      ]
    },
    {
      "metadata": {
        "id": "6ca676f8"
      },
      "id": "6ca676f8",
      "cell_type": "markdown",
      "source": [
        "### 3) Association rules with 5% Support and 80% confidence"
      ]
    },
    {
      "metadata": {
        "trusted": false,
        "id": "224df891",
        "outputId": "d0c59f62-f162-42d8-c1eb-795af7441321"
      },
      "id": "224df891",
      "cell_type": "code",
      "source": [
        "# With 5% Support\n",
        "frequent_itemsets3=apriori(book,min_support=0.05,use_colnames=True)\n",
        "frequent_itemsets3"
      ],
      "execution_count": null,
      "outputs": [
        {
          "data": {
            "text/html": "<div>\n<style scoped>\n    .dataframe tbody tr th:only-of-type {\n        vertical-align: middle;\n    }\n\n    .dataframe tbody tr th {\n        vertical-align: top;\n    }\n\n    .dataframe thead th {\n        text-align: right;\n    }\n</style>\n<table border=\"1\" class=\"dataframe\">\n  <thead>\n    <tr style=\"text-align: right;\">\n      <th></th>\n      <th>support</th>\n      <th>itemsets</th>\n    </tr>\n  </thead>\n  <tbody>\n    <tr>\n      <th>0</th>\n      <td>0.4230</td>\n      <td>(ChildBks)</td>\n    </tr>\n    <tr>\n      <th>1</th>\n      <td>0.2475</td>\n      <td>(YouthBks)</td>\n    </tr>\n    <tr>\n      <th>2</th>\n      <td>0.4310</td>\n      <td>(CookBks)</td>\n    </tr>\n    <tr>\n      <th>3</th>\n      <td>0.2820</td>\n      <td>(DoItYBks)</td>\n    </tr>\n    <tr>\n      <th>4</th>\n      <td>0.2145</td>\n      <td>(RefBks)</td>\n    </tr>\n    <tr>\n      <th>...</th>\n      <td>...</td>\n      <td>...</td>\n    </tr>\n    <tr>\n      <th>95</th>\n      <td>0.0600</td>\n      <td>(CookBks, DoItYBks, GeogBks, YouthBks)</td>\n    </tr>\n    <tr>\n      <th>96</th>\n      <td>0.0560</td>\n      <td>(CookBks, ArtBks, GeogBks, YouthBks)</td>\n    </tr>\n    <tr>\n      <th>97</th>\n      <td>0.0650</td>\n      <td>(CookBks, DoItYBks, ArtBks, GeogBks)</td>\n    </tr>\n    <tr>\n      <th>98</th>\n      <td>0.0510</td>\n      <td>(DoItYBks, GeogBks, YouthBks, ChildBks, CookBks)</td>\n    </tr>\n    <tr>\n      <th>99</th>\n      <td>0.0535</td>\n      <td>(DoItYBks, ArtBks, GeogBks, ChildBks, CookBks)</td>\n    </tr>\n  </tbody>\n</table>\n<p>100 rows × 2 columns</p>\n</div>",
            "text/plain": "    support                                          itemsets\n0    0.4230                                        (ChildBks)\n1    0.2475                                        (YouthBks)\n2    0.4310                                         (CookBks)\n3    0.2820                                        (DoItYBks)\n4    0.2145                                          (RefBks)\n..      ...                                               ...\n95   0.0600            (CookBks, DoItYBks, GeogBks, YouthBks)\n96   0.0560              (CookBks, ArtBks, GeogBks, YouthBks)\n97   0.0650              (CookBks, DoItYBks, ArtBks, GeogBks)\n98   0.0510  (DoItYBks, GeogBks, YouthBks, ChildBks, CookBks)\n99   0.0535    (DoItYBks, ArtBks, GeogBks, ChildBks, CookBks)\n\n[100 rows x 2 columns]"
          },
          "execution_count": 11,
          "metadata": {},
          "output_type": "execute_result"
        }
      ]
    },
    {
      "metadata": {
        "trusted": false,
        "id": "16460121",
        "outputId": "b3ad4eae-b0aa-4dd5-ac79-ad53b2f7068e"
      },
      "id": "16460121",
      "cell_type": "code",
      "source": [
        "# With 80% confidence\n",
        "rules3=association_rules(frequent_itemsets3,metric='lift',min_threshold=0.8)\n",
        "rules3"
      ],
      "execution_count": null,
      "outputs": [
        {
          "data": {
            "text/html": "<div>\n<style scoped>\n    .dataframe tbody tr th:only-of-type {\n        vertical-align: middle;\n    }\n\n    .dataframe tbody tr th {\n        vertical-align: top;\n    }\n\n    .dataframe thead th {\n        text-align: right;\n    }\n</style>\n<table border=\"1\" class=\"dataframe\">\n  <thead>\n    <tr style=\"text-align: right;\">\n      <th></th>\n      <th>antecedents</th>\n      <th>consequents</th>\n      <th>antecedent support</th>\n      <th>consequent support</th>\n      <th>support</th>\n      <th>confidence</th>\n      <th>lift</th>\n      <th>leverage</th>\n      <th>conviction</th>\n    </tr>\n  </thead>\n  <tbody>\n    <tr>\n      <th>0</th>\n      <td>(YouthBks)</td>\n      <td>(ChildBks)</td>\n      <td>0.2475</td>\n      <td>0.4230</td>\n      <td>0.1650</td>\n      <td>0.666667</td>\n      <td>1.576044</td>\n      <td>0.060308</td>\n      <td>1.731000</td>\n    </tr>\n    <tr>\n      <th>1</th>\n      <td>(ChildBks)</td>\n      <td>(YouthBks)</td>\n      <td>0.4230</td>\n      <td>0.2475</td>\n      <td>0.1650</td>\n      <td>0.390071</td>\n      <td>1.576044</td>\n      <td>0.060308</td>\n      <td>1.233750</td>\n    </tr>\n    <tr>\n      <th>2</th>\n      <td>(CookBks)</td>\n      <td>(ChildBks)</td>\n      <td>0.4310</td>\n      <td>0.4230</td>\n      <td>0.2560</td>\n      <td>0.593968</td>\n      <td>1.404179</td>\n      <td>0.073687</td>\n      <td>1.421069</td>\n    </tr>\n    <tr>\n      <th>3</th>\n      <td>(ChildBks)</td>\n      <td>(CookBks)</td>\n      <td>0.4230</td>\n      <td>0.4310</td>\n      <td>0.2560</td>\n      <td>0.605201</td>\n      <td>1.404179</td>\n      <td>0.073687</td>\n      <td>1.441240</td>\n    </tr>\n    <tr>\n      <th>4</th>\n      <td>(DoItYBks)</td>\n      <td>(ChildBks)</td>\n      <td>0.2820</td>\n      <td>0.4230</td>\n      <td>0.1840</td>\n      <td>0.652482</td>\n      <td>1.542511</td>\n      <td>0.064714</td>\n      <td>1.660347</td>\n    </tr>\n    <tr>\n      <th>...</th>\n      <td>...</td>\n      <td>...</td>\n      <td>...</td>\n      <td>...</td>\n      <td>...</td>\n      <td>...</td>\n      <td>...</td>\n      <td>...</td>\n      <td>...</td>\n    </tr>\n    <tr>\n      <th>657</th>\n      <td>(DoItYBks)</td>\n      <td>(GeogBks, CookBks, ArtBks, ChildBks)</td>\n      <td>0.2820</td>\n      <td>0.0835</td>\n      <td>0.0535</td>\n      <td>0.189716</td>\n      <td>2.272052</td>\n      <td>0.029953</td>\n      <td>1.131085</td>\n    </tr>\n    <tr>\n      <th>658</th>\n      <td>(ArtBks)</td>\n      <td>(GeogBks, DoItYBks, CookBks, ChildBks)</td>\n      <td>0.2410</td>\n      <td>0.0890</td>\n      <td>0.0535</td>\n      <td>0.221992</td>\n      <td>2.494289</td>\n      <td>0.032051</td>\n      <td>1.170939</td>\n    </tr>\n    <tr>\n      <th>659</th>\n      <td>(GeogBks)</td>\n      <td>(CookBks, DoItYBks, ArtBks, ChildBks)</td>\n      <td>0.2760</td>\n      <td>0.0820</td>\n      <td>0.0535</td>\n      <td>0.193841</td>\n      <td>2.363910</td>\n      <td>0.030868</td>\n      <td>1.138733</td>\n    </tr>\n    <tr>\n      <th>660</th>\n      <td>(ChildBks)</td>\n      <td>(GeogBks, DoItYBks, ArtBks, CookBks)</td>\n      <td>0.4230</td>\n      <td>0.0650</td>\n      <td>0.0535</td>\n      <td>0.126478</td>\n      <td>1.945808</td>\n      <td>0.026005</td>\n      <td>1.070379</td>\n    </tr>\n    <tr>\n      <th>661</th>\n      <td>(CookBks)</td>\n      <td>(GeogBks, DoItYBks, ArtBks, ChildBks)</td>\n      <td>0.4310</td>\n      <td>0.0595</td>\n      <td>0.0535</td>\n      <td>0.124130</td>\n      <td>2.086217</td>\n      <td>0.027856</td>\n      <td>1.073789</td>\n    </tr>\n  </tbody>\n</table>\n<p>662 rows × 9 columns</p>\n</div>",
            "text/plain": "    antecedents                             consequents  antecedent support  \\\n0    (YouthBks)                              (ChildBks)              0.2475   \n1    (ChildBks)                              (YouthBks)              0.4230   \n2     (CookBks)                              (ChildBks)              0.4310   \n3    (ChildBks)                               (CookBks)              0.4230   \n4    (DoItYBks)                              (ChildBks)              0.2820   \n..          ...                                     ...                 ...   \n657  (DoItYBks)    (GeogBks, CookBks, ArtBks, ChildBks)              0.2820   \n658    (ArtBks)  (GeogBks, DoItYBks, CookBks, ChildBks)              0.2410   \n659   (GeogBks)   (CookBks, DoItYBks, ArtBks, ChildBks)              0.2760   \n660  (ChildBks)    (GeogBks, DoItYBks, ArtBks, CookBks)              0.4230   \n661   (CookBks)   (GeogBks, DoItYBks, ArtBks, ChildBks)              0.4310   \n\n     consequent support  support  confidence      lift  leverage  conviction  \n0                0.4230   0.1650    0.666667  1.576044  0.060308    1.731000  \n1                0.2475   0.1650    0.390071  1.576044  0.060308    1.233750  \n2                0.4230   0.2560    0.593968  1.404179  0.073687    1.421069  \n3                0.4310   0.2560    0.605201  1.404179  0.073687    1.441240  \n4                0.4230   0.1840    0.652482  1.542511  0.064714    1.660347  \n..                  ...      ...         ...       ...       ...         ...  \n657              0.0835   0.0535    0.189716  2.272052  0.029953    1.131085  \n658              0.0890   0.0535    0.221992  2.494289  0.032051    1.170939  \n659              0.0820   0.0535    0.193841  2.363910  0.030868    1.138733  \n660              0.0650   0.0535    0.126478  1.945808  0.026005    1.070379  \n661              0.0595   0.0535    0.124130  2.086217  0.027856    1.073789  \n\n[662 rows x 9 columns]"
          },
          "execution_count": 12,
          "metadata": {},
          "output_type": "execute_result"
        }
      ]
    },
    {
      "metadata": {
        "trusted": false,
        "id": "8645600d",
        "outputId": "205b2ab2-bd6e-471d-8cb6-156ab9e96d93"
      },
      "id": "8645600d",
      "cell_type": "code",
      "source": [
        "rules3[rules3.lift>1]"
      ],
      "execution_count": null,
      "outputs": [
        {
          "data": {
            "text/html": "<div>\n<style scoped>\n    .dataframe tbody tr th:only-of-type {\n        vertical-align: middle;\n    }\n\n    .dataframe tbody tr th {\n        vertical-align: top;\n    }\n\n    .dataframe thead th {\n        text-align: right;\n    }\n</style>\n<table border=\"1\" class=\"dataframe\">\n  <thead>\n    <tr style=\"text-align: right;\">\n      <th></th>\n      <th>antecedents</th>\n      <th>consequents</th>\n      <th>antecedent support</th>\n      <th>consequent support</th>\n      <th>support</th>\n      <th>confidence</th>\n      <th>lift</th>\n      <th>leverage</th>\n      <th>conviction</th>\n    </tr>\n  </thead>\n  <tbody>\n    <tr>\n      <th>0</th>\n      <td>(YouthBks)</td>\n      <td>(ChildBks)</td>\n      <td>0.2475</td>\n      <td>0.4230</td>\n      <td>0.1650</td>\n      <td>0.666667</td>\n      <td>1.576044</td>\n      <td>0.060308</td>\n      <td>1.731000</td>\n    </tr>\n    <tr>\n      <th>1</th>\n      <td>(ChildBks)</td>\n      <td>(YouthBks)</td>\n      <td>0.4230</td>\n      <td>0.2475</td>\n      <td>0.1650</td>\n      <td>0.390071</td>\n      <td>1.576044</td>\n      <td>0.060308</td>\n      <td>1.233750</td>\n    </tr>\n    <tr>\n      <th>2</th>\n      <td>(CookBks)</td>\n      <td>(ChildBks)</td>\n      <td>0.4310</td>\n      <td>0.4230</td>\n      <td>0.2560</td>\n      <td>0.593968</td>\n      <td>1.404179</td>\n      <td>0.073687</td>\n      <td>1.421069</td>\n    </tr>\n    <tr>\n      <th>3</th>\n      <td>(ChildBks)</td>\n      <td>(CookBks)</td>\n      <td>0.4230</td>\n      <td>0.4310</td>\n      <td>0.2560</td>\n      <td>0.605201</td>\n      <td>1.404179</td>\n      <td>0.073687</td>\n      <td>1.441240</td>\n    </tr>\n    <tr>\n      <th>4</th>\n      <td>(DoItYBks)</td>\n      <td>(ChildBks)</td>\n      <td>0.2820</td>\n      <td>0.4230</td>\n      <td>0.1840</td>\n      <td>0.652482</td>\n      <td>1.542511</td>\n      <td>0.064714</td>\n      <td>1.660347</td>\n    </tr>\n    <tr>\n      <th>...</th>\n      <td>...</td>\n      <td>...</td>\n      <td>...</td>\n      <td>...</td>\n      <td>...</td>\n      <td>...</td>\n      <td>...</td>\n      <td>...</td>\n      <td>...</td>\n    </tr>\n    <tr>\n      <th>657</th>\n      <td>(DoItYBks)</td>\n      <td>(GeogBks, CookBks, ArtBks, ChildBks)</td>\n      <td>0.2820</td>\n      <td>0.0835</td>\n      <td>0.0535</td>\n      <td>0.189716</td>\n      <td>2.272052</td>\n      <td>0.029953</td>\n      <td>1.131085</td>\n    </tr>\n    <tr>\n      <th>658</th>\n      <td>(ArtBks)</td>\n      <td>(GeogBks, DoItYBks, CookBks, ChildBks)</td>\n      <td>0.2410</td>\n      <td>0.0890</td>\n      <td>0.0535</td>\n      <td>0.221992</td>\n      <td>2.494289</td>\n      <td>0.032051</td>\n      <td>1.170939</td>\n    </tr>\n    <tr>\n      <th>659</th>\n      <td>(GeogBks)</td>\n      <td>(CookBks, DoItYBks, ArtBks, ChildBks)</td>\n      <td>0.2760</td>\n      <td>0.0820</td>\n      <td>0.0535</td>\n      <td>0.193841</td>\n      <td>2.363910</td>\n      <td>0.030868</td>\n      <td>1.138733</td>\n    </tr>\n    <tr>\n      <th>660</th>\n      <td>(ChildBks)</td>\n      <td>(GeogBks, DoItYBks, ArtBks, CookBks)</td>\n      <td>0.4230</td>\n      <td>0.0650</td>\n      <td>0.0535</td>\n      <td>0.126478</td>\n      <td>1.945808</td>\n      <td>0.026005</td>\n      <td>1.070379</td>\n    </tr>\n    <tr>\n      <th>661</th>\n      <td>(CookBks)</td>\n      <td>(GeogBks, DoItYBks, ArtBks, ChildBks)</td>\n      <td>0.4310</td>\n      <td>0.0595</td>\n      <td>0.0535</td>\n      <td>0.124130</td>\n      <td>2.086217</td>\n      <td>0.027856</td>\n      <td>1.073789</td>\n    </tr>\n  </tbody>\n</table>\n<p>662 rows × 9 columns</p>\n</div>",
            "text/plain": "    antecedents                             consequents  antecedent support  \\\n0    (YouthBks)                              (ChildBks)              0.2475   \n1    (ChildBks)                              (YouthBks)              0.4230   \n2     (CookBks)                              (ChildBks)              0.4310   \n3    (ChildBks)                               (CookBks)              0.4230   \n4    (DoItYBks)                              (ChildBks)              0.2820   \n..          ...                                     ...                 ...   \n657  (DoItYBks)    (GeogBks, CookBks, ArtBks, ChildBks)              0.2820   \n658    (ArtBks)  (GeogBks, DoItYBks, CookBks, ChildBks)              0.2410   \n659   (GeogBks)   (CookBks, DoItYBks, ArtBks, ChildBks)              0.2760   \n660  (ChildBks)    (GeogBks, DoItYBks, ArtBks, CookBks)              0.4230   \n661   (CookBks)   (GeogBks, DoItYBks, ArtBks, ChildBks)              0.4310   \n\n     consequent support  support  confidence      lift  leverage  conviction  \n0                0.4230   0.1650    0.666667  1.576044  0.060308    1.731000  \n1                0.2475   0.1650    0.390071  1.576044  0.060308    1.233750  \n2                0.4230   0.2560    0.593968  1.404179  0.073687    1.421069  \n3                0.4310   0.2560    0.605201  1.404179  0.073687    1.441240  \n4                0.4230   0.1840    0.652482  1.542511  0.064714    1.660347  \n..                  ...      ...         ...       ...       ...         ...  \n657              0.0835   0.0535    0.189716  2.272052  0.029953    1.131085  \n658              0.0890   0.0535    0.221992  2.494289  0.032051    1.170939  \n659              0.0820   0.0535    0.193841  2.363910  0.030868    1.138733  \n660              0.0650   0.0535    0.126478  1.945808  0.026005    1.070379  \n661              0.0595   0.0535    0.124130  2.086217  0.027856    1.073789  \n\n[662 rows x 9 columns]"
          },
          "execution_count": 13,
          "metadata": {},
          "output_type": "execute_result"
        }
      ]
    },
    {
      "metadata": {
        "trusted": false,
        "id": "ad34ab58",
        "outputId": "fc5b3d2e-8988-4762-84f3-dba0a1b00f29"
      },
      "id": "ad34ab58",
      "cell_type": "code",
      "source": [
        "# visualization of obtained rule\n",
        "plt.scatter(rules3['support'],rules3['confidence'])\n",
        "plt.xlabel('support')\n",
        "plt.ylabel('confidence')\n",
        "plt.show()"
      ],
      "execution_count": null,
      "outputs": [
        {
          "data": {
            "image/png": "[encoded data removed]",
            "text/plain": "<Figure size 432x288 with 1 Axes>"
          },
          "metadata": {
            "needs_background": "light"
          },
          "output_type": "display_data"
        }
      ]
    },
    {
      "metadata": {
        "trusted": false,
        "id": "a2767483"
      },
      "id": "a2767483",
      "cell_type": "code",
      "source": [],
      "execution_count": null,
      "outputs": []
    },
    {
      "metadata": {
        "trusted": false,
        "id": "6193ccef"
      },
      "id": "6193ccef",
      "cell_type": "code",
      "source": [],
      "execution_count": null,
      "outputs": []
    },
    {
      "metadata": {
        "trusted": false,
        "id": "a81d5dd8"
      },
      "id": "a81d5dd8",
      "cell_type": "code",
      "source": [],
      "execution_count": null,
      "outputs": []
    },
    {
      "metadata": {
        "id": "f2922e93"
      },
      "id": "f2922e93",
      "cell_type": "markdown",
      "source": [
        "## Prepare rules for the all the data sets\n",
        "## 1) Try different values of support and confidence. Observe the change in number of rules for different support,confidence values\n",
        "## 2) Change the minimum length in apriori algorithm\n",
        "## 3) Visulize the obtained rules using different plots (Data=My Movies)"
      ]
    },
    {
      "metadata": {
        "trusted": false,
        "id": "dd199c7f"
      },
      "id": "dd199c7f",
      "cell_type": "code",
      "source": [
        "# Import Libraries\n",
        "import pandas as pd\n",
        "import numpy as np\n",
        "import matplotlib.pyplot as plt\n",
        "from mlxtend.frequent_patterns import apriori,association_rules\n",
        "from mlxtend.preprocessing import TransactionEncoder"
      ],
      "execution_count": null,
      "outputs": []
    },
    {
      "metadata": {
        "trusted": false,
        "id": "2e68ecdf",
        "outputId": "40708970-d1fe-41d9-e7d6-6e37af150746"
      },
      "id": "2e68ecdf",
      "cell_type": "code",
      "source": [
        "#import dataset\n",
        "movie=pd.read_csv(\"C:/Users/Piyush/Downloads/my_movies.csv\")\n",
        "movie"
      ],
      "execution_count": null,
      "outputs": [
        {
          "data": {
            "text/html": "<div>\n<style scoped>\n    .dataframe tbody tr th:only-of-type {\n        vertical-align: middle;\n    }\n\n    .dataframe tbody tr th {\n        vertical-align: top;\n    }\n\n    .dataframe thead th {\n        text-align: right;\n    }\n</style>\n<table border=\"1\" class=\"dataframe\">\n  <thead>\n    <tr style=\"text-align: right;\">\n      <th></th>\n      <th>V1</th>\n      <th>V2</th>\n      <th>V3</th>\n      <th>V4</th>\n      <th>V5</th>\n      <th>Sixth Sense</th>\n      <th>Gladiator</th>\n      <th>LOTR1</th>\n      <th>Harry Potter1</th>\n      <th>Patriot</th>\n      <th>LOTR2</th>\n      <th>Harry Potter2</th>\n      <th>LOTR</th>\n      <th>Braveheart</th>\n      <th>Green Mile</th>\n    </tr>\n  </thead>\n  <tbody>\n    <tr>\n      <th>0</th>\n      <td>Sixth Sense</td>\n      <td>LOTR1</td>\n      <td>Harry Potter1</td>\n      <td>Green Mile</td>\n      <td>LOTR2</td>\n      <td>1</td>\n      <td>0</td>\n      <td>1</td>\n      <td>1</td>\n      <td>0</td>\n      <td>1</td>\n      <td>0</td>\n      <td>0</td>\n      <td>0</td>\n      <td>1</td>\n    </tr>\n    <tr>\n      <th>1</th>\n      <td>Gladiator</td>\n      <td>Patriot</td>\n      <td>Braveheart</td>\n      <td>NaN</td>\n      <td>NaN</td>\n      <td>0</td>\n      <td>1</td>\n      <td>0</td>\n      <td>0</td>\n      <td>1</td>\n      <td>0</td>\n      <td>0</td>\n      <td>0</td>\n      <td>1</td>\n      <td>0</td>\n    </tr>\n    <tr>\n      <th>2</th>\n      <td>LOTR1</td>\n      <td>LOTR2</td>\n      <td>NaN</td>\n      <td>NaN</td>\n      <td>NaN</td>\n      <td>0</td>\n      <td>0</td>\n      <td>1</td>\n      <td>0</td>\n      <td>0</td>\n      <td>1</td>\n      <td>0</td>\n      <td>0</td>\n      <td>0</td>\n      <td>0</td>\n    </tr>\n    <tr>\n      <th>3</th>\n      <td>Gladiator</td>\n      <td>Patriot</td>\n      <td>Sixth Sense</td>\n      <td>NaN</td>\n      <td>NaN</td>\n      <td>1</td>\n      <td>1</td>\n      <td>0</td>\n      <td>0</td>\n      <td>1</td>\n      <td>0</td>\n      <td>0</td>\n      <td>0</td>\n      <td>0</td>\n      <td>0</td>\n    </tr>\n    <tr>\n      <th>4</th>\n      <td>Gladiator</td>\n      <td>Patriot</td>\n      <td>Sixth Sense</td>\n      <td>NaN</td>\n      <td>NaN</td>\n      <td>1</td>\n      <td>1</td>\n      <td>0</td>\n      <td>0</td>\n      <td>1</td>\n      <td>0</td>\n      <td>0</td>\n      <td>0</td>\n      <td>0</td>\n      <td>0</td>\n    </tr>\n    <tr>\n      <th>5</th>\n      <td>Gladiator</td>\n      <td>Patriot</td>\n      <td>Sixth Sense</td>\n      <td>NaN</td>\n      <td>NaN</td>\n      <td>1</td>\n      <td>1</td>\n      <td>0</td>\n      <td>0</td>\n      <td>1</td>\n      <td>0</td>\n      <td>0</td>\n      <td>0</td>\n      <td>0</td>\n      <td>0</td>\n    </tr>\n    <tr>\n      <th>6</th>\n      <td>Harry Potter1</td>\n      <td>Harry Potter2</td>\n      <td>NaN</td>\n      <td>NaN</td>\n      <td>NaN</td>\n      <td>0</td>\n      <td>0</td>\n      <td>0</td>\n      <td>1</td>\n      <td>0</td>\n      <td>0</td>\n      <td>1</td>\n      <td>0</td>\n      <td>0</td>\n      <td>0</td>\n    </tr>\n    <tr>\n      <th>7</th>\n      <td>Gladiator</td>\n      <td>Patriot</td>\n      <td>NaN</td>\n      <td>NaN</td>\n      <td>NaN</td>\n      <td>0</td>\n      <td>1</td>\n      <td>0</td>\n      <td>0</td>\n      <td>1</td>\n      <td>0</td>\n      <td>0</td>\n      <td>0</td>\n      <td>0</td>\n      <td>0</td>\n    </tr>\n    <tr>\n      <th>8</th>\n      <td>Gladiator</td>\n      <td>Patriot</td>\n      <td>Sixth Sense</td>\n      <td>NaN</td>\n      <td>NaN</td>\n      <td>1</td>\n      <td>1</td>\n      <td>0</td>\n      <td>0</td>\n      <td>1</td>\n      <td>0</td>\n      <td>0</td>\n      <td>0</td>\n      <td>0</td>\n      <td>0</td>\n    </tr>\n    <tr>\n      <th>9</th>\n      <td>Sixth Sense</td>\n      <td>LOTR</td>\n      <td>Gladiator</td>\n      <td>Green Mile</td>\n      <td>NaN</td>\n      <td>1</td>\n      <td>1</td>\n      <td>0</td>\n      <td>0</td>\n      <td>0</td>\n      <td>0</td>\n      <td>0</td>\n      <td>1</td>\n      <td>0</td>\n      <td>1</td>\n    </tr>\n  </tbody>\n</table>\n</div>",
            "text/plain": "              V1             V2             V3          V4     V5  \\\n0    Sixth Sense          LOTR1  Harry Potter1  Green Mile  LOTR2   \n1      Gladiator        Patriot     Braveheart         NaN    NaN   \n2          LOTR1          LOTR2            NaN         NaN    NaN   \n3      Gladiator        Patriot    Sixth Sense         NaN    NaN   \n4      Gladiator        Patriot    Sixth Sense         NaN    NaN   \n5      Gladiator        Patriot    Sixth Sense         NaN    NaN   \n6  Harry Potter1  Harry Potter2            NaN         NaN    NaN   \n7      Gladiator        Patriot            NaN         NaN    NaN   \n8      Gladiator        Patriot    Sixth Sense         NaN    NaN   \n9    Sixth Sense           LOTR      Gladiator  Green Mile    NaN   \n\n   Sixth Sense  Gladiator  LOTR1  Harry Potter1  Patriot  LOTR2  \\\n0            1          0      1              1        0      1   \n1            0          1      0              0        1      0   \n2            0          0      1              0        0      1   \n3            1          1      0              0        1      0   \n4            1          1      0              0        1      0   \n5            1          1      0              0        1      0   \n6            0          0      0              1        0      0   \n7            0          1      0              0        1      0   \n8            1          1      0              0        1      0   \n9            1          1      0              0        0      0   \n\n   Harry Potter2  LOTR  Braveheart  Green Mile  \n0              0     0           0           1  \n1              0     0           1           0  \n2              0     0           0           0  \n3              0     0           0           0  \n4              0     0           0           0  \n5              0     0           0           0  \n6              1     0           0           0  \n7              0     0           0           0  \n8              0     0           0           0  \n9              0     1           0           1  "
          },
          "execution_count": 20,
          "metadata": {},
          "output_type": "execute_result"
        }
      ]
    },
    {
      "metadata": {
        "trusted": false,
        "id": "369d4788",
        "outputId": "55f9a0cb-8587-4569-8c0f-eb1be15f2808"
      },
      "id": "369d4788",
      "cell_type": "code",
      "source": [
        "movie.shape"
      ],
      "execution_count": null,
      "outputs": [
        {
          "data": {
            "text/plain": "(10, 15)"
          },
          "execution_count": 21,
          "metadata": {},
          "output_type": "execute_result"
        }
      ]
    },
    {
      "metadata": {
        "trusted": false,
        "id": "9e32cda9",
        "outputId": "e3121550-3b43-49a0-dc1f-f99f6d64c0ad"
      },
      "id": "9e32cda9",
      "cell_type": "code",
      "source": [
        "movie.info()"
      ],
      "execution_count": null,
      "outputs": [
        {
          "name": "stdout",
          "output_type": "stream",
          "text": "<class 'pandas.core.frame.DataFrame'>\nRangeIndex: 10 entries, 0 to 9\nData columns (total 15 columns):\n #   Column         Non-Null Count  Dtype \n---  ------         --------------  ----- \n 0   V1             10 non-null     object\n 1   V2             10 non-null     object\n 2   V3             7 non-null      object\n 3   V4             2 non-null      object\n 4   V5             1 non-null      object\n 5   Sixth Sense    10 non-null     int64 \n 6   Gladiator      10 non-null     int64 \n 7   LOTR1          10 non-null     int64 \n 8   Harry Potter1  10 non-null     int64 \n 9   Patriot        10 non-null     int64 \n 10  LOTR2          10 non-null     int64 \n 11  Harry Potter2  10 non-null     int64 \n 12  LOTR           10 non-null     int64 \n 13  Braveheart     10 non-null     int64 \n 14  Green Mile     10 non-null     int64 \ndtypes: int64(10), object(5)\nmemory usage: 1.3+ KB\n"
        }
      ]
    },
    {
      "metadata": {
        "id": "6f076bbe"
      },
      "id": "6f076bbe",
      "cell_type": "markdown",
      "source": [
        "### Data Preprocessing"
      ]
    },
    {
      "metadata": {
        "trusted": false,
        "id": "c59007e0",
        "outputId": "3d1ab11b-d7d8-4ba0-c5ed-1d0ca403144b"
      },
      "id": "c59007e0",
      "cell_type": "code",
      "source": [
        "movie2=movie.iloc[:,5:]\n",
        "movie2"
      ],
      "execution_count": null,
      "outputs": [
        {
          "data": {
            "text/html": "<div>\n<style scoped>\n    .dataframe tbody tr th:only-of-type {\n        vertical-align: middle;\n    }\n\n    .dataframe tbody tr th {\n        vertical-align: top;\n    }\n\n    .dataframe thead th {\n        text-align: right;\n    }\n</style>\n<table border=\"1\" class=\"dataframe\">\n  <thead>\n    <tr style=\"text-align: right;\">\n      <th></th>\n      <th>Sixth Sense</th>\n      <th>Gladiator</th>\n      <th>LOTR1</th>\n      <th>Harry Potter1</th>\n      <th>Patriot</th>\n      <th>LOTR2</th>\n      <th>Harry Potter2</th>\n      <th>LOTR</th>\n      <th>Braveheart</th>\n      <th>Green Mile</th>\n    </tr>\n  </thead>\n  <tbody>\n    <tr>\n      <th>0</th>\n      <td>1</td>\n      <td>0</td>\n      <td>1</td>\n      <td>1</td>\n      <td>0</td>\n      <td>1</td>\n      <td>0</td>\n      <td>0</td>\n      <td>0</td>\n      <td>1</td>\n    </tr>\n    <tr>\n      <th>1</th>\n      <td>0</td>\n      <td>1</td>\n      <td>0</td>\n      <td>0</td>\n      <td>1</td>\n      <td>0</td>\n      <td>0</td>\n      <td>0</td>\n      <td>1</td>\n      <td>0</td>\n    </tr>\n    <tr>\n      <th>2</th>\n      <td>0</td>\n      <td>0</td>\n      <td>1</td>\n      <td>0</td>\n      <td>0</td>\n      <td>1</td>\n      <td>0</td>\n      <td>0</td>\n      <td>0</td>\n      <td>0</td>\n    </tr>\n    <tr>\n      <th>3</th>\n      <td>1</td>\n      <td>1</td>\n      <td>0</td>\n      <td>0</td>\n      <td>1</td>\n      <td>0</td>\n      <td>0</td>\n      <td>0</td>\n      <td>0</td>\n      <td>0</td>\n    </tr>\n    <tr>\n      <th>4</th>\n      <td>1</td>\n      <td>1</td>\n      <td>0</td>\n      <td>0</td>\n      <td>1</td>\n      <td>0</td>\n      <td>0</td>\n      <td>0</td>\n      <td>0</td>\n      <td>0</td>\n    </tr>\n    <tr>\n      <th>5</th>\n      <td>1</td>\n      <td>1</td>\n      <td>0</td>\n      <td>0</td>\n      <td>1</td>\n      <td>0</td>\n      <td>0</td>\n      <td>0</td>\n      <td>0</td>\n      <td>0</td>\n    </tr>\n    <tr>\n      <th>6</th>\n      <td>0</td>\n      <td>0</td>\n      <td>0</td>\n      <td>1</td>\n      <td>0</td>\n      <td>0</td>\n      <td>1</td>\n      <td>0</td>\n      <td>0</td>\n      <td>0</td>\n    </tr>\n    <tr>\n      <th>7</th>\n      <td>0</td>\n      <td>1</td>\n      <td>0</td>\n      <td>0</td>\n      <td>1</td>\n      <td>0</td>\n      <td>0</td>\n      <td>0</td>\n      <td>0</td>\n      <td>0</td>\n    </tr>\n    <tr>\n      <th>8</th>\n      <td>1</td>\n      <td>1</td>\n      <td>0</td>\n      <td>0</td>\n      <td>1</td>\n      <td>0</td>\n      <td>0</td>\n      <td>0</td>\n      <td>0</td>\n      <td>0</td>\n    </tr>\n    <tr>\n      <th>9</th>\n      <td>1</td>\n      <td>1</td>\n      <td>0</td>\n      <td>0</td>\n      <td>0</td>\n      <td>0</td>\n      <td>0</td>\n      <td>1</td>\n      <td>0</td>\n      <td>1</td>\n    </tr>\n  </tbody>\n</table>\n</div>",
            "text/plain": "   Sixth Sense  Gladiator  LOTR1  Harry Potter1  Patriot  LOTR2  \\\n0            1          0      1              1        0      1   \n1            0          1      0              0        1      0   \n2            0          0      1              0        0      1   \n3            1          1      0              0        1      0   \n4            1          1      0              0        1      0   \n5            1          1      0              0        1      0   \n6            0          0      0              1        0      0   \n7            0          1      0              0        1      0   \n8            1          1      0              0        1      0   \n9            1          1      0              0        0      0   \n\n   Harry Potter2  LOTR  Braveheart  Green Mile  \n0              0     0           0           1  \n1              0     0           1           0  \n2              0     0           0           0  \n3              0     0           0           0  \n4              0     0           0           0  \n5              0     0           0           0  \n6              1     0           0           0  \n7              0     0           0           0  \n8              0     0           0           0  \n9              0     1           0           1  "
          },
          "execution_count": 23,
          "metadata": {},
          "output_type": "execute_result"
        }
      ]
    },
    {
      "metadata": {
        "id": "f2fd2f8c"
      },
      "id": "f2fd2f8c",
      "cell_type": "markdown",
      "source": [
        "## Apriori Algorithm\n",
        "### 1. Association rules with 10% Support and 70% confidence"
      ]
    },
    {
      "metadata": {
        "trusted": false,
        "id": "df53c800",
        "outputId": "543460a7-babf-4da1-d5b4-cb992bb83368"
      },
      "id": "df53c800",
      "cell_type": "code",
      "source": [
        "# with 10% support\n",
        "frequent_itemsets=apriori(movie2,min_support=0.1,use_colnames=True)\n",
        "frequent_itemsets"
      ],
      "execution_count": null,
      "outputs": [
        {
          "data": {
            "text/html": "<div>\n<style scoped>\n    .dataframe tbody tr th:only-of-type {\n        vertical-align: middle;\n    }\n\n    .dataframe tbody tr th {\n        vertical-align: top;\n    }\n\n    .dataframe thead th {\n        text-align: right;\n    }\n</style>\n<table border=\"1\" class=\"dataframe\">\n  <thead>\n    <tr style=\"text-align: right;\">\n      <th></th>\n      <th>support</th>\n      <th>itemsets</th>\n    </tr>\n  </thead>\n  <tbody>\n    <tr>\n      <th>0</th>\n      <td>0.6</td>\n      <td>(Sixth Sense)</td>\n    </tr>\n    <tr>\n      <th>1</th>\n      <td>0.7</td>\n      <td>(Gladiator)</td>\n    </tr>\n    <tr>\n      <th>2</th>\n      <td>0.2</td>\n      <td>(LOTR1)</td>\n    </tr>\n    <tr>\n      <th>3</th>\n      <td>0.2</td>\n      <td>(Harry Potter1)</td>\n    </tr>\n    <tr>\n      <th>4</th>\n      <td>0.6</td>\n      <td>(Patriot)</td>\n    </tr>\n    <tr>\n      <th>5</th>\n      <td>0.2</td>\n      <td>(LOTR2)</td>\n    </tr>\n    <tr>\n      <th>6</th>\n      <td>0.1</td>\n      <td>(Harry Potter2)</td>\n    </tr>\n    <tr>\n      <th>7</th>\n      <td>0.1</td>\n      <td>(LOTR)</td>\n    </tr>\n    <tr>\n      <th>8</th>\n      <td>0.1</td>\n      <td>(Braveheart)</td>\n    </tr>\n    <tr>\n      <th>9</th>\n      <td>0.2</td>\n      <td>(Green Mile)</td>\n    </tr>\n    <tr>\n      <th>10</th>\n      <td>0.5</td>\n      <td>(Gladiator, Sixth Sense)</td>\n    </tr>\n    <tr>\n      <th>11</th>\n      <td>0.1</td>\n      <td>(LOTR1, Sixth Sense)</td>\n    </tr>\n    <tr>\n      <th>12</th>\n      <td>0.1</td>\n      <td>(Harry Potter1, Sixth Sense)</td>\n    </tr>\n    <tr>\n      <th>13</th>\n      <td>0.4</td>\n      <td>(Patriot, Sixth Sense)</td>\n    </tr>\n    <tr>\n      <th>14</th>\n      <td>0.1</td>\n      <td>(LOTR2, Sixth Sense)</td>\n    </tr>\n    <tr>\n      <th>15</th>\n      <td>0.1</td>\n      <td>(LOTR, Sixth Sense)</td>\n    </tr>\n    <tr>\n      <th>16</th>\n      <td>0.2</td>\n      <td>(Green Mile, Sixth Sense)</td>\n    </tr>\n    <tr>\n      <th>17</th>\n      <td>0.6</td>\n      <td>(Gladiator, Patriot)</td>\n    </tr>\n    <tr>\n      <th>18</th>\n      <td>0.1</td>\n      <td>(Gladiator, LOTR)</td>\n    </tr>\n    <tr>\n      <th>19</th>\n      <td>0.1</td>\n      <td>(Gladiator, Braveheart)</td>\n    </tr>\n    <tr>\n      <th>20</th>\n      <td>0.1</td>\n      <td>(Gladiator, Green Mile)</td>\n    </tr>\n    <tr>\n      <th>21</th>\n      <td>0.1</td>\n      <td>(Harry Potter1, LOTR1)</td>\n    </tr>\n    <tr>\n      <th>22</th>\n      <td>0.2</td>\n      <td>(LOTR2, LOTR1)</td>\n    </tr>\n    <tr>\n      <th>23</th>\n      <td>0.1</td>\n      <td>(LOTR1, Green Mile)</td>\n    </tr>\n    <tr>\n      <th>24</th>\n      <td>0.1</td>\n      <td>(Harry Potter1, LOTR2)</td>\n    </tr>\n    <tr>\n      <th>25</th>\n      <td>0.1</td>\n      <td>(Harry Potter1, Harry Potter2)</td>\n    </tr>\n    <tr>\n      <th>26</th>\n      <td>0.1</td>\n      <td>(Harry Potter1, Green Mile)</td>\n    </tr>\n    <tr>\n      <th>27</th>\n      <td>0.1</td>\n      <td>(Patriot, Braveheart)</td>\n    </tr>\n    <tr>\n      <th>28</th>\n      <td>0.1</td>\n      <td>(LOTR2, Green Mile)</td>\n    </tr>\n    <tr>\n      <th>29</th>\n      <td>0.1</td>\n      <td>(LOTR, Green Mile)</td>\n    </tr>\n    <tr>\n      <th>30</th>\n      <td>0.4</td>\n      <td>(Gladiator, Patriot, Sixth Sense)</td>\n    </tr>\n    <tr>\n      <th>31</th>\n      <td>0.1</td>\n      <td>(Gladiator, LOTR, Sixth Sense)</td>\n    </tr>\n    <tr>\n      <th>32</th>\n      <td>0.1</td>\n      <td>(Gladiator, Green Mile, Sixth Sense)</td>\n    </tr>\n    <tr>\n      <th>33</th>\n      <td>0.1</td>\n      <td>(Harry Potter1, LOTR1, Sixth Sense)</td>\n    </tr>\n    <tr>\n      <th>34</th>\n      <td>0.1</td>\n      <td>(LOTR2, LOTR1, Sixth Sense)</td>\n    </tr>\n    <tr>\n      <th>35</th>\n      <td>0.1</td>\n      <td>(LOTR1, Green Mile, Sixth Sense)</td>\n    </tr>\n    <tr>\n      <th>36</th>\n      <td>0.1</td>\n      <td>(Harry Potter1, LOTR2, Sixth Sense)</td>\n    </tr>\n    <tr>\n      <th>37</th>\n      <td>0.1</td>\n      <td>(Harry Potter1, Green Mile, Sixth Sense)</td>\n    </tr>\n    <tr>\n      <th>38</th>\n      <td>0.1</td>\n      <td>(LOTR2, Green Mile, Sixth Sense)</td>\n    </tr>\n    <tr>\n      <th>39</th>\n      <td>0.1</td>\n      <td>(LOTR, Green Mile, Sixth Sense)</td>\n    </tr>\n    <tr>\n      <th>40</th>\n      <td>0.1</td>\n      <td>(Gladiator, Patriot, Braveheart)</td>\n    </tr>\n    <tr>\n      <th>41</th>\n      <td>0.1</td>\n      <td>(Gladiator, Green Mile, LOTR)</td>\n    </tr>\n    <tr>\n      <th>42</th>\n      <td>0.1</td>\n      <td>(Harry Potter1, LOTR2, LOTR1)</td>\n    </tr>\n    <tr>\n      <th>43</th>\n      <td>0.1</td>\n      <td>(Harry Potter1, LOTR1, Green Mile)</td>\n    </tr>\n    <tr>\n      <th>44</th>\n      <td>0.1</td>\n      <td>(LOTR2, LOTR1, Green Mile)</td>\n    </tr>\n    <tr>\n      <th>45</th>\n      <td>0.1</td>\n      <td>(Harry Potter1, LOTR2, Green Mile)</td>\n    </tr>\n    <tr>\n      <th>46</th>\n      <td>0.1</td>\n      <td>(Gladiator, Green Mile, LOTR, Sixth Sense)</td>\n    </tr>\n    <tr>\n      <th>47</th>\n      <td>0.1</td>\n      <td>(Harry Potter1, LOTR2, LOTR1, Sixth Sense)</td>\n    </tr>\n    <tr>\n      <th>48</th>\n      <td>0.1</td>\n      <td>(Harry Potter1, LOTR1, Green Mile, Sixth Sense)</td>\n    </tr>\n    <tr>\n      <th>49</th>\n      <td>0.1</td>\n      <td>(LOTR2, LOTR1, Green Mile, Sixth Sense)</td>\n    </tr>\n    <tr>\n      <th>50</th>\n      <td>0.1</td>\n      <td>(Harry Potter1, LOTR2, Green Mile, Sixth Sense)</td>\n    </tr>\n    <tr>\n      <th>51</th>\n      <td>0.1</td>\n      <td>(Harry Potter1, LOTR2, LOTR1, Green Mile)</td>\n    </tr>\n    <tr>\n      <th>52</th>\n      <td>0.1</td>\n      <td>(Sixth Sense, Harry Potter1, LOTR1, Green Mile...</td>\n    </tr>\n  </tbody>\n</table>\n</div>",
            "text/plain": "    support                                           itemsets\n0       0.6                                      (Sixth Sense)\n1       0.7                                        (Gladiator)\n2       0.2                                            (LOTR1)\n3       0.2                                    (Harry Potter1)\n4       0.6                                          (Patriot)\n5       0.2                                            (LOTR2)\n6       0.1                                    (Harry Potter2)\n7       0.1                                             (LOTR)\n8       0.1                                       (Braveheart)\n9       0.2                                       (Green Mile)\n10      0.5                           (Gladiator, Sixth Sense)\n11      0.1                               (LOTR1, Sixth Sense)\n12      0.1                       (Harry Potter1, Sixth Sense)\n13      0.4                             (Patriot, Sixth Sense)\n14      0.1                               (LOTR2, Sixth Sense)\n15      0.1                                (LOTR, Sixth Sense)\n16      0.2                          (Green Mile, Sixth Sense)\n17      0.6                               (Gladiator, Patriot)\n18      0.1                                  (Gladiator, LOTR)\n19      0.1                            (Gladiator, Braveheart)\n20      0.1                            (Gladiator, Green Mile)\n21      0.1                             (Harry Potter1, LOTR1)\n22      0.2                                     (LOTR2, LOTR1)\n23      0.1                                (LOTR1, Green Mile)\n24      0.1                             (Harry Potter1, LOTR2)\n25      0.1                     (Harry Potter1, Harry Potter2)\n26      0.1                        (Harry Potter1, Green Mile)\n27      0.1                              (Patriot, Braveheart)\n28      0.1                                (LOTR2, Green Mile)\n29      0.1                                 (LOTR, Green Mile)\n30      0.4                  (Gladiator, Patriot, Sixth Sense)\n31      0.1                     (Gladiator, LOTR, Sixth Sense)\n32      0.1               (Gladiator, Green Mile, Sixth Sense)\n33      0.1                (Harry Potter1, LOTR1, Sixth Sense)\n34      0.1                        (LOTR2, LOTR1, Sixth Sense)\n35      0.1                   (LOTR1, Green Mile, Sixth Sense)\n36      0.1                (Harry Potter1, LOTR2, Sixth Sense)\n37      0.1           (Harry Potter1, Green Mile, Sixth Sense)\n38      0.1                   (LOTR2, Green Mile, Sixth Sense)\n39      0.1                    (LOTR, Green Mile, Sixth Sense)\n40      0.1                   (Gladiator, Patriot, Braveheart)\n41      0.1                      (Gladiator, Green Mile, LOTR)\n42      0.1                      (Harry Potter1, LOTR2, LOTR1)\n43      0.1                 (Harry Potter1, LOTR1, Green Mile)\n44      0.1                         (LOTR2, LOTR1, Green Mile)\n45      0.1                 (Harry Potter1, LOTR2, Green Mile)\n46      0.1         (Gladiator, Green Mile, LOTR, Sixth Sense)\n47      0.1         (Harry Potter1, LOTR2, LOTR1, Sixth Sense)\n48      0.1    (Harry Potter1, LOTR1, Green Mile, Sixth Sense)\n49      0.1            (LOTR2, LOTR1, Green Mile, Sixth Sense)\n50      0.1    (Harry Potter1, LOTR2, Green Mile, Sixth Sense)\n51      0.1          (Harry Potter1, LOTR2, LOTR1, Green Mile)\n52      0.1  (Sixth Sense, Harry Potter1, LOTR1, Green Mile..."
          },
          "execution_count": 24,
          "metadata": {},
          "output_type": "execute_result"
        }
      ]
    },
    {
      "metadata": {
        "trusted": false,
        "id": "3924db3f",
        "outputId": "dc2c5cad-7871-4c08-b491-32af70d50490"
      },
      "id": "3924db3f",
      "cell_type": "code",
      "source": [
        "# 70% confidence\n",
        "rules=association_rules(frequent_itemsets,metric='lift',min_threshold=0.7)\n",
        "rules"
      ],
      "execution_count": null,
      "outputs": [
        {
          "data": {
            "text/html": "<div>\n<style scoped>\n    .dataframe tbody tr th:only-of-type {\n        vertical-align: middle;\n    }\n\n    .dataframe tbody tr th {\n        vertical-align: top;\n    }\n\n    .dataframe thead th {\n        text-align: right;\n    }\n</style>\n<table border=\"1\" class=\"dataframe\">\n  <thead>\n    <tr style=\"text-align: right;\">\n      <th></th>\n      <th>antecedents</th>\n      <th>consequents</th>\n      <th>antecedent support</th>\n      <th>consequent support</th>\n      <th>support</th>\n      <th>confidence</th>\n      <th>lift</th>\n      <th>leverage</th>\n      <th>conviction</th>\n    </tr>\n  </thead>\n  <tbody>\n    <tr>\n      <th>0</th>\n      <td>(Gladiator)</td>\n      <td>(Sixth Sense)</td>\n      <td>0.7</td>\n      <td>0.6</td>\n      <td>0.5</td>\n      <td>0.714286</td>\n      <td>1.190476</td>\n      <td>0.08</td>\n      <td>1.40</td>\n    </tr>\n    <tr>\n      <th>1</th>\n      <td>(Sixth Sense)</td>\n      <td>(Gladiator)</td>\n      <td>0.6</td>\n      <td>0.7</td>\n      <td>0.5</td>\n      <td>0.833333</td>\n      <td>1.190476</td>\n      <td>0.08</td>\n      <td>1.80</td>\n    </tr>\n    <tr>\n      <th>2</th>\n      <td>(LOTR1)</td>\n      <td>(Sixth Sense)</td>\n      <td>0.2</td>\n      <td>0.6</td>\n      <td>0.1</td>\n      <td>0.500000</td>\n      <td>0.833333</td>\n      <td>-0.02</td>\n      <td>0.80</td>\n    </tr>\n    <tr>\n      <th>3</th>\n      <td>(Sixth Sense)</td>\n      <td>(LOTR1)</td>\n      <td>0.6</td>\n      <td>0.2</td>\n      <td>0.1</td>\n      <td>0.166667</td>\n      <td>0.833333</td>\n      <td>-0.02</td>\n      <td>0.96</td>\n    </tr>\n    <tr>\n      <th>4</th>\n      <td>(Harry Potter1)</td>\n      <td>(Sixth Sense)</td>\n      <td>0.2</td>\n      <td>0.6</td>\n      <td>0.1</td>\n      <td>0.500000</td>\n      <td>0.833333</td>\n      <td>-0.02</td>\n      <td>0.80</td>\n    </tr>\n    <tr>\n      <th>...</th>\n      <td>...</td>\n      <td>...</td>\n      <td>...</td>\n      <td>...</td>\n      <td>...</td>\n      <td>...</td>\n      <td>...</td>\n      <td>...</td>\n      <td>...</td>\n    </tr>\n    <tr>\n      <th>245</th>\n      <td>(Sixth Sense)</td>\n      <td>(Harry Potter1, LOTR2, LOTR1, Green Mile)</td>\n      <td>0.6</td>\n      <td>0.1</td>\n      <td>0.1</td>\n      <td>0.166667</td>\n      <td>1.666667</td>\n      <td>0.04</td>\n      <td>1.08</td>\n    </tr>\n    <tr>\n      <th>246</th>\n      <td>(Harry Potter1)</td>\n      <td>(LOTR2, LOTR1, Green Mile, Sixth Sense)</td>\n      <td>0.2</td>\n      <td>0.1</td>\n      <td>0.1</td>\n      <td>0.500000</td>\n      <td>5.000000</td>\n      <td>0.08</td>\n      <td>1.80</td>\n    </tr>\n    <tr>\n      <th>247</th>\n      <td>(LOTR1)</td>\n      <td>(Harry Potter1, LOTR2, Green Mile, Sixth Sense)</td>\n      <td>0.2</td>\n      <td>0.1</td>\n      <td>0.1</td>\n      <td>0.500000</td>\n      <td>5.000000</td>\n      <td>0.08</td>\n      <td>1.80</td>\n    </tr>\n    <tr>\n      <th>248</th>\n      <td>(Green Mile)</td>\n      <td>(Harry Potter1, LOTR2, LOTR1, Sixth Sense)</td>\n      <td>0.2</td>\n      <td>0.1</td>\n      <td>0.1</td>\n      <td>0.500000</td>\n      <td>5.000000</td>\n      <td>0.08</td>\n      <td>1.80</td>\n    </tr>\n    <tr>\n      <th>249</th>\n      <td>(LOTR2)</td>\n      <td>(Harry Potter1, LOTR1, Green Mile, Sixth Sense)</td>\n      <td>0.2</td>\n      <td>0.1</td>\n      <td>0.1</td>\n      <td>0.500000</td>\n      <td>5.000000</td>\n      <td>0.08</td>\n      <td>1.80</td>\n    </tr>\n  </tbody>\n</table>\n<p>250 rows × 9 columns</p>\n</div>",
            "text/plain": "         antecedents                                      consequents  \\\n0        (Gladiator)                                    (Sixth Sense)   \n1      (Sixth Sense)                                      (Gladiator)   \n2            (LOTR1)                                    (Sixth Sense)   \n3      (Sixth Sense)                                          (LOTR1)   \n4    (Harry Potter1)                                    (Sixth Sense)   \n..               ...                                              ...   \n245    (Sixth Sense)        (Harry Potter1, LOTR2, LOTR1, Green Mile)   \n246  (Harry Potter1)          (LOTR2, LOTR1, Green Mile, Sixth Sense)   \n247          (LOTR1)  (Harry Potter1, LOTR2, Green Mile, Sixth Sense)   \n248     (Green Mile)       (Harry Potter1, LOTR2, LOTR1, Sixth Sense)   \n249          (LOTR2)  (Harry Potter1, LOTR1, Green Mile, Sixth Sense)   \n\n     antecedent support  consequent support  support  confidence      lift  \\\n0                   0.7                 0.6      0.5    0.714286  1.190476   \n1                   0.6                 0.7      0.5    0.833333  1.190476   \n2                   0.2                 0.6      0.1    0.500000  0.833333   \n3                   0.6                 0.2      0.1    0.166667  0.833333   \n4                   0.2                 0.6      0.1    0.500000  0.833333   \n..                  ...                 ...      ...         ...       ...   \n245                 0.6                 0.1      0.1    0.166667  1.666667   \n246                 0.2                 0.1      0.1    0.500000  5.000000   \n247                 0.2                 0.1      0.1    0.500000  5.000000   \n248                 0.2                 0.1      0.1    0.500000  5.000000   \n249                 0.2                 0.1      0.1    0.500000  5.000000   \n\n     leverage  conviction  \n0        0.08        1.40  \n1        0.08        1.80  \n2       -0.02        0.80  \n3       -0.02        0.96  \n4       -0.02        0.80  \n..        ...         ...  \n245      0.04        1.08  \n246      0.08        1.80  \n247      0.08        1.80  \n248      0.08        1.80  \n249      0.08        1.80  \n\n[250 rows x 9 columns]"
          },
          "execution_count": 25,
          "metadata": {},
          "output_type": "execute_result"
        }
      ]
    },
    {
      "metadata": {
        "trusted": false,
        "id": "0b92744a",
        "outputId": "97ac1567-7f90-4654-9ef4-ff791f79f5b0"
      },
      "id": "0b92744a",
      "cell_type": "code",
      "source": [
        "# Lift Ratio > 1 is a good influential rule in selecting the associated transactions\n",
        "rules[rules.lift>1]"
      ],
      "execution_count": null,
      "outputs": [
        {
          "data": {
            "text/html": "<div>\n<style scoped>\n    .dataframe tbody tr th:only-of-type {\n        vertical-align: middle;\n    }\n\n    .dataframe tbody tr th {\n        vertical-align: top;\n    }\n\n    .dataframe thead th {\n        text-align: right;\n    }\n</style>\n<table border=\"1\" class=\"dataframe\">\n  <thead>\n    <tr style=\"text-align: right;\">\n      <th></th>\n      <th>antecedents</th>\n      <th>consequents</th>\n      <th>antecedent support</th>\n      <th>consequent support</th>\n      <th>support</th>\n      <th>confidence</th>\n      <th>lift</th>\n      <th>leverage</th>\n      <th>conviction</th>\n    </tr>\n  </thead>\n  <tbody>\n    <tr>\n      <th>0</th>\n      <td>(Gladiator)</td>\n      <td>(Sixth Sense)</td>\n      <td>0.7</td>\n      <td>0.6</td>\n      <td>0.5</td>\n      <td>0.714286</td>\n      <td>1.190476</td>\n      <td>0.08</td>\n      <td>1.40</td>\n    </tr>\n    <tr>\n      <th>1</th>\n      <td>(Sixth Sense)</td>\n      <td>(Gladiator)</td>\n      <td>0.6</td>\n      <td>0.7</td>\n      <td>0.5</td>\n      <td>0.833333</td>\n      <td>1.190476</td>\n      <td>0.08</td>\n      <td>1.80</td>\n    </tr>\n    <tr>\n      <th>6</th>\n      <td>(Patriot)</td>\n      <td>(Sixth Sense)</td>\n      <td>0.6</td>\n      <td>0.6</td>\n      <td>0.4</td>\n      <td>0.666667</td>\n      <td>1.111111</td>\n      <td>0.04</td>\n      <td>1.20</td>\n    </tr>\n    <tr>\n      <th>7</th>\n      <td>(Sixth Sense)</td>\n      <td>(Patriot)</td>\n      <td>0.6</td>\n      <td>0.6</td>\n      <td>0.4</td>\n      <td>0.666667</td>\n      <td>1.111111</td>\n      <td>0.04</td>\n      <td>1.20</td>\n    </tr>\n    <tr>\n      <th>10</th>\n      <td>(LOTR)</td>\n      <td>(Sixth Sense)</td>\n      <td>0.1</td>\n      <td>0.6</td>\n      <td>0.1</td>\n      <td>1.000000</td>\n      <td>1.666667</td>\n      <td>0.04</td>\n      <td>inf</td>\n    </tr>\n    <tr>\n      <th>...</th>\n      <td>...</td>\n      <td>...</td>\n      <td>...</td>\n      <td>...</td>\n      <td>...</td>\n      <td>...</td>\n      <td>...</td>\n      <td>...</td>\n      <td>...</td>\n    </tr>\n    <tr>\n      <th>245</th>\n      <td>(Sixth Sense)</td>\n      <td>(Harry Potter1, LOTR2, LOTR1, Green Mile)</td>\n      <td>0.6</td>\n      <td>0.1</td>\n      <td>0.1</td>\n      <td>0.166667</td>\n      <td>1.666667</td>\n      <td>0.04</td>\n      <td>1.08</td>\n    </tr>\n    <tr>\n      <th>246</th>\n      <td>(Harry Potter1)</td>\n      <td>(LOTR2, LOTR1, Green Mile, Sixth Sense)</td>\n      <td>0.2</td>\n      <td>0.1</td>\n      <td>0.1</td>\n      <td>0.500000</td>\n      <td>5.000000</td>\n      <td>0.08</td>\n      <td>1.80</td>\n    </tr>\n    <tr>\n      <th>247</th>\n      <td>(LOTR1)</td>\n      <td>(Harry Potter1, LOTR2, Green Mile, Sixth Sense)</td>\n      <td>0.2</td>\n      <td>0.1</td>\n      <td>0.1</td>\n      <td>0.500000</td>\n      <td>5.000000</td>\n      <td>0.08</td>\n      <td>1.80</td>\n    </tr>\n    <tr>\n      <th>248</th>\n      <td>(Green Mile)</td>\n      <td>(Harry Potter1, LOTR2, LOTR1, Sixth Sense)</td>\n      <td>0.2</td>\n      <td>0.1</td>\n      <td>0.1</td>\n      <td>0.500000</td>\n      <td>5.000000</td>\n      <td>0.08</td>\n      <td>1.80</td>\n    </tr>\n    <tr>\n      <th>249</th>\n      <td>(LOTR2)</td>\n      <td>(Harry Potter1, LOTR1, Green Mile, Sixth Sense)</td>\n      <td>0.2</td>\n      <td>0.1</td>\n      <td>0.1</td>\n      <td>0.500000</td>\n      <td>5.000000</td>\n      <td>0.08</td>\n      <td>1.80</td>\n    </tr>\n  </tbody>\n</table>\n<p>236 rows × 9 columns</p>\n</div>",
            "text/plain": "         antecedents                                      consequents  \\\n0        (Gladiator)                                    (Sixth Sense)   \n1      (Sixth Sense)                                      (Gladiator)   \n6          (Patriot)                                    (Sixth Sense)   \n7      (Sixth Sense)                                        (Patriot)   \n10            (LOTR)                                    (Sixth Sense)   \n..               ...                                              ...   \n245    (Sixth Sense)        (Harry Potter1, LOTR2, LOTR1, Green Mile)   \n246  (Harry Potter1)          (LOTR2, LOTR1, Green Mile, Sixth Sense)   \n247          (LOTR1)  (Harry Potter1, LOTR2, Green Mile, Sixth Sense)   \n248     (Green Mile)       (Harry Potter1, LOTR2, LOTR1, Sixth Sense)   \n249          (LOTR2)  (Harry Potter1, LOTR1, Green Mile, Sixth Sense)   \n\n     antecedent support  consequent support  support  confidence      lift  \\\n0                   0.7                 0.6      0.5    0.714286  1.190476   \n1                   0.6                 0.7      0.5    0.833333  1.190476   \n6                   0.6                 0.6      0.4    0.666667  1.111111   \n7                   0.6                 0.6      0.4    0.666667  1.111111   \n10                  0.1                 0.6      0.1    1.000000  1.666667   \n..                  ...                 ...      ...         ...       ...   \n245                 0.6                 0.1      0.1    0.166667  1.666667   \n246                 0.2                 0.1      0.1    0.500000  5.000000   \n247                 0.2                 0.1      0.1    0.500000  5.000000   \n248                 0.2                 0.1      0.1    0.500000  5.000000   \n249                 0.2                 0.1      0.1    0.500000  5.000000   \n\n     leverage  conviction  \n0        0.08        1.40  \n1        0.08        1.80  \n6        0.04        1.20  \n7        0.04        1.20  \n10       0.04         inf  \n..        ...         ...  \n245      0.04        1.08  \n246      0.08        1.80  \n247      0.08        1.80  \n248      0.08        1.80  \n249      0.08        1.80  \n\n[236 rows x 9 columns]"
          },
          "execution_count": 26,
          "metadata": {},
          "output_type": "execute_result"
        }
      ]
    },
    {
      "metadata": {
        "trusted": false,
        "id": "fa1c89ce",
        "outputId": "cd1c3120-ad5b-4c47-b3e7-e67a741945fe"
      },
      "id": "fa1c89ce",
      "cell_type": "code",
      "source": [
        "# visualization of obtained rule\n",
        "plt.scatter(rules['support'],rules['confidence'])\n",
        "plt.xlabel('support')\n",
        "plt.ylabel('confidence')\n",
        "plt.show()"
      ],
      "execution_count": null,
      "outputs": [
        {
          "data": {
            "image/png": "[encoded data removed]",
            "text/plain": "<Figure size 432x288 with 1 Axes>"
          },
          "metadata": {
            "needs_background": "light"
          },
          "output_type": "display_data"
        }
      ]
    },
    {
      "metadata": {
        "id": "5bbb8003"
      },
      "id": "5bbb8003",
      "cell_type": "markdown",
      "source": [
        "### 2. Association rules with 5% Support and 90% confidence"
      ]
    },
    {
      "metadata": {
        "trusted": false,
        "id": "48ac507e",
        "outputId": "bdf85a7e-e677-42ed-b607-dca0e2d9f9ca"
      },
      "id": "48ac507e",
      "cell_type": "code",
      "source": [
        "# with 5% support\n",
        "frequent_itemsets2=apriori(movie2,min_support=0.05,use_colnames=True)\n",
        "frequent_itemsets2"
      ],
      "execution_count": null,
      "outputs": [
        {
          "data": {
            "text/html": "<div>\n<style scoped>\n    .dataframe tbody tr th:only-of-type {\n        vertical-align: middle;\n    }\n\n    .dataframe tbody tr th {\n        vertical-align: top;\n    }\n\n    .dataframe thead th {\n        text-align: right;\n    }\n</style>\n<table border=\"1\" class=\"dataframe\">\n  <thead>\n    <tr style=\"text-align: right;\">\n      <th></th>\n      <th>support</th>\n      <th>itemsets</th>\n    </tr>\n  </thead>\n  <tbody>\n    <tr>\n      <th>0</th>\n      <td>0.6</td>\n      <td>(Sixth Sense)</td>\n    </tr>\n    <tr>\n      <th>1</th>\n      <td>0.7</td>\n      <td>(Gladiator)</td>\n    </tr>\n    <tr>\n      <th>2</th>\n      <td>0.2</td>\n      <td>(LOTR1)</td>\n    </tr>\n    <tr>\n      <th>3</th>\n      <td>0.2</td>\n      <td>(Harry Potter1)</td>\n    </tr>\n    <tr>\n      <th>4</th>\n      <td>0.6</td>\n      <td>(Patriot)</td>\n    </tr>\n    <tr>\n      <th>5</th>\n      <td>0.2</td>\n      <td>(LOTR2)</td>\n    </tr>\n    <tr>\n      <th>6</th>\n      <td>0.1</td>\n      <td>(Harry Potter2)</td>\n    </tr>\n    <tr>\n      <th>7</th>\n      <td>0.1</td>\n      <td>(LOTR)</td>\n    </tr>\n    <tr>\n      <th>8</th>\n      <td>0.1</td>\n      <td>(Braveheart)</td>\n    </tr>\n    <tr>\n      <th>9</th>\n      <td>0.2</td>\n      <td>(Green Mile)</td>\n    </tr>\n    <tr>\n      <th>10</th>\n      <td>0.5</td>\n      <td>(Gladiator, Sixth Sense)</td>\n    </tr>\n    <tr>\n      <th>11</th>\n      <td>0.1</td>\n      <td>(LOTR1, Sixth Sense)</td>\n    </tr>\n    <tr>\n      <th>12</th>\n      <td>0.1</td>\n      <td>(Harry Potter1, Sixth Sense)</td>\n    </tr>\n    <tr>\n      <th>13</th>\n      <td>0.4</td>\n      <td>(Patriot, Sixth Sense)</td>\n    </tr>\n    <tr>\n      <th>14</th>\n      <td>0.1</td>\n      <td>(LOTR2, Sixth Sense)</td>\n    </tr>\n    <tr>\n      <th>15</th>\n      <td>0.1</td>\n      <td>(LOTR, Sixth Sense)</td>\n    </tr>\n    <tr>\n      <th>16</th>\n      <td>0.2</td>\n      <td>(Green Mile, Sixth Sense)</td>\n    </tr>\n    <tr>\n      <th>17</th>\n      <td>0.6</td>\n      <td>(Gladiator, Patriot)</td>\n    </tr>\n    <tr>\n      <th>18</th>\n      <td>0.1</td>\n      <td>(Gladiator, LOTR)</td>\n    </tr>\n    <tr>\n      <th>19</th>\n      <td>0.1</td>\n      <td>(Gladiator, Braveheart)</td>\n    </tr>\n    <tr>\n      <th>20</th>\n      <td>0.1</td>\n      <td>(Gladiator, Green Mile)</td>\n    </tr>\n    <tr>\n      <th>21</th>\n      <td>0.1</td>\n      <td>(Harry Potter1, LOTR1)</td>\n    </tr>\n    <tr>\n      <th>22</th>\n      <td>0.2</td>\n      <td>(LOTR2, LOTR1)</td>\n    </tr>\n    <tr>\n      <th>23</th>\n      <td>0.1</td>\n      <td>(LOTR1, Green Mile)</td>\n    </tr>\n    <tr>\n      <th>24</th>\n      <td>0.1</td>\n      <td>(Harry Potter1, LOTR2)</td>\n    </tr>\n    <tr>\n      <th>25</th>\n      <td>0.1</td>\n      <td>(Harry Potter1, Harry Potter2)</td>\n    </tr>\n    <tr>\n      <th>26</th>\n      <td>0.1</td>\n      <td>(Harry Potter1, Green Mile)</td>\n    </tr>\n    <tr>\n      <th>27</th>\n      <td>0.1</td>\n      <td>(Patriot, Braveheart)</td>\n    </tr>\n    <tr>\n      <th>28</th>\n      <td>0.1</td>\n      <td>(LOTR2, Green Mile)</td>\n    </tr>\n    <tr>\n      <th>29</th>\n      <td>0.1</td>\n      <td>(LOTR, Green Mile)</td>\n    </tr>\n    <tr>\n      <th>30</th>\n      <td>0.4</td>\n      <td>(Gladiator, Patriot, Sixth Sense)</td>\n    </tr>\n    <tr>\n      <th>31</th>\n      <td>0.1</td>\n      <td>(Gladiator, LOTR, Sixth Sense)</td>\n    </tr>\n    <tr>\n      <th>32</th>\n      <td>0.1</td>\n      <td>(Gladiator, Green Mile, Sixth Sense)</td>\n    </tr>\n    <tr>\n      <th>33</th>\n      <td>0.1</td>\n      <td>(Harry Potter1, LOTR1, Sixth Sense)</td>\n    </tr>\n    <tr>\n      <th>34</th>\n      <td>0.1</td>\n      <td>(LOTR2, LOTR1, Sixth Sense)</td>\n    </tr>\n    <tr>\n      <th>35</th>\n      <td>0.1</td>\n      <td>(LOTR1, Green Mile, Sixth Sense)</td>\n    </tr>\n    <tr>\n      <th>36</th>\n      <td>0.1</td>\n      <td>(Harry Potter1, LOTR2, Sixth Sense)</td>\n    </tr>\n    <tr>\n      <th>37</th>\n      <td>0.1</td>\n      <td>(Harry Potter1, Green Mile, Sixth Sense)</td>\n    </tr>\n    <tr>\n      <th>38</th>\n      <td>0.1</td>\n      <td>(LOTR2, Green Mile, Sixth Sense)</td>\n    </tr>\n    <tr>\n      <th>39</th>\n      <td>0.1</td>\n      <td>(LOTR, Green Mile, Sixth Sense)</td>\n    </tr>\n    <tr>\n      <th>40</th>\n      <td>0.1</td>\n      <td>(Gladiator, Patriot, Braveheart)</td>\n    </tr>\n    <tr>\n      <th>41</th>\n      <td>0.1</td>\n      <td>(Gladiator, Green Mile, LOTR)</td>\n    </tr>\n    <tr>\n      <th>42</th>\n      <td>0.1</td>\n      <td>(Harry Potter1, LOTR2, LOTR1)</td>\n    </tr>\n    <tr>\n      <th>43</th>\n      <td>0.1</td>\n      <td>(Harry Potter1, LOTR1, Green Mile)</td>\n    </tr>\n    <tr>\n      <th>44</th>\n      <td>0.1</td>\n      <td>(LOTR2, LOTR1, Green Mile)</td>\n    </tr>\n    <tr>\n      <th>45</th>\n      <td>0.1</td>\n      <td>(Harry Potter1, LOTR2, Green Mile)</td>\n    </tr>\n    <tr>\n      <th>46</th>\n      <td>0.1</td>\n      <td>(Gladiator, Green Mile, LOTR, Sixth Sense)</td>\n    </tr>\n    <tr>\n      <th>47</th>\n      <td>0.1</td>\n      <td>(Harry Potter1, LOTR2, LOTR1, Sixth Sense)</td>\n    </tr>\n    <tr>\n      <th>48</th>\n      <td>0.1</td>\n      <td>(Harry Potter1, LOTR1, Green Mile, Sixth Sense)</td>\n    </tr>\n    <tr>\n      <th>49</th>\n      <td>0.1</td>\n      <td>(LOTR2, LOTR1, Green Mile, Sixth Sense)</td>\n    </tr>\n    <tr>\n      <th>50</th>\n      <td>0.1</td>\n      <td>(Harry Potter1, LOTR2, Green Mile, Sixth Sense)</td>\n    </tr>\n    <tr>\n      <th>51</th>\n      <td>0.1</td>\n      <td>(Harry Potter1, LOTR2, LOTR1, Green Mile)</td>\n    </tr>\n    <tr>\n      <th>52</th>\n      <td>0.1</td>\n      <td>(Sixth Sense, Harry Potter1, LOTR1, Green Mile...</td>\n    </tr>\n  </tbody>\n</table>\n</div>",
            "text/plain": "    support                                           itemsets\n0       0.6                                      (Sixth Sense)\n1       0.7                                        (Gladiator)\n2       0.2                                            (LOTR1)\n3       0.2                                    (Harry Potter1)\n4       0.6                                          (Patriot)\n5       0.2                                            (LOTR2)\n6       0.1                                    (Harry Potter2)\n7       0.1                                             (LOTR)\n8       0.1                                       (Braveheart)\n9       0.2                                       (Green Mile)\n10      0.5                           (Gladiator, Sixth Sense)\n11      0.1                               (LOTR1, Sixth Sense)\n12      0.1                       (Harry Potter1, Sixth Sense)\n13      0.4                             (Patriot, Sixth Sense)\n14      0.1                               (LOTR2, Sixth Sense)\n15      0.1                                (LOTR, Sixth Sense)\n16      0.2                          (Green Mile, Sixth Sense)\n17      0.6                               (Gladiator, Patriot)\n18      0.1                                  (Gladiator, LOTR)\n19      0.1                            (Gladiator, Braveheart)\n20      0.1                            (Gladiator, Green Mile)\n21      0.1                             (Harry Potter1, LOTR1)\n22      0.2                                     (LOTR2, LOTR1)\n23      0.1                                (LOTR1, Green Mile)\n24      0.1                             (Harry Potter1, LOTR2)\n25      0.1                     (Harry Potter1, Harry Potter2)\n26      0.1                        (Harry Potter1, Green Mile)\n27      0.1                              (Patriot, Braveheart)\n28      0.1                                (LOTR2, Green Mile)\n29      0.1                                 (LOTR, Green Mile)\n30      0.4                  (Gladiator, Patriot, Sixth Sense)\n31      0.1                     (Gladiator, LOTR, Sixth Sense)\n32      0.1               (Gladiator, Green Mile, Sixth Sense)\n33      0.1                (Harry Potter1, LOTR1, Sixth Sense)\n34      0.1                        (LOTR2, LOTR1, Sixth Sense)\n35      0.1                   (LOTR1, Green Mile, Sixth Sense)\n36      0.1                (Harry Potter1, LOTR2, Sixth Sense)\n37      0.1           (Harry Potter1, Green Mile, Sixth Sense)\n38      0.1                   (LOTR2, Green Mile, Sixth Sense)\n39      0.1                    (LOTR, Green Mile, Sixth Sense)\n40      0.1                   (Gladiator, Patriot, Braveheart)\n41      0.1                      (Gladiator, Green Mile, LOTR)\n42      0.1                      (Harry Potter1, LOTR2, LOTR1)\n43      0.1                 (Harry Potter1, LOTR1, Green Mile)\n44      0.1                         (LOTR2, LOTR1, Green Mile)\n45      0.1                 (Harry Potter1, LOTR2, Green Mile)\n46      0.1         (Gladiator, Green Mile, LOTR, Sixth Sense)\n47      0.1         (Harry Potter1, LOTR2, LOTR1, Sixth Sense)\n48      0.1    (Harry Potter1, LOTR1, Green Mile, Sixth Sense)\n49      0.1            (LOTR2, LOTR1, Green Mile, Sixth Sense)\n50      0.1    (Harry Potter1, LOTR2, Green Mile, Sixth Sense)\n51      0.1          (Harry Potter1, LOTR2, LOTR1, Green Mile)\n52      0.1  (Sixth Sense, Harry Potter1, LOTR1, Green Mile..."
          },
          "execution_count": 28,
          "metadata": {},
          "output_type": "execute_result"
        }
      ]
    },
    {
      "metadata": {
        "trusted": false,
        "id": "121526c4",
        "outputId": "35cd6ff4-a303-461e-cc20-5151e66a2db4"
      },
      "id": "121526c4",
      "cell_type": "code",
      "source": [
        "# 90% confidence\n",
        "rules2=association_rules(frequent_itemsets2,metric='lift',min_threshold=0.9)\n",
        "rules2"
      ],
      "execution_count": null,
      "outputs": [
        {
          "data": {
            "text/html": "<div>\n<style scoped>\n    .dataframe tbody tr th:only-of-type {\n        vertical-align: middle;\n    }\n\n    .dataframe tbody tr th {\n        vertical-align: top;\n    }\n\n    .dataframe thead th {\n        text-align: right;\n    }\n</style>\n<table border=\"1\" class=\"dataframe\">\n  <thead>\n    <tr style=\"text-align: right;\">\n      <th></th>\n      <th>antecedents</th>\n      <th>consequents</th>\n      <th>antecedent support</th>\n      <th>consequent support</th>\n      <th>support</th>\n      <th>confidence</th>\n      <th>lift</th>\n      <th>leverage</th>\n      <th>conviction</th>\n    </tr>\n  </thead>\n  <tbody>\n    <tr>\n      <th>0</th>\n      <td>(Gladiator)</td>\n      <td>(Sixth Sense)</td>\n      <td>0.7</td>\n      <td>0.6</td>\n      <td>0.5</td>\n      <td>0.714286</td>\n      <td>1.190476</td>\n      <td>0.08</td>\n      <td>1.40</td>\n    </tr>\n    <tr>\n      <th>1</th>\n      <td>(Sixth Sense)</td>\n      <td>(Gladiator)</td>\n      <td>0.6</td>\n      <td>0.7</td>\n      <td>0.5</td>\n      <td>0.833333</td>\n      <td>1.190476</td>\n      <td>0.08</td>\n      <td>1.80</td>\n    </tr>\n    <tr>\n      <th>2</th>\n      <td>(Patriot)</td>\n      <td>(Sixth Sense)</td>\n      <td>0.6</td>\n      <td>0.6</td>\n      <td>0.4</td>\n      <td>0.666667</td>\n      <td>1.111111</td>\n      <td>0.04</td>\n      <td>1.20</td>\n    </tr>\n    <tr>\n      <th>3</th>\n      <td>(Sixth Sense)</td>\n      <td>(Patriot)</td>\n      <td>0.6</td>\n      <td>0.6</td>\n      <td>0.4</td>\n      <td>0.666667</td>\n      <td>1.111111</td>\n      <td>0.04</td>\n      <td>1.20</td>\n    </tr>\n    <tr>\n      <th>4</th>\n      <td>(LOTR)</td>\n      <td>(Sixth Sense)</td>\n      <td>0.1</td>\n      <td>0.6</td>\n      <td>0.1</td>\n      <td>1.000000</td>\n      <td>1.666667</td>\n      <td>0.04</td>\n      <td>inf</td>\n    </tr>\n    <tr>\n      <th>...</th>\n      <td>...</td>\n      <td>...</td>\n      <td>...</td>\n      <td>...</td>\n      <td>...</td>\n      <td>...</td>\n      <td>...</td>\n      <td>...</td>\n      <td>...</td>\n    </tr>\n    <tr>\n      <th>233</th>\n      <td>(Sixth Sense)</td>\n      <td>(Harry Potter1, LOTR2, LOTR1, Green Mile)</td>\n      <td>0.6</td>\n      <td>0.1</td>\n      <td>0.1</td>\n      <td>0.166667</td>\n      <td>1.666667</td>\n      <td>0.04</td>\n      <td>1.08</td>\n    </tr>\n    <tr>\n      <th>234</th>\n      <td>(Harry Potter1)</td>\n      <td>(LOTR2, LOTR1, Green Mile, Sixth Sense)</td>\n      <td>0.2</td>\n      <td>0.1</td>\n      <td>0.1</td>\n      <td>0.500000</td>\n      <td>5.000000</td>\n      <td>0.08</td>\n      <td>1.80</td>\n    </tr>\n    <tr>\n      <th>235</th>\n      <td>(LOTR1)</td>\n      <td>(Harry Potter1, LOTR2, Green Mile, Sixth Sense)</td>\n      <td>0.2</td>\n      <td>0.1</td>\n      <td>0.1</td>\n      <td>0.500000</td>\n      <td>5.000000</td>\n      <td>0.08</td>\n      <td>1.80</td>\n    </tr>\n    <tr>\n      <th>236</th>\n      <td>(Green Mile)</td>\n      <td>(Harry Potter1, LOTR2, LOTR1, Sixth Sense)</td>\n      <td>0.2</td>\n      <td>0.1</td>\n      <td>0.1</td>\n      <td>0.500000</td>\n      <td>5.000000</td>\n      <td>0.08</td>\n      <td>1.80</td>\n    </tr>\n    <tr>\n      <th>237</th>\n      <td>(LOTR2)</td>\n      <td>(Harry Potter1, LOTR1, Green Mile, Sixth Sense)</td>\n      <td>0.2</td>\n      <td>0.1</td>\n      <td>0.1</td>\n      <td>0.500000</td>\n      <td>5.000000</td>\n      <td>0.08</td>\n      <td>1.80</td>\n    </tr>\n  </tbody>\n</table>\n<p>238 rows × 9 columns</p>\n</div>",
            "text/plain": "         antecedents                                      consequents  \\\n0        (Gladiator)                                    (Sixth Sense)   \n1      (Sixth Sense)                                      (Gladiator)   \n2          (Patriot)                                    (Sixth Sense)   \n3      (Sixth Sense)                                        (Patriot)   \n4             (LOTR)                                    (Sixth Sense)   \n..               ...                                              ...   \n233    (Sixth Sense)        (Harry Potter1, LOTR2, LOTR1, Green Mile)   \n234  (Harry Potter1)          (LOTR2, LOTR1, Green Mile, Sixth Sense)   \n235          (LOTR1)  (Harry Potter1, LOTR2, Green Mile, Sixth Sense)   \n236     (Green Mile)       (Harry Potter1, LOTR2, LOTR1, Sixth Sense)   \n237          (LOTR2)  (Harry Potter1, LOTR1, Green Mile, Sixth Sense)   \n\n     antecedent support  consequent support  support  confidence      lift  \\\n0                   0.7                 0.6      0.5    0.714286  1.190476   \n1                   0.6                 0.7      0.5    0.833333  1.190476   \n2                   0.6                 0.6      0.4    0.666667  1.111111   \n3                   0.6                 0.6      0.4    0.666667  1.111111   \n4                   0.1                 0.6      0.1    1.000000  1.666667   \n..                  ...                 ...      ...         ...       ...   \n233                 0.6                 0.1      0.1    0.166667  1.666667   \n234                 0.2                 0.1      0.1    0.500000  5.000000   \n235                 0.2                 0.1      0.1    0.500000  5.000000   \n236                 0.2                 0.1      0.1    0.500000  5.000000   \n237                 0.2                 0.1      0.1    0.500000  5.000000   \n\n     leverage  conviction  \n0        0.08        1.40  \n1        0.08        1.80  \n2        0.04        1.20  \n3        0.04        1.20  \n4        0.04         inf  \n..        ...         ...  \n233      0.04        1.08  \n234      0.08        1.80  \n235      0.08        1.80  \n236      0.08        1.80  \n237      0.08        1.80  \n\n[238 rows x 9 columns]"
          },
          "execution_count": 29,
          "metadata": {},
          "output_type": "execute_result"
        }
      ]
    },
    {
      "metadata": {
        "trusted": false,
        "id": "884880ff",
        "outputId": "a99672ac-76f5-40ec-e9f9-9492fcffb874"
      },
      "id": "884880ff",
      "cell_type": "code",
      "source": [
        "# Lift Ratio > 1 is a good influential rule in selecting the associated transactions\n",
        "rules2[rules2.lift>1]"
      ],
      "execution_count": null,
      "outputs": [
        {
          "data": {
            "text/html": "<div>\n<style scoped>\n    .dataframe tbody tr th:only-of-type {\n        vertical-align: middle;\n    }\n\n    .dataframe tbody tr th {\n        vertical-align: top;\n    }\n\n    .dataframe thead th {\n        text-align: right;\n    }\n</style>\n<table border=\"1\" class=\"dataframe\">\n  <thead>\n    <tr style=\"text-align: right;\">\n      <th></th>\n      <th>antecedents</th>\n      <th>consequents</th>\n      <th>antecedent support</th>\n      <th>consequent support</th>\n      <th>support</th>\n      <th>confidence</th>\n      <th>lift</th>\n      <th>leverage</th>\n      <th>conviction</th>\n    </tr>\n  </thead>\n  <tbody>\n    <tr>\n      <th>0</th>\n      <td>(Gladiator)</td>\n      <td>(Sixth Sense)</td>\n      <td>0.7</td>\n      <td>0.6</td>\n      <td>0.5</td>\n      <td>0.714286</td>\n      <td>1.190476</td>\n      <td>0.08</td>\n      <td>1.40</td>\n    </tr>\n    <tr>\n      <th>1</th>\n      <td>(Sixth Sense)</td>\n      <td>(Gladiator)</td>\n      <td>0.6</td>\n      <td>0.7</td>\n      <td>0.5</td>\n      <td>0.833333</td>\n      <td>1.190476</td>\n      <td>0.08</td>\n      <td>1.80</td>\n    </tr>\n    <tr>\n      <th>2</th>\n      <td>(Patriot)</td>\n      <td>(Sixth Sense)</td>\n      <td>0.6</td>\n      <td>0.6</td>\n      <td>0.4</td>\n      <td>0.666667</td>\n      <td>1.111111</td>\n      <td>0.04</td>\n      <td>1.20</td>\n    </tr>\n    <tr>\n      <th>3</th>\n      <td>(Sixth Sense)</td>\n      <td>(Patriot)</td>\n      <td>0.6</td>\n      <td>0.6</td>\n      <td>0.4</td>\n      <td>0.666667</td>\n      <td>1.111111</td>\n      <td>0.04</td>\n      <td>1.20</td>\n    </tr>\n    <tr>\n      <th>4</th>\n      <td>(LOTR)</td>\n      <td>(Sixth Sense)</td>\n      <td>0.1</td>\n      <td>0.6</td>\n      <td>0.1</td>\n      <td>1.000000</td>\n      <td>1.666667</td>\n      <td>0.04</td>\n      <td>inf</td>\n    </tr>\n    <tr>\n      <th>...</th>\n      <td>...</td>\n      <td>...</td>\n      <td>...</td>\n      <td>...</td>\n      <td>...</td>\n      <td>...</td>\n      <td>...</td>\n      <td>...</td>\n      <td>...</td>\n    </tr>\n    <tr>\n      <th>233</th>\n      <td>(Sixth Sense)</td>\n      <td>(Harry Potter1, LOTR2, LOTR1, Green Mile)</td>\n      <td>0.6</td>\n      <td>0.1</td>\n      <td>0.1</td>\n      <td>0.166667</td>\n      <td>1.666667</td>\n      <td>0.04</td>\n      <td>1.08</td>\n    </tr>\n    <tr>\n      <th>234</th>\n      <td>(Harry Potter1)</td>\n      <td>(LOTR2, LOTR1, Green Mile, Sixth Sense)</td>\n      <td>0.2</td>\n      <td>0.1</td>\n      <td>0.1</td>\n      <td>0.500000</td>\n      <td>5.000000</td>\n      <td>0.08</td>\n      <td>1.80</td>\n    </tr>\n    <tr>\n      <th>235</th>\n      <td>(LOTR1)</td>\n      <td>(Harry Potter1, LOTR2, Green Mile, Sixth Sense)</td>\n      <td>0.2</td>\n      <td>0.1</td>\n      <td>0.1</td>\n      <td>0.500000</td>\n      <td>5.000000</td>\n      <td>0.08</td>\n      <td>1.80</td>\n    </tr>\n    <tr>\n      <th>236</th>\n      <td>(Green Mile)</td>\n      <td>(Harry Potter1, LOTR2, LOTR1, Sixth Sense)</td>\n      <td>0.2</td>\n      <td>0.1</td>\n      <td>0.1</td>\n      <td>0.500000</td>\n      <td>5.000000</td>\n      <td>0.08</td>\n      <td>1.80</td>\n    </tr>\n    <tr>\n      <th>237</th>\n      <td>(LOTR2)</td>\n      <td>(Harry Potter1, LOTR1, Green Mile, Sixth Sense)</td>\n      <td>0.2</td>\n      <td>0.1</td>\n      <td>0.1</td>\n      <td>0.500000</td>\n      <td>5.000000</td>\n      <td>0.08</td>\n      <td>1.80</td>\n    </tr>\n  </tbody>\n</table>\n<p>236 rows × 9 columns</p>\n</div>",
            "text/plain": "         antecedents                                      consequents  \\\n0        (Gladiator)                                    (Sixth Sense)   \n1      (Sixth Sense)                                      (Gladiator)   \n2          (Patriot)                                    (Sixth Sense)   \n3      (Sixth Sense)                                        (Patriot)   \n4             (LOTR)                                    (Sixth Sense)   \n..               ...                                              ...   \n233    (Sixth Sense)        (Harry Potter1, LOTR2, LOTR1, Green Mile)   \n234  (Harry Potter1)          (LOTR2, LOTR1, Green Mile, Sixth Sense)   \n235          (LOTR1)  (Harry Potter1, LOTR2, Green Mile, Sixth Sense)   \n236     (Green Mile)       (Harry Potter1, LOTR2, LOTR1, Sixth Sense)   \n237          (LOTR2)  (Harry Potter1, LOTR1, Green Mile, Sixth Sense)   \n\n     antecedent support  consequent support  support  confidence      lift  \\\n0                   0.7                 0.6      0.5    0.714286  1.190476   \n1                   0.6                 0.7      0.5    0.833333  1.190476   \n2                   0.6                 0.6      0.4    0.666667  1.111111   \n3                   0.6                 0.6      0.4    0.666667  1.111111   \n4                   0.1                 0.6      0.1    1.000000  1.666667   \n..                  ...                 ...      ...         ...       ...   \n233                 0.6                 0.1      0.1    0.166667  1.666667   \n234                 0.2                 0.1      0.1    0.500000  5.000000   \n235                 0.2                 0.1      0.1    0.500000  5.000000   \n236                 0.2                 0.1      0.1    0.500000  5.000000   \n237                 0.2                 0.1      0.1    0.500000  5.000000   \n\n     leverage  conviction  \n0        0.08        1.40  \n1        0.08        1.80  \n2        0.04        1.20  \n3        0.04        1.20  \n4        0.04         inf  \n..        ...         ...  \n233      0.04        1.08  \n234      0.08        1.80  \n235      0.08        1.80  \n236      0.08        1.80  \n237      0.08        1.80  \n\n[236 rows x 9 columns]"
          },
          "execution_count": 30,
          "metadata": {},
          "output_type": "execute_result"
        }
      ]
    },
    {
      "metadata": {
        "trusted": false,
        "id": "f0935fb0",
        "outputId": "d5b1bc94-cfdb-4385-e933-c445dc6f23fa"
      },
      "id": "f0935fb0",
      "cell_type": "code",
      "source": [
        "# visualization of obtained rule\n",
        "plt.scatter(rules2['support'],rules2['confidence'])\n",
        "plt.xlabel('support')\n",
        "plt.ylabel('confidence')\n",
        "plt.show()"
      ],
      "execution_count": null,
      "outputs": [
        {
          "data": {
            "image/png": "[encoded data removed]",
            "text/plain": "<Figure size 432x288 with 1 Axes>"
          },
          "metadata": {
            "needs_background": "light"
          },
          "output_type": "display_data"
        }
      ]
    },
    {
      "metadata": {
        "trusted": false,
        "id": "3b58216a"
      },
      "id": "3b58216a",
      "cell_type": "code",
      "source": [],
      "execution_count": null,
      "outputs": []
    }
  ],
  "metadata": {
    "kernelspec": {
      "name": "python3",
      "display_name": "Python 3",
      "language": "python"
    },
    "language_info": {
      "name": "python",
      "version": "3.8.8",
      "mimetype": "text/x-python",
      "codemirror_mode": {
        "name": "ipython",
        "version": 3
      },
      "pygments_lexer": "ipython3",
      "nbconvert_exporter": "python",
      "file_extension": ".py"
    },
    "toc": {
      "nav_menu": {},
      "number_sections": true,
      "sideBar": true,
      "skip_h1_title": false,
      "base_numbering": 1,
      "title_cell": "Table of Contents",
      "title_sidebar": "Contents",
      "toc_cell": false,
      "toc_position": {},
      "toc_section_display": true,
      "toc_window_display": false
    },
    "gist": {
      "id": "",
      "data": {
        "description": "Association Rule assignment.ipynb",
        "public": true
      }
    },
    "colab": {
      "provenance": [],
      "include_colab_link": true
    }
  },
  "nbformat": 4,
  "nbformat_minor": 5
}