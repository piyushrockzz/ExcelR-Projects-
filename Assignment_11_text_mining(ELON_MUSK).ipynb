{
  "nbformat": 4,
  "nbformat_minor": 0,
  "metadata": {
    "colab": {
      "provenance": [],
      "authorship_tag": "ABX9TyM9afJOn2oanzb7XlphBG/U",
      "include_colab_link": true
    },
    "kernelspec": {
      "name": "python3",
      "display_name": "Python 3"
    },
    "language_info": {
      "name": "python"
    }
  },
  "cells": [
    {
      "cell_type": "markdown",
      "metadata": {
        "id": "view-in-github",
        "colab_type": "text"
      },
      "source": [
        "<a href=\"https://colab.research.google.com/github/piyushrockzz/ExcelR-Projects-/blob/main/Assignment_11_text_mining(ELON_MUSK).ipynb\" target=\"_parent\"><img src=\"https://colab.research.google.com/assets/colab-badge.svg\" alt=\"Open In Colab\"/></a>"
      ]
    },
    {
      "cell_type": "code",
      "execution_count": 2,
      "metadata": {
        "id": "72yOxM2BTy-r"
      },
      "outputs": [],
      "source": [
        "import pandas as pd\n",
        "import numpy as np\n",
        "import re\n",
        "import nltk\n",
        "from nltk.sentiment import SentimentIntensityAnalyzer"
      ]
    },
    {
      "cell_type": "code",
      "source": [
        "data = pd.read_csv(\"/content/Elon_musk.csv\", encoding='latin1')"
      ],
      "metadata": {
        "id": "vSWZfCrjUR-g"
      },
      "execution_count": 6,
      "outputs": []
    },
    {
      "cell_type": "code",
      "source": [
        "def preprocess_tweet(tweet):\n",
        "    # Remove URLs\n",
        "    tweet = re.sub(r\"http\\S+|www\\S+|https\\S+\", \"\", tweet, flags=re.MULTILINE)\n",
        "    # Remove mentions and hashtags\n",
        "    tweet = re.sub(r'\\@\\w+|\\#', '', tweet)\n",
        "    # Remove special characters and numbers\n",
        "    tweet = re.sub(r\"[^\\w\\s]\", \"\", tweet)\n",
        "    tweet = re.sub(r\"\\d+\", \"\", tweet)\n",
        "    # Convert to lowercase\n",
        "    tweet = tweet.lower()\n",
        "    return tweet"
      ],
      "metadata": {
        "id": "l4XnRvZuVuad"
      },
      "execution_count": 7,
      "outputs": []
    },
    {
      "cell_type": "code",
      "source": [
        "data['Cleaned Text'] = data['Text'].apply(preprocess_tweet)"
      ],
      "metadata": {
        "id": "RGG-oY_6Uzk5"
      },
      "execution_count": 9,
      "outputs": []
    },
    {
      "cell_type": "code",
      "source": [
        "print(data.columns)"
      ],
      "metadata": {
        "colab": {
          "base_uri": "https://localhost:8080/"
        },
        "id": "m6IuThtFWAqE",
        "outputId": "3e6cfb48-943b-4a04-828d-ceadd4d26bf1"
      },
      "execution_count": 10,
      "outputs": [
        {
          "output_type": "stream",
          "name": "stdout",
          "text": [
            "Index(['Unnamed: 0', 'Text', 'Cleaned Text'], dtype='object')\n"
          ]
        }
      ]
    },
    {
      "cell_type": "code",
      "source": [
        "nltk.download('vader_lexicon')\n",
        "\n",
        "sia = SentimentIntensityAnalyzer()\n",
        "\n",
        "def get_sentiment_score(tweet):\n",
        "    sentiment = sia.polarity_scores(tweet)\n",
        "    return sentiment['compound']\n",
        "\n",
        "data['Sentiment Score'] = data['Cleaned Text'].apply(get_sentiment_score)\n"
      ],
      "metadata": {
        "colab": {
          "base_uri": "https://localhost:8080/"
        },
        "id": "JFuX1OZWWQRj",
        "outputId": "5154d195-6a55-4fd1-f0c8-54d8bb2e49d9"
      },
      "execution_count": 11,
      "outputs": [
        {
          "output_type": "stream",
          "name": "stderr",
          "text": [
            "[nltk_data] Downloading package vader_lexicon to /root/nltk_data...\n"
          ]
        }
      ]
    },
    {
      "cell_type": "code",
      "source": [
        "positive_tweets = data[data['Sentiment Score'] > 0]\n",
        "negative_tweets = data[data['Sentiment Score'] < 0]\n",
        "neutral_tweets = data[data['Sentiment Score'] == 0]"
      ],
      "metadata": {
        "id": "4E-2qVLmWhGi"
      },
      "execution_count": 13,
      "outputs": []
    },
    {
      "cell_type": "code",
      "source": [
        "print(\"Number of positive tweets:\", len(positive_tweets))\n",
        "print(\"Number of negative tweets:\", len(negative_tweets))\n",
        "print(\"Number of neutral tweets:\", len(neutral_tweets))"
      ],
      "metadata": {
        "colab": {
          "base_uri": "https://localhost:8080/"
        },
        "id": "n0mOkrUVWnYQ",
        "outputId": "dffd817f-7137-47a9-909a-113a7debe74a"
      },
      "execution_count": 14,
      "outputs": [
        {
          "output_type": "stream",
          "name": "stdout",
          "text": [
            "Number of positive tweets: 883\n",
            "Number of negative tweets: 241\n",
            "Number of neutral tweets: 875\n"
          ]
        }
      ]
    },
    {
      "cell_type": "code",
      "source": [],
      "metadata": {
        "id": "YEJmv0olUo83"
      },
      "execution_count": null,
      "outputs": []
    }
  ]
}