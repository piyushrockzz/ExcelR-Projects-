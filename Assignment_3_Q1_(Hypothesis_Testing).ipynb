{
  "nbformat": 4,
  "nbformat_minor": 0,
  "metadata": {
    "colab": {
      "provenance": [],
      "authorship_tag": "ABX9TyPz+M8Ja3K7M0rpmhBwsU8F",
      "include_colab_link": true
    },
    "kernelspec": {
      "name": "python3",
      "display_name": "Python 3"
    },
    "language_info": {
      "name": "python"
    }
  },
  "cells": [
    {
      "cell_type": "markdown",
      "metadata": {
        "id": "view-in-github",
        "colab_type": "text"
      },
      "source": [
        "<a href=\"https://colab.research.google.com/github/piyushrockzz/ExcelR-Projects-/blob/main/Assignment_3_Q1_(Hypothesis_Testing).ipynb\" target=\"_parent\"><img src=\"https://colab.research.google.com/assets/colab-badge.svg\" alt=\"Open In Colab\"/></a>"
      ]
    },
    {
      "cell_type": "code",
      "execution_count": 1,
      "metadata": {
        "id": "bXKveRaUqlED"
      },
      "outputs": [],
      "source": [
        "import scipy.stats as stats\n",
        "import numpy as np"
      ]
    },
    {
      "cell_type": "code",
      "source": [
        "# Diameter measurements for Unit A and Unit B\n",
        "unit_a = [6.809, 6.4376, 6.9157, 7.3012, 7.4488, 7.3871, 6.8755, 7.0621, 6.684, 6.8236,\n",
        "          7.393, 7.5169, 6.9246, 6.9256, 6.5797, 6.8394, 6.597, 7.2705, 7.2828, 7.3495,\n",
        "          6.9438, 7.156, 6.5341, 7.2854, 6.9952, 6.8568, 7.2163, 6.6801, 6.9431, 7.0852,\n",
        "          6.7794, 7.2783, 7.1561, 7.3943, 6.9405]"
      ],
      "metadata": {
        "id": "pbY4_llwqpzb"
      },
      "execution_count": 2,
      "outputs": []
    },
    {
      "cell_type": "code",
      "source": [
        "unit_b = [6.7703, 7.5093, 6.73, 6.7878, 7.1522, 6.811, 7.2212, 6.6606, 7.2402, 7.0503,\n",
        "          6.881, 7.4059, 6.7652, 6.038, 7.1581, 7.024, 6.6672, 7.4314, 7.307, 6.7478,\n",
        "          6.8889, 7.422, 6.5217, 7.1688, 6.7594, 6.9399, 7.0133, 6.9182, 6.3346, 7.5459,\n",
        "          7.0992, 7.118, 6.6965, 6.578, 7.3875]"
      ],
      "metadata": {
        "id": "pZkIxEhpq-ET"
      },
      "execution_count": 3,
      "outputs": []
    },
    {
      "cell_type": "code",
      "source": [
        "# 1. Independence: Assumed that the samples are independent and Normally Distributed"
      ],
      "metadata": {
        "id": "eJzem-_OrdrA"
      },
      "execution_count": 5,
      "outputs": []
    },
    {
      "cell_type": "code",
      "source": [
        "# Perform two-sample t-test\n",
        "p_value_ttest = stats.ttest_ind(unit_a, unit_b)"
      ],
      "metadata": {
        "id": "n80hC6z0ru99"
      },
      "execution_count": 7,
      "outputs": []
    },
    {
      "cell_type": "code",
      "source": [
        "print(p_value_ttest)"
      ],
      "metadata": {
        "colab": {
          "base_uri": "https://localhost:8080/"
        },
        "id": "AmypeHZXsFCk",
        "outputId": "5a783ee6-f6ec-49df-d40b-197900ce11ff"
      },
      "execution_count": 9,
      "outputs": [
        {
          "output_type": "stream",
          "name": "stdout",
          "text": [
            "Ttest_indResult(statistic=0.7228688704678063, pvalue=0.4722394724599501)\n"
          ]
        }
      ]
    },
    {
      "cell_type": "code",
      "source": [
        "#comparing it with alpha value 0.05\n",
        "#P value is greater than significance level so we should go for the alternate hypothesis states that the diameter is not equal of unit a and unit b"
      ],
      "metadata": {
        "id": "-IcWAFHNsSiL"
      },
      "execution_count": null,
      "outputs": []
    }
  ]
}