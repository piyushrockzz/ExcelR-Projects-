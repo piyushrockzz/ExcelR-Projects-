{
  "nbformat": 4,
  "nbformat_minor": 0,
  "metadata": {
    "colab": {
      "provenance": [],
      "authorship_tag": "ABX9TyNjCfOoszgtL/FqcZfXu77V",
      "include_colab_link": true
    },
    "kernelspec": {
      "name": "python3",
      "display_name": "Python 3"
    },
    "language_info": {
      "name": "python"
    }
  },
  "cells": [
    {
      "cell_type": "markdown",
      "metadata": {
        "id": "view-in-github",
        "colab_type": "text"
      },
      "source": [
        "<a href=\"https://colab.research.google.com/github/piyushrockzz/ExcelR-Projects-/blob/main/Q8_and_Q9.ipynb\" target=\"_parent\"><img src=\"https://colab.research.google.com/assets/colab-badge.svg\" alt=\"Open In Colab\"/></a>"
      ]
    },
    {
      "cell_type": "code",
      "execution_count": 1,
      "metadata": {
        "colab": {
          "base_uri": "https://localhost:8080/"
        },
        "id": "0EK2AZmyDcCs",
        "outputId": "296b6e7e-ed85-4a28-a6d1-77a2f6f2ecf6"
      },
      "outputs": [
        {
          "output_type": "stream",
          "name": "stdout",
          "text": [
            "Sample size for 95% confidence level: 601\n",
            "Sample size for 98% confidence level: 849\n"
          ]
        }
      ],
      "source": [
        "import math"
      ]
    },
    {
      "cell_type": "code",
      "source": [
        "# Question 8\n",
        "confidence_level = 0.95\n",
        "margin_of_error = 0.04\n",
        "estimated_proportion = 0.5"
      ],
      "metadata": {
        "id": "7WCJOtcfEin3"
      },
      "execution_count": 3,
      "outputs": []
    },
    {
      "cell_type": "code",
      "source": [
        "z_score = 1.96  # For a 95% confidence level"
      ],
      "metadata": {
        "id": "zB7he8Z4EuaO"
      },
      "execution_count": 5,
      "outputs": []
    },
    {
      "cell_type": "code",
      "source": [
        "sample_size = math.ceil((z_score ** 2 * estimated_proportion * (1 - estimated_proportion)) / (margin_of_error ** 2))\n",
        "print(\"Sample size for 95% confidence level:\", sample_size)\n"
      ],
      "metadata": {
        "colab": {
          "base_uri": "https://localhost:8080/"
        },
        "id": "ifDbGc4LExP0",
        "outputId": "91c28e94-a507-42cd-cd9b-2cb6fb1ff28f"
      },
      "execution_count": 6,
      "outputs": [
        {
          "output_type": "stream",
          "name": "stdout",
          "text": [
            "Sample size for 95% confidence level: 601\n"
          ]
        }
      ]
    },
    {
      "cell_type": "code",
      "source": [
        "\n",
        "# Question 9\n",
        "confidence_level = 0.98\n",
        "z_score = 2.33  # For a 98% confidence level"
      ],
      "metadata": {
        "id": "F-bBMZ_oEx29"
      },
      "execution_count": 7,
      "outputs": []
    },
    {
      "cell_type": "code",
      "source": [
        "sample_size = math.ceil((z_score ** 2 * estimated_proportion * (1 - estimated_proportion)) / (margin_of_error ** 2))\n",
        "print(\"Sample size for 98% confidence level:\", sample_size)"
      ],
      "metadata": {
        "colab": {
          "base_uri": "https://localhost:8080/"
        },
        "id": "AufxIFXOE1nN",
        "outputId": "eef98aa8-7990-47d6-c135-a8501aba3927"
      },
      "execution_count": 9,
      "outputs": [
        {
          "output_type": "stream",
          "name": "stdout",
          "text": [
            "Sample size for 98% confidence level: 849\n"
          ]
        }
      ]
    }
  ]
}