{
  "nbformat": 4,
  "nbformat_minor": 0,
  "metadata": {
    "colab": {
      "provenance": [],
      "authorship_tag": "ABX9TyPRZ8ZxRAiXzs6BRywnaYae",
      "include_colab_link": true
    },
    "kernelspec": {
      "name": "python3",
      "display_name": "Python 3"
    },
    "language_info": {
      "name": "python"
    }
  },
  "cells": [
    {
      "cell_type": "markdown",
      "metadata": {
        "id": "view-in-github",
        "colab_type": "text"
      },
      "source": [
        "<a href=\"https://colab.research.google.com/github/piyushrockzz/ExcelR-Projects-/blob/main/Q12.ipynb\" target=\"_parent\"><img src=\"https://colab.research.google.com/assets/colab-badge.svg\" alt=\"Open In Colab\"/></a>"
      ]
    },
    {
      "cell_type": "code",
      "source": [
        "import statistics"
      ],
      "metadata": {
        "id": "4BKdKTMYFjvO"
      },
      "execution_count": 2,
      "outputs": []
    },
    {
      "cell_type": "code",
      "source": [
        "scores = [34, 36, 36, 38, 38, 39, 39, 40, 40, 41, 41, 41, 41, 42, 42, 45, 49, 56]"
      ],
      "metadata": {
        "id": "OVXZcU40FpON"
      },
      "execution_count": 3,
      "outputs": []
    },
    {
      "cell_type": "code",
      "source": [
        "mean_1= statistics.mean(scores)"
      ],
      "metadata": {
        "id": "yEjkhwY8FqDj"
      },
      "execution_count": 17,
      "outputs": []
    },
    {
      "cell_type": "code",
      "source": [
        "median_ = statistics.median(scores)"
      ],
      "metadata": {
        "id": "eaQCqhRvFwFM"
      },
      "execution_count": 18,
      "outputs": []
    },
    {
      "cell_type": "code",
      "source": [],
      "metadata": {
        "id": "8xbw83kaMVXj"
      },
      "execution_count": null,
      "outputs": []
    },
    {
      "cell_type": "code",
      "source": [
        "variance_= statistics.variance(scores)"
      ],
      "metadata": {
        "id": "it7Y-EnxF1ul"
      },
      "execution_count": 19,
      "outputs": []
    },
    {
      "cell_type": "code",
      "source": [
        "std= statistics.stdev(scores)"
      ],
      "metadata": {
        "id": "IWvFLIGmF5XP"
      },
      "execution_count": 20,
      "outputs": []
    },
    {
      "cell_type": "code",
      "source": [],
      "metadata": {
        "id": "mL8e0Wo2Ma1o"
      },
      "execution_count": null,
      "outputs": []
    },
    {
      "cell_type": "code",
      "source": [
        "print(\"variance\",median_)\n",
        "print(\"std\",std)\n",
        "print(\"mean\",mean_1)"
      ],
      "metadata": {
        "colab": {
          "base_uri": "https://localhost:8080/"
        },
        "id": "35ksif7DGQc5",
        "outputId": "02209316-f456-4251-fcab-a5c27cf205f8"
      },
      "execution_count": 22,
      "outputs": [
        {
          "output_type": "stream",
          "name": "stdout",
          "text": [
            "variance 40.5\n",
            "std 5.05266382858645\n",
            "mean 41\n"
          ]
        }
      ]
    },
    {
      "cell_type": "code",
      "source": [
        "# We can say by these statical measures the student marks are clustered around the value 40.\n",
        "#students marks have some variability "
      ],
      "metadata": {
        "id": "sTgRA_53NPMt"
      },
      "execution_count": null,
      "outputs": []
    },
    {
      "cell_type": "code",
      "source": [],
      "metadata": {
        "id": "KW5ZlgJBNBLl"
      },
      "execution_count": null,
      "outputs": []
    },
    {
      "cell_type": "code",
      "source": [],
      "metadata": {
        "id": "qsHlRWhvM74m"
      },
      "execution_count": null,
      "outputs": []
    },
    {
      "cell_type": "code",
      "source": [],
      "metadata": {
        "id": "5CXpKvERGBa4"
      },
      "execution_count": null,
      "outputs": []
    }
  ]
}