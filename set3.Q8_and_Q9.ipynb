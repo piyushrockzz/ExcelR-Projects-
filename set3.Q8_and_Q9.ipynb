{
  "nbformat": 4,
  "nbformat_minor": 0,
  "metadata": {
    "colab": {
      "provenance": [],
      "authorship_tag": "ABX9TyN+RstF30xrVM9X1SM/VQpy",
      "include_colab_link": true
    },
    "kernelspec": {
      "name": "python3",
      "display_name": "Python 3"
    },
    "language_info": {
      "name": "python"
    }
  },
  "cells": [
    {
      "cell_type": "markdown",
      "metadata": {
        "id": "view-in-github",
        "colab_type": "text"
      },
      "source": [
        "<a href=\"https://colab.research.google.com/github/piyushrockzz/ExcelR-Projects-/blob/main/set3.Q8_and_Q9.ipynb\" target=\"_parent\"><img src=\"https://colab.research.google.com/assets/colab-badge.svg\" alt=\"Open In Colab\"/></a>"
      ]
    },
    {
      "cell_type": "code",
      "execution_count": null,
      "metadata": {
        "id": "0EK2AZmyDcCs"
      },
      "outputs": [],
      "source": [
        "import math\n",
        "\n",
        "# Question 8\n",
        "confidence_level = 0.95\n",
        "margin_of_error = 0.04\n",
        "estimated_proportion = 0.5\n",
        "\n",
        "z_score = 1.96  # For a 95% confidence level\n",
        "\n",
        "sample_size = math.ceil((z_score ** 2 * estimated_proportion * (1 - estimated_proportion)) / (margin_of_error ** 2))\n",
        "print(\"Sample size for 95% confidence level:\", sample_size)\n",
        "\n",
        "# Question 9\n",
        "confidence_level = 0.98\n",
        "z_score = 2.33  # For a 98% confidence level\n",
        "\n",
        "sample_size = math.ceil((z_score ** 2 * estimated_proportion * (1 - estimated_proportion)) / (margin_of_error ** 2))\n",
        "print(\"Sample size for 98% confidence level:\", sample_size)"
      ]
    }
  ]
}